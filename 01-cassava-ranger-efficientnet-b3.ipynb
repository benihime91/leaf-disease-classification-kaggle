{
 "cells": [
  {
   "cell_type": "code",
   "execution_count": null,
   "metadata": {
    "_cell_guid": "b1076dfc-b9ad-4769-8c92-a6c4dae69d19",
    "_uuid": "8f2839f25d086af736a60e9eeb907d3b93b6e0e5"
   },
   "outputs": [],
   "source": [
    "!git clone https://github.com/benihime91/leaf-disease-classification-kaggle"
   ]
  },
  {
   "cell_type": "code",
   "execution_count": null,
   "metadata": {
    "_cell_guid": "79c7e3d0-c299-4dcb-8224-4455121ee9b0",
    "_uuid": "d629ff2d2480ee46fbb7e2d37f6b5fab8052498a"
   },
   "outputs": [],
   "source": [
    "import sys\n",
    "sys.path.append('../input/timmmodels/pytorch-image-models')\n",
    "sys.path.append('./leaf-disease-classification-kaggle/')"
   ]
  },
  {
   "cell_type": "markdown",
   "metadata": {},
   "source": [
    "## Ranger + Efficientnet-b3-ns + Flatten Anneal + Mish"
   ]
  },
  {
   "cell_type": "code",
   "execution_count": null,
   "metadata": {},
   "outputs": [],
   "source": [
    "%run leaf-disease-classification-kaggle/train.py \\\n",
    "      --fold 0 --seed 42 --dims 224 \\\n",
    "      --encoder 'tf_efficientnet_b3_ns' --mish \\\n",
    "      --opt 'ranger' --sched_type 'flat_cos' \\\n",
    "      --lr 4e-03 --wd 0.1 --pct_start 0.33 \\\n",
    "      --src './leaf-disease-classification-kaggle/data/fold_df.csv' \\\n",
    "      --ims '../input/cassava-leaf-disease-classification/train_images/'"
   ]
  },
  {
   "cell_type": "code",
   "execution_count": null,
   "metadata": {},
   "outputs": [],
   "source": [
    "%run leaf-disease-classification-kaggle/train.py \\\n",
    "      --fold 0 --seed 42 --dims 224 \\\n",
    "      --encoder 'tf_efficientnet_b3_ns' --mish \\\n",
    "      --opt 'ranger' --sched_type 'flat_cos' \\\n",
    "      --lr 4e-03 --wd 0.1 --pct_start 0.72 \\\n",
    "      --src './leaf-disease-classification-kaggle/data/fold_df.csv' \\\n",
    "      --ims '../input/cassava-leaf-disease-classification/train_images/'"
   ]
  },
  {
   "cell_type": "markdown",
   "metadata": {},
   "source": [
    "## Ranger + Efficientnet-b3-ns + Flatten Anneal"
   ]
  },
  {
   "cell_type": "code",
   "execution_count": null,
   "metadata": {},
   "outputs": [],
   "source": [
    "%run leaf-disease-classification-kaggle/train.py \\\n",
    "      --fold 0 --seed 42 --dims 224 \\\n",
    "      --encoder 'tf_efficientnet_b3_ns' \\\n",
    "      --opt 'ranger' --sched_type 'flat_cos' \\\n",
    "      --lr 4e-03 --wd 0.1 --pct_start 0.33 \\\n",
    "      --src './leaf-disease-classification-kaggle/data/fold_df.csv' \\\n",
    "      --ims '../input/cassava-leaf-disease-classification/train_images/'"
   ]
  },
  {
   "cell_type": "code",
   "execution_count": null,
   "metadata": {},
   "outputs": [],
   "source": [
    "%run leaf-disease-classification-kaggle/train.py \\\n",
    "      --fold 0 --seed 42 --dims 224 \\\n",
    "      --encoder 'tf_efficientnet_b3_ns' \\\n",
    "      --opt 'ranger' --sched_type 'flat_cos' \\\n",
    "      --lr 4e-03 --wd 0.1 --pct_start 0.72 \\\n",
    "      --src './leaf-disease-classification-kaggle/data/fold_df.csv' \\\n",
    "      --ims '../input/cassava-leaf-disease-classification/train_images/'"
   ]
  },
  {
   "cell_type": "markdown",
   "metadata": {},
   "source": [
    "## Ranger + Efficientnet-b3 + Flatten Anneal + Mish"
   ]
  },
  {
   "cell_type": "code",
   "execution_count": null,
   "metadata": {},
   "outputs": [],
   "source": [
    "%run leaf-disease-classification-kaggle/train.py \\\n",
    "      --fold 0 --seed 42 --dims 224 \\\n",
    "      --encoder 'tf_efficientnet_b3' --mish \\\n",
    "      --opt 'ranger' --sched_type 'flat_cos' \\\n",
    "      --lr 4e-03 --wd 0.1 --pct_start 0.33\\\n",
    "      --src './leaf-disease-classification-kaggle/data/fold_df.csv' \\\n",
    "      --ims '../input/cassava-leaf-disease-classification/train_images/'"
   ]
  },
  {
   "cell_type": "code",
   "execution_count": null,
   "metadata": {},
   "outputs": [],
   "source": [
    "%run leaf-disease-classification-kaggle/train.py \\\n",
    "      --fold 0 --seed 42 --dims 224 \\\n",
    "      --encoder 'tf_efficientnet_b3' --mish \\\n",
    "      --opt 'ranger' --sched_type 'flat_cos' \\\n",
    "      --lr 4e-03 --wd 0.1 --pct_start 0.72 \\\n",
    "      --src './leaf-disease-classification-kaggle/data/fold_df.csv' \\\n",
    "      --ims '../input/cassava-leaf-disease-classification/train_images/'"
   ]
  },
  {
   "cell_type": "markdown",
   "metadata": {},
   "source": [
    "## Ranger + Efficientnet-b3 + Flatten Anneal"
   ]
  },
  {
   "cell_type": "code",
   "execution_count": null,
   "metadata": {},
   "outputs": [],
   "source": [
    "%run leaf-disease-classification-kaggle/train.py \\\n",
    "      --fold 0 --seed 42 --dims 224 \\\n",
    "      --encoder 'tf_efficientnet_b3' \\\n",
    "      --opt 'ranger' --sched_type 'flat_cos' \\\n",
    "      --lr 4e-03 --wd 0.1 --pct_start 0.33 \\\n",
    "      --src './leaf-disease-classification-kaggle/data/fold_df.csv' \\\n",
    "      --ims '../input/cassava-leaf-disease-classification/train_images/'"
   ]
  },
  {
   "cell_type": "code",
   "execution_count": null,
   "metadata": {},
   "outputs": [],
   "source": [
    "%run leaf-disease-classification-kaggle/train.py \\\n",
    "      --fold 0 --seed 42 --dims 224 \\\n",
    "      --encoder 'tf_efficientnet_b3' \\\n",
    "      --opt 'ranger' --sched_type 'flat_cos' \\\n",
    "      --lr 4e-03 --wd 0.1 --pct_start 0.72 \\\n",
    "      --src './leaf-disease-classification-kaggle/data/fold_df.csv' \\\n",
    "      --ims '../input/cassava-leaf-disease-classification/train_images/'"
   ]
  }
 ],
 "metadata": {
  "kernelspec": {
   "display_name": "Python 3",
   "language": "python",
   "name": "python3"
  },
  "language_info": {
   "codemirror_mode": {
    "name": "ipython",
    "version": 3
   },
   "file_extension": ".py",
   "mimetype": "text/x-python",
   "name": "python",
   "nbconvert_exporter": "python",
   "pygments_lexer": "ipython3",
   "version": "3.7.3"
  }
 },
 "nbformat": 4,
 "nbformat_minor": 4
}
