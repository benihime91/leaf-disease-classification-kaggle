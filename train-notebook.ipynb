{
 "cells": [
  {
   "cell_type": "code",
   "execution_count": 1,
   "metadata": {
    "_kg_hide-output": true,
    "execution": {
     "iopub.execute_input": "2021-01-17T18:30:24.095021Z",
     "iopub.status.busy": "2021-01-17T18:30:24.094153Z",
     "iopub.status.idle": "2021-01-17T18:30:54.812978Z",
     "shell.execute_reply": "2021-01-17T18:30:54.812370Z"
    },
    "papermill": {
     "duration": 30.748531,
     "end_time": "2021-01-17T18:30:54.813122",
     "exception": false,
     "start_time": "2021-01-17T18:30:24.064591",
     "status": "completed"
    },
    "tags": []
   },
   "outputs": [
    {
     "name": "stdout",
     "output_type": "stream",
     "text": [
      "Cloning into 'leaf-disease-classification-kaggle'...\r\n",
      "remote: Enumerating objects: 66, done.\u001b[K\r\n",
      "remote: Counting objects: 100% (66/66), done.\u001b[K\r\n",
      "remote: Compressing objects: 100% (43/43), done.\u001b[K\r\n",
      "remote: Total 2376 (delta 31), reused 47 (delta 23), pack-reused 2310\u001b[K\r\n",
      "Receiving objects: 100% (2376/2376), 65.34 MiB | 28.15 MiB/s, done.\r\n",
      "Resolving deltas: 100% (1478/1478), done.\r\n",
      "\u001b[31mERROR: pip's dependency resolver does not currently take into account all the packages that are installed. This behaviour is the source of the following dependency conflicts.\r\n",
      "datashader 0.11.1 requires numba!=0.49.*,!=0.50.*,>=0.37.0, but you have numba 0.49.1 which is incompatible.\u001b[0m\r\n",
      "\u001b[33mWARNING: You are using pip version 20.3.1; however, version 20.3.3 is available.\r\n",
      "You should consider upgrading via the '/opt/conda/bin/python3.7 -m pip install --upgrade pip' command.\u001b[0m\r\n"
     ]
    }
   ],
   "source": [
    "!git clone https://github.com/benihime91/leaf-disease-classification-kaggle.git\n",
    "!pip install -r leaf-disease-classification-kaggle/requirements.txt --quiet"
   ]
  },
  {
   "cell_type": "code",
   "execution_count": 2,
   "metadata": {
    "_kg_hide-input": true,
    "_kg_hide-output": true,
    "execution": {
     "iopub.execute_input": "2021-01-17T18:30:54.885429Z",
     "iopub.status.busy": "2021-01-17T18:30:54.884620Z",
     "iopub.status.idle": "2021-01-17T18:30:57.184393Z",
     "shell.execute_reply": "2021-01-17T18:30:57.183320Z"
    },
    "papermill": {
     "duration": 2.337543,
     "end_time": "2021-01-17T18:30:57.184517",
     "exception": false,
     "start_time": "2021-01-17T18:30:54.846974",
     "status": "completed"
    },
    "tags": []
   },
   "outputs": [
    {
     "name": "stdout",
     "output_type": "stream",
     "text": [
      "\u001b[34m\u001b[1mwandb\u001b[0m: Appending key for api.wandb.ai to your netrc file: /root/.netrc\r\n"
     ]
    }
   ],
   "source": [
    "!wandb login a74f67fd5fae293e301ea8b6710ee0241f595a63"
   ]
  },
  {
   "cell_type": "code",
   "execution_count": 3,
   "metadata": {
    "execution": {
     "iopub.execute_input": "2021-01-17T18:30:57.260597Z",
     "iopub.status.busy": "2021-01-17T18:30:57.259825Z",
     "iopub.status.idle": "2021-01-17T18:30:57.263028Z",
     "shell.execute_reply": "2021-01-17T18:30:57.262467Z"
    },
    "papermill": {
     "duration": 0.043342,
     "end_time": "2021-01-17T18:30:57.263146",
     "exception": false,
     "start_time": "2021-01-17T18:30:57.219804",
     "status": "completed"
    },
    "tags": []
   },
   "outputs": [],
   "source": [
    "import os\n",
    "import sys\n",
    "import warnings\n",
    "\n",
    "warnings.filterwarnings(\"ignore\")\n",
    "sys.path.append(\"/kaggle/working/leaf-disease-classification-kaggle/\")\n",
    "os.chdir(\"/kaggle/working/leaf-disease-classification-kaggle/\")"
   ]
  },
  {
   "cell_type": "code",
   "execution_count": 4,
   "metadata": {
    "execution": {
     "iopub.execute_input": "2021-01-17T18:30:57.338207Z",
     "iopub.status.busy": "2021-01-17T18:30:57.337387Z",
     "iopub.status.idle": "2021-01-17T18:31:02.956012Z",
     "shell.execute_reply": "2021-01-17T18:31:02.955223Z"
    },
    "papermill": {
     "duration": 5.659659,
     "end_time": "2021-01-17T18:31:02.956174",
     "exception": false,
     "start_time": "2021-01-17T18:30:57.296515",
     "status": "completed"
    },
    "tags": []
   },
   "outputs": [],
   "source": [
    "!mkdir -p /root/.cache/torch/hub/checkpoints/\n",
    "!cp /kaggle/input/pytorch-pretrained-models/se_resnext101_32x4d-3b2fe3d8.pth /root/.cache/torch/hub/checkpoints/"
   ]
  },
  {
   "cell_type": "code",
   "execution_count": 5,
   "metadata": {
    "execution": {
     "iopub.execute_input": "2021-01-17T18:31:03.117173Z",
     "iopub.status.busy": "2021-01-17T18:31:03.116199Z",
     "iopub.status.idle": "2021-01-17T18:31:03.127525Z",
     "shell.execute_reply": "2021-01-17T18:31:03.128374Z"
    },
    "papermill": {
     "duration": 0.094323,
     "end_time": "2021-01-17T18:31:03.128566",
     "exception": false,
     "start_time": "2021-01-17T18:31:03.034243",
     "status": "completed"
    },
    "tags": []
   },
   "outputs": [],
   "source": [
    "import logging\n",
    "import colorlog\n",
    "\n",
    "format_str = (\n",
    "    \"[%(cyan)s%(asctime)s%(reset)s][%(purple)s%(levelname)s%(reset)s]: %(message)s\"\n",
    ")\n",
    "date_fmt = \"%m/%d/%Y %H:%M:%S\"\n",
    "\n",
    "colors = {\n",
    "    \"DEBUG\": \"purple\",\n",
    "    \"INFO\": \"green\",\n",
    "    \"WARNING\": \"yellow\",\n",
    "    \"ERROR\": \"red\",\n",
    "    \"CRITICAL\": \"red\",\n",
    "}\n",
    "\n",
    "formatter = colorlog.ColoredFormatter(format_str, date_fmt, log_colors=colors)\n",
    "stream_handler = logging.StreamHandler()\n",
    "stream_handler.setFormatter(formatter)\n",
    "\n",
    "logging.basicConfig(\n",
    "    format=format_str, datefmt=date_fmt, level=logging.INFO, handlers=[stream_handler]\n",
    ")"
   ]
  },
  {
   "cell_type": "code",
   "execution_count": 6,
   "metadata": {
    "execution": {
     "iopub.execute_input": "2021-01-17T18:31:03.237705Z",
     "iopub.status.busy": "2021-01-17T18:31:03.236873Z",
     "iopub.status.idle": "2021-01-17T18:31:03.240464Z",
     "shell.execute_reply": "2021-01-17T18:31:03.241103Z"
    },
    "papermill": {
     "duration": 0.062154,
     "end_time": "2021-01-17T18:31:03.241267",
     "exception": false,
     "start_time": "2021-01-17T18:31:03.179113",
     "status": "completed"
    },
    "tags": []
   },
   "outputs": [],
   "source": [
    "log = logging.getLogger(__name__)\n",
    "log.setLevel(logging.INFO)\n",
    "log.addHandler(stream_handler)"
   ]
  },
  {
   "cell_type": "markdown",
   "metadata": {
    "papermill": {
     "duration": 0.069788,
     "end_time": "2021-01-17T18:31:03.393691",
     "exception": false,
     "start_time": "2021-01-17T18:31:03.323903",
     "status": "completed"
    },
    "tags": []
   },
   "source": [
    "## Import Utilitites"
   ]
  },
  {
   "cell_type": "code",
   "execution_count": 7,
   "metadata": {
    "execution": {
     "iopub.execute_input": "2021-01-17T18:31:03.475248Z",
     "iopub.status.busy": "2021-01-17T18:31:03.474321Z",
     "iopub.status.idle": "2021-01-17T18:31:08.326940Z",
     "shell.execute_reply": "2021-01-17T18:31:08.325463Z"
    },
    "papermill": {
     "duration": 4.895919,
     "end_time": "2021-01-17T18:31:08.327061",
     "exception": false,
     "start_time": "2021-01-17T18:31:03.431142",
     "status": "completed"
    },
    "tags": []
   },
   "outputs": [],
   "source": [
    "from hydra.utils import instantiate\n",
    "from hydra.experimental import compose, initialize_config_dir\n",
    "from omegaconf import OmegaConf, DictConfig\n",
    "\n",
    "import gc\n",
    "import albumentations as A\n",
    "import wandb\n",
    "\n",
    "import torch\n",
    "import pytorch_lightning as pl\n",
    "from pytorch_lightning import Trainer\n",
    "from pytorch_lightning.callbacks import ModelCheckpoint\n",
    "from pytorch_lightning.loggers import WandbLogger\n",
    "\n",
    "from src.core import generate_random_id, seed_everything\n",
    "from src.layers import apply_init, replace_activs\n",
    "from src.lightning.core import LightningCassava\n",
    "from src.lightning.callbacks import (\n",
    "    WandbImageClassificationCallback,\n",
    "    PrintLogsCallback,\n",
    "    LitProgressBar,\n",
    ")"
   ]
  },
  {
   "cell_type": "markdown",
   "metadata": {
    "papermill": {
     "duration": 0.070765,
     "end_time": "2021-01-17T18:31:08.434601",
     "exception": false,
     "start_time": "2021-01-17T18:31:08.363836",
     "status": "completed"
    },
    "tags": []
   },
   "source": [
    "## Initialize the Hydra config using the `Compose API`"
   ]
  },
  {
   "cell_type": "code",
   "execution_count": 8,
   "metadata": {
    "execution": {
     "iopub.execute_input": "2021-01-17T18:31:08.519637Z",
     "iopub.status.busy": "2021-01-17T18:31:08.518783Z",
     "iopub.status.idle": "2021-01-17T18:31:09.198738Z",
     "shell.execute_reply": "2021-01-17T18:31:09.198159Z"
    },
    "papermill": {
     "duration": 0.729572,
     "end_time": "2021-01-17T18:31:09.198869",
     "exception": false,
     "start_time": "2021-01-17T18:31:08.469297",
     "status": "completed"
    },
    "tags": []
   },
   "outputs": [],
   "source": [
    "overrides = [\n",
    "    \"network=seresnext101-snapmix\",\n",
    "    \"mixmethod=snapmix\",\n",
    "    \"mixmethod.conf_prob=0.5\",\n",
    "    \"loss=bi-tempered-logistic-loss\",\n",
    "    \"optimizer=adamw\",\n",
    "    \"optimizer.weight_decay=0.1\",\n",
    "    \"scheduler=linear-warmup\",\n",
    "    \"augmentations=light-augs\",\n",
    "    \"datamodule.curr_fold=0\",\n",
    "    \"datamodule.num_workers=8\",\n",
    "    \"datamodule.bs=16\",\n",
    "    \"accumulate_batches=2\",\n",
    "    \"lr_mult=10\",\n",
    "    \"learning_rate=1e-03\",\n",
    "    \"num_epochs=10\",\n",
    "]\n",
    "\n",
    "with initialize_config_dir(\"/kaggle/working/leaf-disease-classification-kaggle/conf/\"):\n",
    "    conf = compose(\"17-01-20-seresnext101_32x4d\", overrides=overrides)"
   ]
  },
  {
   "cell_type": "code",
   "execution_count": 9,
   "metadata": {
    "_kg_hide-output": true,
    "execution": {
     "iopub.execute_input": "2021-01-17T18:31:09.284416Z",
     "iopub.status.busy": "2021-01-17T18:31:09.279236Z",
     "iopub.status.idle": "2021-01-17T18:31:09.303651Z",
     "shell.execute_reply": "2021-01-17T18:31:09.304181Z"
    },
    "papermill": {
     "duration": 0.068887,
     "end_time": "2021-01-17T18:31:09.304305",
     "exception": false,
     "start_time": "2021-01-17T18:31:09.235418",
     "status": "completed"
    },
    "tags": []
   },
   "outputs": [
    {
     "name": "stdout",
     "output_type": "stream",
     "text": [
      "encoder: seresnext50_32x4d\n",
      "accumulate_batches: 2\n",
      "clip_grad_norm: 0\n",
      "image_dims: 512\n",
      "num_epochs: 10\n",
      "learning_rate: 0.001\n",
      "lr_mult: 10\n",
      "augmentations:\n",
      "  train:\n",
      "  - _target_: albumentations.RandomResizedCrop\n",
      "    height: ${image_dims}\n",
      "    width: ${image_dims}\n",
      "    p: 1.0\n",
      "  - _target_: albumentations.Resize\n",
      "    height: ${image_dims}\n",
      "    width: ${image_dims}\n",
      "    p: 1.0\n",
      "  - _target_: albumentations.RandomBrightnessContrast\n",
      "    brightness_limit: 0.1\n",
      "    contrast_limit: 0.1\n",
      "    p: 1.0\n",
      "  - _target_: albumentations.HorizontalFlip\n",
      "    p: 0.5\n",
      "  - _target_: albumentations.VerticalFlip\n",
      "    p: 0.5\n",
      "  - _target_: albumentations.Normalize\n",
      "    p: 1.0\n",
      "    mean:\n",
      "    - 0.42984136\n",
      "    - 0.49624753\n",
      "    - 0.3129598\n",
      "    std:\n",
      "    - 0.21417203\n",
      "    - 0.21910103\n",
      "    - 0.19542212\n",
      "    max_pixel_value: 255.0\n",
      "  - _target_: albumentations.pytorch.transforms.ToTensorV2\n",
      "    p: 1.0\n",
      "  valid:\n",
      "  - _target_: albumentations.Resize\n",
      "    height: ${image_dims}\n",
      "    width: ${image_dims}\n",
      "    p: 1.0\n",
      "  - _target_: albumentations.Normalize\n",
      "    p: 1.0\n",
      "    mean:\n",
      "    - 0.42984136\n",
      "    - 0.49624753\n",
      "    - 0.3129598\n",
      "    std:\n",
      "    - 0.21417203\n",
      "    - 0.21910103\n",
      "    - 0.19542212\n",
      "    max_pixel_value: 255.0\n",
      "  - _target_: albumentations.pytorch.transforms.ToTensorV2\n",
      "    p: 1.0\n",
      "datamodule:\n",
      "  _target_: src.lightning.core.CassavaLightningDataModule\n",
      "  df_path: ${general.csv_path}\n",
      "  im_dir: ${general.image_dir}\n",
      "  curr_fold: 0\n",
      "  bs: 16\n",
      "  num_workers: 8\n",
      "network:\n",
      "  model:\n",
      "    _target_: pretrainedmodels.se_resnext101_32x4d\n",
      "    pretrained: imagenet\n",
      "  transfer_learning_model:\n",
      "    _target_: src.networks.SnapMixTransferLearningModel\n",
      "    cut: -2\n",
      "    c: 5\n",
      "mixmethod:\n",
      "  _target_: src.mixmethods.SnapMix\n",
      "  alpha: 5.0\n",
      "  conf_prob: 0.5\n",
      "optimizer:\n",
      "  _target_: torch.optim.AdamW\n",
      "  weight_decay: 0.1\n",
      "  betas:\n",
      "  - 0.9\n",
      "  - 0.99\n",
      "  eps: 1.0e-05\n",
      "scheduler:\n",
      "  function:\n",
      "    _target_: src.opts.LinearSchedulerWithWarmup\n",
      "    total_epochs: ${num_epochs}\n",
      "    last_epoch: -1\n",
      "  metric_to_track: null\n",
      "  scheduler_interval: step\n",
      "activation:\n",
      "  _target_: torch.nn.ReLU\n",
      "  inplace: true\n",
      "loss:\n",
      "  _target_: src.losses.BiTemperedLogisticLoss\n",
      "  eps: 0.1\n",
      "  t1: 0.6\n",
      "  t2: 1.4\n",
      "  num_iters: 5\n",
      "  reduction: mean\n",
      "general:\n",
      "  unique_idx: null\n",
      "  project_name: kaggle-leaf-disease-hydra-cli\n",
      "  random_seed: 42\n",
      "  save_dir: /kaggle/working/models/\n",
      "  image_dir: /kaggle/input/cassava-leaf-disease-classification/train_images/\n",
      "  csv_path: /kaggle/working/leaf-disease-classification-kaggle/data/stratified-data-5folds.csv\n",
      "trainer:\n",
      "  _target_: pytorch_lightning.Trainer\n",
      "  gpus: -1\n",
      "  accumulate_grad_batches: ${accumulate_batches}\n",
      "  max_epochs: ${num_epochs}\n",
      "  log_every_n_steps: 1\n",
      "  num_sanity_val_steps: 0\n",
      "  gradient_clip_val: ${clip_grad_norm}\n",
      "  weights_summary: null\n",
      "  deterministic: true\n",
      "  precision: 16\n",
      "\n"
     ]
    }
   ],
   "source": [
    "print(OmegaConf.to_yaml(conf))"
   ]
  },
  {
   "cell_type": "markdown",
   "metadata": {
    "papermill": {
     "duration": 0.040286,
     "end_time": "2021-01-17T18:31:09.406806",
     "exception": false,
     "start_time": "2021-01-17T18:31:09.366520",
     "status": "completed"
    },
    "tags": []
   },
   "source": [
    "## Instantiate objects from the config file"
   ]
  },
  {
   "cell_type": "code",
   "execution_count": 10,
   "metadata": {
    "execution": {
     "iopub.execute_input": "2021-01-17T18:31:09.488263Z",
     "iopub.status.busy": "2021-01-17T18:31:09.487454Z",
     "iopub.status.idle": "2021-01-17T18:31:09.554927Z",
     "shell.execute_reply": "2021-01-17T18:31:09.554390Z"
    },
    "papermill": {
     "duration": 0.110883,
     "end_time": "2021-01-17T18:31:09.555040",
     "exception": false,
     "start_time": "2021-01-17T18:31:09.444157",
     "status": "completed"
    },
    "tags": []
   },
   "outputs": [
    {
     "name": "stderr",
     "output_type": "stream",
     "text": [
      "[\u001b[36m01/17/2021 18:31:09\u001b[0m][\u001b[35mINFO\u001b[0m]: Seed for the experiment : 42\u001b[0m\n",
      "[\u001b[36m01/17/2021 18:31:09\u001b[0m][\u001b[35mINFO\u001b[0m]: Unique id for the experiment : 2b38b748\u001b[0m\n",
      "[\u001b[36m01/17/2021 18:31:09\u001b[0m][\u001b[35mINFO\u001b[0m]: Saved model name: seresnext50_32x4d-fold=0-2b38b748\u001b[0m\n"
     ]
    }
   ],
   "source": [
    "seed = seed_everything(conf.general.random_seed)\n",
    "\n",
    "if conf.general.unique_idx is None:\n",
    "    conf.general.unique_idx = generate_random_id()\n",
    "\n",
    "# save model name\n",
    "model_name = (\n",
    "    f\"{conf.encoder}-fold={conf.datamodule.curr_fold}-{conf.general.unique_idx}\"\n",
    ")\n",
    "\n",
    "log.info(f\"Seed for the experiment : {seed}\")\n",
    "log.info(f\"Unique id for the experiment : {conf.general.unique_idx}\")\n",
    "log.info(f\"Saved model name: {model_name}\")"
   ]
  },
  {
   "cell_type": "markdown",
   "metadata": {
    "papermill": {
     "duration": 0.038384,
     "end_time": "2021-01-17T18:31:09.632406",
     "exception": false,
     "start_time": "2021-01-17T18:31:09.594022",
     "status": "completed"
    },
    "tags": []
   },
   "source": [
    "**Instantiate the `albumentation-augmentations` & `lightning-datamodule` from Hydra config**"
   ]
  },
  {
   "cell_type": "code",
   "execution_count": 11,
   "metadata": {
    "execution": {
     "iopub.execute_input": "2021-01-17T18:31:09.736961Z",
     "iopub.status.busy": "2021-01-17T18:31:09.726687Z",
     "iopub.status.idle": "2021-01-17T18:31:11.445513Z",
     "shell.execute_reply": "2021-01-17T18:31:11.444045Z"
    },
    "papermill": {
     "duration": 1.775456,
     "end_time": "2021-01-17T18:31:11.445676",
     "exception": false,
     "start_time": "2021-01-17T18:31:09.670220",
     "status": "completed"
    },
    "tags": []
   },
   "outputs": [],
   "source": [
    "# instantiate albumentation transformations\n",
    "trn_augs = A.Compose([instantiate(augs) for augs in conf.augmentations.train])\n",
    "val_augs = A.Compose([instantiate(augs) for augs in conf.augmentations.valid])\n",
    "\n",
    "# instantiate the lightning-datamodule\n",
    "datamodule = instantiate(conf.datamodule, train_augs=trn_augs, valid_augs=val_augs)"
   ]
  },
  {
   "cell_type": "markdown",
   "metadata": {
    "papermill": {
     "duration": 0.055296,
     "end_time": "2021-01-17T18:31:11.557218",
     "exception": false,
     "start_time": "2021-01-17T18:31:11.501922",
     "status": "completed"
    },
    "tags": []
   },
   "source": [
    "**Instantiate/build the model for training from Hydra config**"
   ]
  },
  {
   "cell_type": "code",
   "execution_count": 12,
   "metadata": {
    "execution": {
     "iopub.execute_input": "2021-01-17T18:31:11.676544Z",
     "iopub.status.busy": "2021-01-17T18:31:11.675613Z",
     "iopub.status.idle": "2021-01-17T18:31:14.138072Z",
     "shell.execute_reply": "2021-01-17T18:31:14.138554Z"
    },
    "papermill": {
     "duration": 2.53989,
     "end_time": "2021-01-17T18:31:14.138699",
     "exception": false,
     "start_time": "2021-01-17T18:31:11.598809",
     "status": "completed"
    },
    "tags": []
   },
   "outputs": [],
   "source": [
    "# instantiate the base model architecture + activation function\n",
    "pretrained = instantiate(conf.network.model)\n",
    "activ = instantiate(conf.activation)\n",
    "model = instantiate(conf.network.transfer_learning_model, encoder=pretrained, act=activ)\n",
    "\n",
    "# if activation function is not ReLU the replace the activations for the model\n",
    "if conf.activation._target_ != \"torch.nn.ReLU\":\n",
    "    replace_activs(model.encoder, func=activ)\n",
    "\n",
    "# init the weights of the final untrained layer\n",
    "apply_init(model.fc, torch.nn.init.kaiming_normal_)"
   ]
  },
  {
   "cell_type": "code",
   "execution_count": 13,
   "metadata": {
    "_kg_hide-output": true,
    "execution": {
     "iopub.execute_input": "2021-01-17T18:31:14.229550Z",
     "iopub.status.busy": "2021-01-17T18:31:14.228521Z",
     "iopub.status.idle": "2021-01-17T18:31:14.235709Z",
     "shell.execute_reply": "2021-01-17T18:31:14.236833Z"
    },
    "papermill": {
     "duration": 0.059475,
     "end_time": "2021-01-17T18:31:14.237023",
     "exception": false,
     "start_time": "2021-01-17T18:31:14.177548",
     "status": "completed"
    },
    "tags": []
   },
   "outputs": [
    {
     "name": "stdout",
     "output_type": "stream",
     "text": [
      "SnapMixTransferLearningModel(\n",
      "  (encoder): Sequential(\n",
      "    (0): Sequential(\n",
      "      (conv1): Conv2d(3, 64, kernel_size=(7, 7), stride=(2, 2), padding=(3, 3), bias=False)\n",
      "      (bn1): BatchNorm2d(64, eps=1e-05, momentum=0.1, affine=True, track_running_stats=True)\n",
      "      (relu1): ReLU(inplace=True)\n",
      "      (pool): MaxPool2d(kernel_size=3, stride=2, padding=0, dilation=1, ceil_mode=True)\n",
      "    )\n",
      "    (1): Sequential(\n",
      "      (0): SEResNeXtBottleneck(\n",
      "        (conv1): Conv2d(64, 128, kernel_size=(1, 1), stride=(1, 1), bias=False)\n",
      "        (bn1): BatchNorm2d(128, eps=1e-05, momentum=0.1, affine=True, track_running_stats=True)\n",
      "        (conv2): Conv2d(128, 128, kernel_size=(3, 3), stride=(1, 1), padding=(1, 1), groups=32, bias=False)\n",
      "        (bn2): BatchNorm2d(128, eps=1e-05, momentum=0.1, affine=True, track_running_stats=True)\n",
      "        (conv3): Conv2d(128, 256, kernel_size=(1, 1), stride=(1, 1), bias=False)\n",
      "        (bn3): BatchNorm2d(256, eps=1e-05, momentum=0.1, affine=True, track_running_stats=True)\n",
      "        (relu): ReLU(inplace=True)\n",
      "        (se_module): SEModule(\n",
      "          (avg_pool): AdaptiveAvgPool2d(output_size=1)\n",
      "          (fc1): Conv2d(256, 16, kernel_size=(1, 1), stride=(1, 1))\n",
      "          (relu): ReLU(inplace=True)\n",
      "          (fc2): Conv2d(16, 256, kernel_size=(1, 1), stride=(1, 1))\n",
      "          (sigmoid): Sigmoid()\n",
      "        )\n",
      "        (downsample): Sequential(\n",
      "          (0): Conv2d(64, 256, kernel_size=(1, 1), stride=(1, 1), bias=False)\n",
      "          (1): BatchNorm2d(256, eps=1e-05, momentum=0.1, affine=True, track_running_stats=True)\n",
      "        )\n",
      "      )\n",
      "      (1): SEResNeXtBottleneck(\n",
      "        (conv1): Conv2d(256, 128, kernel_size=(1, 1), stride=(1, 1), bias=False)\n",
      "        (bn1): BatchNorm2d(128, eps=1e-05, momentum=0.1, affine=True, track_running_stats=True)\n",
      "        (conv2): Conv2d(128, 128, kernel_size=(3, 3), stride=(1, 1), padding=(1, 1), groups=32, bias=False)\n",
      "        (bn2): BatchNorm2d(128, eps=1e-05, momentum=0.1, affine=True, track_running_stats=True)\n",
      "        (conv3): Conv2d(128, 256, kernel_size=(1, 1), stride=(1, 1), bias=False)\n",
      "        (bn3): BatchNorm2d(256, eps=1e-05, momentum=0.1, affine=True, track_running_stats=True)\n",
      "        (relu): ReLU(inplace=True)\n",
      "        (se_module): SEModule(\n",
      "          (avg_pool): AdaptiveAvgPool2d(output_size=1)\n",
      "          (fc1): Conv2d(256, 16, kernel_size=(1, 1), stride=(1, 1))\n",
      "          (relu): ReLU(inplace=True)\n",
      "          (fc2): Conv2d(16, 256, kernel_size=(1, 1), stride=(1, 1))\n",
      "          (sigmoid): Sigmoid()\n",
      "        )\n",
      "      )\n",
      "      (2): SEResNeXtBottleneck(\n",
      "        (conv1): Conv2d(256, 128, kernel_size=(1, 1), stride=(1, 1), bias=False)\n",
      "        (bn1): BatchNorm2d(128, eps=1e-05, momentum=0.1, affine=True, track_running_stats=True)\n",
      "        (conv2): Conv2d(128, 128, kernel_size=(3, 3), stride=(1, 1), padding=(1, 1), groups=32, bias=False)\n",
      "        (bn2): BatchNorm2d(128, eps=1e-05, momentum=0.1, affine=True, track_running_stats=True)\n",
      "        (conv3): Conv2d(128, 256, kernel_size=(1, 1), stride=(1, 1), bias=False)\n",
      "        (bn3): BatchNorm2d(256, eps=1e-05, momentum=0.1, affine=True, track_running_stats=True)\n",
      "        (relu): ReLU(inplace=True)\n",
      "        (se_module): SEModule(\n",
      "          (avg_pool): AdaptiveAvgPool2d(output_size=1)\n",
      "          (fc1): Conv2d(256, 16, kernel_size=(1, 1), stride=(1, 1))\n",
      "          (relu): ReLU(inplace=True)\n",
      "          (fc2): Conv2d(16, 256, kernel_size=(1, 1), stride=(1, 1))\n",
      "          (sigmoid): Sigmoid()\n",
      "        )\n",
      "      )\n",
      "    )\n",
      "    (2): Sequential(\n",
      "      (0): SEResNeXtBottleneck(\n",
      "        (conv1): Conv2d(256, 256, kernel_size=(1, 1), stride=(1, 1), bias=False)\n",
      "        (bn1): BatchNorm2d(256, eps=1e-05, momentum=0.1, affine=True, track_running_stats=True)\n",
      "        (conv2): Conv2d(256, 256, kernel_size=(3, 3), stride=(2, 2), padding=(1, 1), groups=32, bias=False)\n",
      "        (bn2): BatchNorm2d(256, eps=1e-05, momentum=0.1, affine=True, track_running_stats=True)\n",
      "        (conv3): Conv2d(256, 512, kernel_size=(1, 1), stride=(1, 1), bias=False)\n",
      "        (bn3): BatchNorm2d(512, eps=1e-05, momentum=0.1, affine=True, track_running_stats=True)\n",
      "        (relu): ReLU(inplace=True)\n",
      "        (se_module): SEModule(\n",
      "          (avg_pool): AdaptiveAvgPool2d(output_size=1)\n",
      "          (fc1): Conv2d(512, 32, kernel_size=(1, 1), stride=(1, 1))\n",
      "          (relu): ReLU(inplace=True)\n",
      "          (fc2): Conv2d(32, 512, kernel_size=(1, 1), stride=(1, 1))\n",
      "          (sigmoid): Sigmoid()\n",
      "        )\n",
      "        (downsample): Sequential(\n",
      "          (0): Conv2d(256, 512, kernel_size=(1, 1), stride=(2, 2), bias=False)\n",
      "          (1): BatchNorm2d(512, eps=1e-05, momentum=0.1, affine=True, track_running_stats=True)\n",
      "        )\n",
      "      )\n",
      "      (1): SEResNeXtBottleneck(\n",
      "        (conv1): Conv2d(512, 256, kernel_size=(1, 1), stride=(1, 1), bias=False)\n",
      "        (bn1): BatchNorm2d(256, eps=1e-05, momentum=0.1, affine=True, track_running_stats=True)\n",
      "        (conv2): Conv2d(256, 256, kernel_size=(3, 3), stride=(1, 1), padding=(1, 1), groups=32, bias=False)\n",
      "        (bn2): BatchNorm2d(256, eps=1e-05, momentum=0.1, affine=True, track_running_stats=True)\n",
      "        (conv3): Conv2d(256, 512, kernel_size=(1, 1), stride=(1, 1), bias=False)\n",
      "        (bn3): BatchNorm2d(512, eps=1e-05, momentum=0.1, affine=True, track_running_stats=True)\n",
      "        (relu): ReLU(inplace=True)\n",
      "        (se_module): SEModule(\n",
      "          (avg_pool): AdaptiveAvgPool2d(output_size=1)\n",
      "          (fc1): Conv2d(512, 32, kernel_size=(1, 1), stride=(1, 1))\n",
      "          (relu): ReLU(inplace=True)\n",
      "          (fc2): Conv2d(32, 512, kernel_size=(1, 1), stride=(1, 1))\n",
      "          (sigmoid): Sigmoid()\n",
      "        )\n",
      "      )\n",
      "      (2): SEResNeXtBottleneck(\n",
      "        (conv1): Conv2d(512, 256, kernel_size=(1, 1), stride=(1, 1), bias=False)\n",
      "        (bn1): BatchNorm2d(256, eps=1e-05, momentum=0.1, affine=True, track_running_stats=True)\n",
      "        (conv2): Conv2d(256, 256, kernel_size=(3, 3), stride=(1, 1), padding=(1, 1), groups=32, bias=False)\n",
      "        (bn2): BatchNorm2d(256, eps=1e-05, momentum=0.1, affine=True, track_running_stats=True)\n",
      "        (conv3): Conv2d(256, 512, kernel_size=(1, 1), stride=(1, 1), bias=False)\n",
      "        (bn3): BatchNorm2d(512, eps=1e-05, momentum=0.1, affine=True, track_running_stats=True)\n",
      "        (relu): ReLU(inplace=True)\n",
      "        (se_module): SEModule(\n",
      "          (avg_pool): AdaptiveAvgPool2d(output_size=1)\n",
      "          (fc1): Conv2d(512, 32, kernel_size=(1, 1), stride=(1, 1))\n",
      "          (relu): ReLU(inplace=True)\n",
      "          (fc2): Conv2d(32, 512, kernel_size=(1, 1), stride=(1, 1))\n",
      "          (sigmoid): Sigmoid()\n",
      "        )\n",
      "      )\n",
      "      (3): SEResNeXtBottleneck(\n",
      "        (conv1): Conv2d(512, 256, kernel_size=(1, 1), stride=(1, 1), bias=False)\n",
      "        (bn1): BatchNorm2d(256, eps=1e-05, momentum=0.1, affine=True, track_running_stats=True)\n",
      "        (conv2): Conv2d(256, 256, kernel_size=(3, 3), stride=(1, 1), padding=(1, 1), groups=32, bias=False)\n",
      "        (bn2): BatchNorm2d(256, eps=1e-05, momentum=0.1, affine=True, track_running_stats=True)\n",
      "        (conv3): Conv2d(256, 512, kernel_size=(1, 1), stride=(1, 1), bias=False)\n",
      "        (bn3): BatchNorm2d(512, eps=1e-05, momentum=0.1, affine=True, track_running_stats=True)\n",
      "        (relu): ReLU(inplace=True)\n",
      "        (se_module): SEModule(\n",
      "          (avg_pool): AdaptiveAvgPool2d(output_size=1)\n",
      "          (fc1): Conv2d(512, 32, kernel_size=(1, 1), stride=(1, 1))\n",
      "          (relu): ReLU(inplace=True)\n",
      "          (fc2): Conv2d(32, 512, kernel_size=(1, 1), stride=(1, 1))\n",
      "          (sigmoid): Sigmoid()\n",
      "        )\n",
      "      )\n",
      "    )\n",
      "    (3): Sequential(\n",
      "      (0): SEResNeXtBottleneck(\n",
      "        (conv1): Conv2d(512, 512, kernel_size=(1, 1), stride=(1, 1), bias=False)\n",
      "        (bn1): BatchNorm2d(512, eps=1e-05, momentum=0.1, affine=True, track_running_stats=True)\n",
      "        (conv2): Conv2d(512, 512, kernel_size=(3, 3), stride=(2, 2), padding=(1, 1), groups=32, bias=False)\n",
      "        (bn2): BatchNorm2d(512, eps=1e-05, momentum=0.1, affine=True, track_running_stats=True)\n",
      "        (conv3): Conv2d(512, 1024, kernel_size=(1, 1), stride=(1, 1), bias=False)\n",
      "        (bn3): BatchNorm2d(1024, eps=1e-05, momentum=0.1, affine=True, track_running_stats=True)\n",
      "        (relu): ReLU(inplace=True)\n",
      "        (se_module): SEModule(\n",
      "          (avg_pool): AdaptiveAvgPool2d(output_size=1)\n",
      "          (fc1): Conv2d(1024, 64, kernel_size=(1, 1), stride=(1, 1))\n",
      "          (relu): ReLU(inplace=True)\n",
      "          (fc2): Conv2d(64, 1024, kernel_size=(1, 1), stride=(1, 1))\n",
      "          (sigmoid): Sigmoid()\n",
      "        )\n",
      "        (downsample): Sequential(\n",
      "          (0): Conv2d(512, 1024, kernel_size=(1, 1), stride=(2, 2), bias=False)\n",
      "          (1): BatchNorm2d(1024, eps=1e-05, momentum=0.1, affine=True, track_running_stats=True)\n",
      "        )\n",
      "      )\n",
      "      (1): SEResNeXtBottleneck(\n",
      "        (conv1): Conv2d(1024, 512, kernel_size=(1, 1), stride=(1, 1), bias=False)\n",
      "        (bn1): BatchNorm2d(512, eps=1e-05, momentum=0.1, affine=True, track_running_stats=True)\n",
      "        (conv2): Conv2d(512, 512, kernel_size=(3, 3), stride=(1, 1), padding=(1, 1), groups=32, bias=False)\n",
      "        (bn2): BatchNorm2d(512, eps=1e-05, momentum=0.1, affine=True, track_running_stats=True)\n",
      "        (conv3): Conv2d(512, 1024, kernel_size=(1, 1), stride=(1, 1), bias=False)\n",
      "        (bn3): BatchNorm2d(1024, eps=1e-05, momentum=0.1, affine=True, track_running_stats=True)\n",
      "        (relu): ReLU(inplace=True)\n",
      "        (se_module): SEModule(\n",
      "          (avg_pool): AdaptiveAvgPool2d(output_size=1)\n",
      "          (fc1): Conv2d(1024, 64, kernel_size=(1, 1), stride=(1, 1))\n",
      "          (relu): ReLU(inplace=True)\n",
      "          (fc2): Conv2d(64, 1024, kernel_size=(1, 1), stride=(1, 1))\n",
      "          (sigmoid): Sigmoid()\n",
      "        )\n",
      "      )\n",
      "      (2): SEResNeXtBottleneck(\n",
      "        (conv1): Conv2d(1024, 512, kernel_size=(1, 1), stride=(1, 1), bias=False)\n",
      "        (bn1): BatchNorm2d(512, eps=1e-05, momentum=0.1, affine=True, track_running_stats=True)\n",
      "        (conv2): Conv2d(512, 512, kernel_size=(3, 3), stride=(1, 1), padding=(1, 1), groups=32, bias=False)\n",
      "        (bn2): BatchNorm2d(512, eps=1e-05, momentum=0.1, affine=True, track_running_stats=True)\n",
      "        (conv3): Conv2d(512, 1024, kernel_size=(1, 1), stride=(1, 1), bias=False)\n",
      "        (bn3): BatchNorm2d(1024, eps=1e-05, momentum=0.1, affine=True, track_running_stats=True)\n",
      "        (relu): ReLU(inplace=True)\n",
      "        (se_module): SEModule(\n",
      "          (avg_pool): AdaptiveAvgPool2d(output_size=1)\n",
      "          (fc1): Conv2d(1024, 64, kernel_size=(1, 1), stride=(1, 1))\n",
      "          (relu): ReLU(inplace=True)\n",
      "          (fc2): Conv2d(64, 1024, kernel_size=(1, 1), stride=(1, 1))\n",
      "          (sigmoid): Sigmoid()\n",
      "        )\n",
      "      )\n",
      "      (3): SEResNeXtBottleneck(\n",
      "        (conv1): Conv2d(1024, 512, kernel_size=(1, 1), stride=(1, 1), bias=False)\n",
      "        (bn1): BatchNorm2d(512, eps=1e-05, momentum=0.1, affine=True, track_running_stats=True)\n",
      "        (conv2): Conv2d(512, 512, kernel_size=(3, 3), stride=(1, 1), padding=(1, 1), groups=32, bias=False)\n",
      "        (bn2): BatchNorm2d(512, eps=1e-05, momentum=0.1, affine=True, track_running_stats=True)\n",
      "        (conv3): Conv2d(512, 1024, kernel_size=(1, 1), stride=(1, 1), bias=False)\n",
      "        (bn3): BatchNorm2d(1024, eps=1e-05, momentum=0.1, affine=True, track_running_stats=True)\n",
      "        (relu): ReLU(inplace=True)\n",
      "        (se_module): SEModule(\n",
      "          (avg_pool): AdaptiveAvgPool2d(output_size=1)\n",
      "          (fc1): Conv2d(1024, 64, kernel_size=(1, 1), stride=(1, 1))\n",
      "          (relu): ReLU(inplace=True)\n",
      "          (fc2): Conv2d(64, 1024, kernel_size=(1, 1), stride=(1, 1))\n",
      "          (sigmoid): Sigmoid()\n",
      "        )\n",
      "      )\n",
      "      (4): SEResNeXtBottleneck(\n",
      "        (conv1): Conv2d(1024, 512, kernel_size=(1, 1), stride=(1, 1), bias=False)\n",
      "        (bn1): BatchNorm2d(512, eps=1e-05, momentum=0.1, affine=True, track_running_stats=True)\n",
      "        (conv2): Conv2d(512, 512, kernel_size=(3, 3), stride=(1, 1), padding=(1, 1), groups=32, bias=False)\n",
      "        (bn2): BatchNorm2d(512, eps=1e-05, momentum=0.1, affine=True, track_running_stats=True)\n",
      "        (conv3): Conv2d(512, 1024, kernel_size=(1, 1), stride=(1, 1), bias=False)\n",
      "        (bn3): BatchNorm2d(1024, eps=1e-05, momentum=0.1, affine=True, track_running_stats=True)\n",
      "        (relu): ReLU(inplace=True)\n",
      "        (se_module): SEModule(\n",
      "          (avg_pool): AdaptiveAvgPool2d(output_size=1)\n",
      "          (fc1): Conv2d(1024, 64, kernel_size=(1, 1), stride=(1, 1))\n",
      "          (relu): ReLU(inplace=True)\n",
      "          (fc2): Conv2d(64, 1024, kernel_size=(1, 1), stride=(1, 1))\n",
      "          (sigmoid): Sigmoid()\n",
      "        )\n",
      "      )\n",
      "      (5): SEResNeXtBottleneck(\n",
      "        (conv1): Conv2d(1024, 512, kernel_size=(1, 1), stride=(1, 1), bias=False)\n",
      "        (bn1): BatchNorm2d(512, eps=1e-05, momentum=0.1, affine=True, track_running_stats=True)\n",
      "        (conv2): Conv2d(512, 512, kernel_size=(3, 3), stride=(1, 1), padding=(1, 1), groups=32, bias=False)\n",
      "        (bn2): BatchNorm2d(512, eps=1e-05, momentum=0.1, affine=True, track_running_stats=True)\n",
      "        (conv3): Conv2d(512, 1024, kernel_size=(1, 1), stride=(1, 1), bias=False)\n",
      "        (bn3): BatchNorm2d(1024, eps=1e-05, momentum=0.1, affine=True, track_running_stats=True)\n",
      "        (relu): ReLU(inplace=True)\n",
      "        (se_module): SEModule(\n",
      "          (avg_pool): AdaptiveAvgPool2d(output_size=1)\n",
      "          (fc1): Conv2d(1024, 64, kernel_size=(1, 1), stride=(1, 1))\n",
      "          (relu): ReLU(inplace=True)\n",
      "          (fc2): Conv2d(64, 1024, kernel_size=(1, 1), stride=(1, 1))\n",
      "          (sigmoid): Sigmoid()\n",
      "        )\n",
      "      )\n",
      "      (6): SEResNeXtBottleneck(\n",
      "        (conv1): Conv2d(1024, 512, kernel_size=(1, 1), stride=(1, 1), bias=False)\n",
      "        (bn1): BatchNorm2d(512, eps=1e-05, momentum=0.1, affine=True, track_running_stats=True)\n",
      "        (conv2): Conv2d(512, 512, kernel_size=(3, 3), stride=(1, 1), padding=(1, 1), groups=32, bias=False)\n",
      "        (bn2): BatchNorm2d(512, eps=1e-05, momentum=0.1, affine=True, track_running_stats=True)\n",
      "        (conv3): Conv2d(512, 1024, kernel_size=(1, 1), stride=(1, 1), bias=False)\n",
      "        (bn3): BatchNorm2d(1024, eps=1e-05, momentum=0.1, affine=True, track_running_stats=True)\n",
      "        (relu): ReLU(inplace=True)\n",
      "        (se_module): SEModule(\n",
      "          (avg_pool): AdaptiveAvgPool2d(output_size=1)\n",
      "          (fc1): Conv2d(1024, 64, kernel_size=(1, 1), stride=(1, 1))\n",
      "          (relu): ReLU(inplace=True)\n",
      "          (fc2): Conv2d(64, 1024, kernel_size=(1, 1), stride=(1, 1))\n",
      "          (sigmoid): Sigmoid()\n",
      "        )\n",
      "      )\n",
      "      (7): SEResNeXtBottleneck(\n",
      "        (conv1): Conv2d(1024, 512, kernel_size=(1, 1), stride=(1, 1), bias=False)\n",
      "        (bn1): BatchNorm2d(512, eps=1e-05, momentum=0.1, affine=True, track_running_stats=True)\n",
      "        (conv2): Conv2d(512, 512, kernel_size=(3, 3), stride=(1, 1), padding=(1, 1), groups=32, bias=False)\n",
      "        (bn2): BatchNorm2d(512, eps=1e-05, momentum=0.1, affine=True, track_running_stats=True)\n",
      "        (conv3): Conv2d(512, 1024, kernel_size=(1, 1), stride=(1, 1), bias=False)\n",
      "        (bn3): BatchNorm2d(1024, eps=1e-05, momentum=0.1, affine=True, track_running_stats=True)\n",
      "        (relu): ReLU(inplace=True)\n",
      "        (se_module): SEModule(\n",
      "          (avg_pool): AdaptiveAvgPool2d(output_size=1)\n",
      "          (fc1): Conv2d(1024, 64, kernel_size=(1, 1), stride=(1, 1))\n",
      "          (relu): ReLU(inplace=True)\n",
      "          (fc2): Conv2d(64, 1024, kernel_size=(1, 1), stride=(1, 1))\n",
      "          (sigmoid): Sigmoid()\n",
      "        )\n",
      "      )\n",
      "      (8): SEResNeXtBottleneck(\n",
      "        (conv1): Conv2d(1024, 512, kernel_size=(1, 1), stride=(1, 1), bias=False)\n",
      "        (bn1): BatchNorm2d(512, eps=1e-05, momentum=0.1, affine=True, track_running_stats=True)\n",
      "        (conv2): Conv2d(512, 512, kernel_size=(3, 3), stride=(1, 1), padding=(1, 1), groups=32, bias=False)\n",
      "        (bn2): BatchNorm2d(512, eps=1e-05, momentum=0.1, affine=True, track_running_stats=True)\n",
      "        (conv3): Conv2d(512, 1024, kernel_size=(1, 1), stride=(1, 1), bias=False)\n",
      "        (bn3): BatchNorm2d(1024, eps=1e-05, momentum=0.1, affine=True, track_running_stats=True)\n",
      "        (relu): ReLU(inplace=True)\n",
      "        (se_module): SEModule(\n",
      "          (avg_pool): AdaptiveAvgPool2d(output_size=1)\n",
      "          (fc1): Conv2d(1024, 64, kernel_size=(1, 1), stride=(1, 1))\n",
      "          (relu): ReLU(inplace=True)\n",
      "          (fc2): Conv2d(64, 1024, kernel_size=(1, 1), stride=(1, 1))\n",
      "          (sigmoid): Sigmoid()\n",
      "        )\n",
      "      )\n",
      "      (9): SEResNeXtBottleneck(\n",
      "        (conv1): Conv2d(1024, 512, kernel_size=(1, 1), stride=(1, 1), bias=False)\n",
      "        (bn1): BatchNorm2d(512, eps=1e-05, momentum=0.1, affine=True, track_running_stats=True)\n",
      "        (conv2): Conv2d(512, 512, kernel_size=(3, 3), stride=(1, 1), padding=(1, 1), groups=32, bias=False)\n",
      "        (bn2): BatchNorm2d(512, eps=1e-05, momentum=0.1, affine=True, track_running_stats=True)\n",
      "        (conv3): Conv2d(512, 1024, kernel_size=(1, 1), stride=(1, 1), bias=False)\n",
      "        (bn3): BatchNorm2d(1024, eps=1e-05, momentum=0.1, affine=True, track_running_stats=True)\n",
      "        (relu): ReLU(inplace=True)\n",
      "        (se_module): SEModule(\n",
      "          (avg_pool): AdaptiveAvgPool2d(output_size=1)\n",
      "          (fc1): Conv2d(1024, 64, kernel_size=(1, 1), stride=(1, 1))\n",
      "          (relu): ReLU(inplace=True)\n",
      "          (fc2): Conv2d(64, 1024, kernel_size=(1, 1), stride=(1, 1))\n",
      "          (sigmoid): Sigmoid()\n",
      "        )\n",
      "      )\n",
      "      (10): SEResNeXtBottleneck(\n",
      "        (conv1): Conv2d(1024, 512, kernel_size=(1, 1), stride=(1, 1), bias=False)\n",
      "        (bn1): BatchNorm2d(512, eps=1e-05, momentum=0.1, affine=True, track_running_stats=True)\n",
      "        (conv2): Conv2d(512, 512, kernel_size=(3, 3), stride=(1, 1), padding=(1, 1), groups=32, bias=False)\n",
      "        (bn2): BatchNorm2d(512, eps=1e-05, momentum=0.1, affine=True, track_running_stats=True)\n",
      "        (conv3): Conv2d(512, 1024, kernel_size=(1, 1), stride=(1, 1), bias=False)\n",
      "        (bn3): BatchNorm2d(1024, eps=1e-05, momentum=0.1, affine=True, track_running_stats=True)\n",
      "        (relu): ReLU(inplace=True)\n",
      "        (se_module): SEModule(\n",
      "          (avg_pool): AdaptiveAvgPool2d(output_size=1)\n",
      "          (fc1): Conv2d(1024, 64, kernel_size=(1, 1), stride=(1, 1))\n",
      "          (relu): ReLU(inplace=True)\n",
      "          (fc2): Conv2d(64, 1024, kernel_size=(1, 1), stride=(1, 1))\n",
      "          (sigmoid): Sigmoid()\n",
      "        )\n",
      "      )\n",
      "      (11): SEResNeXtBottleneck(\n",
      "        (conv1): Conv2d(1024, 512, kernel_size=(1, 1), stride=(1, 1), bias=False)\n",
      "        (bn1): BatchNorm2d(512, eps=1e-05, momentum=0.1, affine=True, track_running_stats=True)\n",
      "        (conv2): Conv2d(512, 512, kernel_size=(3, 3), stride=(1, 1), padding=(1, 1), groups=32, bias=False)\n",
      "        (bn2): BatchNorm2d(512, eps=1e-05, momentum=0.1, affine=True, track_running_stats=True)\n",
      "        (conv3): Conv2d(512, 1024, kernel_size=(1, 1), stride=(1, 1), bias=False)\n",
      "        (bn3): BatchNorm2d(1024, eps=1e-05, momentum=0.1, affine=True, track_running_stats=True)\n",
      "        (relu): ReLU(inplace=True)\n",
      "        (se_module): SEModule(\n",
      "          (avg_pool): AdaptiveAvgPool2d(output_size=1)\n",
      "          (fc1): Conv2d(1024, 64, kernel_size=(1, 1), stride=(1, 1))\n",
      "          (relu): ReLU(inplace=True)\n",
      "          (fc2): Conv2d(64, 1024, kernel_size=(1, 1), stride=(1, 1))\n",
      "          (sigmoid): Sigmoid()\n",
      "        )\n",
      "      )\n",
      "      (12): SEResNeXtBottleneck(\n",
      "        (conv1): Conv2d(1024, 512, kernel_size=(1, 1), stride=(1, 1), bias=False)\n",
      "        (bn1): BatchNorm2d(512, eps=1e-05, momentum=0.1, affine=True, track_running_stats=True)\n",
      "        (conv2): Conv2d(512, 512, kernel_size=(3, 3), stride=(1, 1), padding=(1, 1), groups=32, bias=False)\n",
      "        (bn2): BatchNorm2d(512, eps=1e-05, momentum=0.1, affine=True, track_running_stats=True)\n",
      "        (conv3): Conv2d(512, 1024, kernel_size=(1, 1), stride=(1, 1), bias=False)\n",
      "        (bn3): BatchNorm2d(1024, eps=1e-05, momentum=0.1, affine=True, track_running_stats=True)\n",
      "        (relu): ReLU(inplace=True)\n",
      "        (se_module): SEModule(\n",
      "          (avg_pool): AdaptiveAvgPool2d(output_size=1)\n",
      "          (fc1): Conv2d(1024, 64, kernel_size=(1, 1), stride=(1, 1))\n",
      "          (relu): ReLU(inplace=True)\n",
      "          (fc2): Conv2d(64, 1024, kernel_size=(1, 1), stride=(1, 1))\n",
      "          (sigmoid): Sigmoid()\n",
      "        )\n",
      "      )\n",
      "      (13): SEResNeXtBottleneck(\n",
      "        (conv1): Conv2d(1024, 512, kernel_size=(1, 1), stride=(1, 1), bias=False)\n",
      "        (bn1): BatchNorm2d(512, eps=1e-05, momentum=0.1, affine=True, track_running_stats=True)\n",
      "        (conv2): Conv2d(512, 512, kernel_size=(3, 3), stride=(1, 1), padding=(1, 1), groups=32, bias=False)\n",
      "        (bn2): BatchNorm2d(512, eps=1e-05, momentum=0.1, affine=True, track_running_stats=True)\n",
      "        (conv3): Conv2d(512, 1024, kernel_size=(1, 1), stride=(1, 1), bias=False)\n",
      "        (bn3): BatchNorm2d(1024, eps=1e-05, momentum=0.1, affine=True, track_running_stats=True)\n",
      "        (relu): ReLU(inplace=True)\n",
      "        (se_module): SEModule(\n",
      "          (avg_pool): AdaptiveAvgPool2d(output_size=1)\n",
      "          (fc1): Conv2d(1024, 64, kernel_size=(1, 1), stride=(1, 1))\n",
      "          (relu): ReLU(inplace=True)\n",
      "          (fc2): Conv2d(64, 1024, kernel_size=(1, 1), stride=(1, 1))\n",
      "          (sigmoid): Sigmoid()\n",
      "        )\n",
      "      )\n",
      "      (14): SEResNeXtBottleneck(\n",
      "        (conv1): Conv2d(1024, 512, kernel_size=(1, 1), stride=(1, 1), bias=False)\n",
      "        (bn1): BatchNorm2d(512, eps=1e-05, momentum=0.1, affine=True, track_running_stats=True)\n",
      "        (conv2): Conv2d(512, 512, kernel_size=(3, 3), stride=(1, 1), padding=(1, 1), groups=32, bias=False)\n",
      "        (bn2): BatchNorm2d(512, eps=1e-05, momentum=0.1, affine=True, track_running_stats=True)\n",
      "        (conv3): Conv2d(512, 1024, kernel_size=(1, 1), stride=(1, 1), bias=False)\n",
      "        (bn3): BatchNorm2d(1024, eps=1e-05, momentum=0.1, affine=True, track_running_stats=True)\n",
      "        (relu): ReLU(inplace=True)\n",
      "        (se_module): SEModule(\n",
      "          (avg_pool): AdaptiveAvgPool2d(output_size=1)\n",
      "          (fc1): Conv2d(1024, 64, kernel_size=(1, 1), stride=(1, 1))\n",
      "          (relu): ReLU(inplace=True)\n",
      "          (fc2): Conv2d(64, 1024, kernel_size=(1, 1), stride=(1, 1))\n",
      "          (sigmoid): Sigmoid()\n",
      "        )\n",
      "      )\n",
      "      (15): SEResNeXtBottleneck(\n",
      "        (conv1): Conv2d(1024, 512, kernel_size=(1, 1), stride=(1, 1), bias=False)\n",
      "        (bn1): BatchNorm2d(512, eps=1e-05, momentum=0.1, affine=True, track_running_stats=True)\n",
      "        (conv2): Conv2d(512, 512, kernel_size=(3, 3), stride=(1, 1), padding=(1, 1), groups=32, bias=False)\n",
      "        (bn2): BatchNorm2d(512, eps=1e-05, momentum=0.1, affine=True, track_running_stats=True)\n",
      "        (conv3): Conv2d(512, 1024, kernel_size=(1, 1), stride=(1, 1), bias=False)\n",
      "        (bn3): BatchNorm2d(1024, eps=1e-05, momentum=0.1, affine=True, track_running_stats=True)\n",
      "        (relu): ReLU(inplace=True)\n",
      "        (se_module): SEModule(\n",
      "          (avg_pool): AdaptiveAvgPool2d(output_size=1)\n",
      "          (fc1): Conv2d(1024, 64, kernel_size=(1, 1), stride=(1, 1))\n",
      "          (relu): ReLU(inplace=True)\n",
      "          (fc2): Conv2d(64, 1024, kernel_size=(1, 1), stride=(1, 1))\n",
      "          (sigmoid): Sigmoid()\n",
      "        )\n",
      "      )\n",
      "      (16): SEResNeXtBottleneck(\n",
      "        (conv1): Conv2d(1024, 512, kernel_size=(1, 1), stride=(1, 1), bias=False)\n",
      "        (bn1): BatchNorm2d(512, eps=1e-05, momentum=0.1, affine=True, track_running_stats=True)\n",
      "        (conv2): Conv2d(512, 512, kernel_size=(3, 3), stride=(1, 1), padding=(1, 1), groups=32, bias=False)\n",
      "        (bn2): BatchNorm2d(512, eps=1e-05, momentum=0.1, affine=True, track_running_stats=True)\n",
      "        (conv3): Conv2d(512, 1024, kernel_size=(1, 1), stride=(1, 1), bias=False)\n",
      "        (bn3): BatchNorm2d(1024, eps=1e-05, momentum=0.1, affine=True, track_running_stats=True)\n",
      "        (relu): ReLU(inplace=True)\n",
      "        (se_module): SEModule(\n",
      "          (avg_pool): AdaptiveAvgPool2d(output_size=1)\n",
      "          (fc1): Conv2d(1024, 64, kernel_size=(1, 1), stride=(1, 1))\n",
      "          (relu): ReLU(inplace=True)\n",
      "          (fc2): Conv2d(64, 1024, kernel_size=(1, 1), stride=(1, 1))\n",
      "          (sigmoid): Sigmoid()\n",
      "        )\n",
      "      )\n",
      "      (17): SEResNeXtBottleneck(\n",
      "        (conv1): Conv2d(1024, 512, kernel_size=(1, 1), stride=(1, 1), bias=False)\n",
      "        (bn1): BatchNorm2d(512, eps=1e-05, momentum=0.1, affine=True, track_running_stats=True)\n",
      "        (conv2): Conv2d(512, 512, kernel_size=(3, 3), stride=(1, 1), padding=(1, 1), groups=32, bias=False)\n",
      "        (bn2): BatchNorm2d(512, eps=1e-05, momentum=0.1, affine=True, track_running_stats=True)\n",
      "        (conv3): Conv2d(512, 1024, kernel_size=(1, 1), stride=(1, 1), bias=False)\n",
      "        (bn3): BatchNorm2d(1024, eps=1e-05, momentum=0.1, affine=True, track_running_stats=True)\n",
      "        (relu): ReLU(inplace=True)\n",
      "        (se_module): SEModule(\n",
      "          (avg_pool): AdaptiveAvgPool2d(output_size=1)\n",
      "          (fc1): Conv2d(1024, 64, kernel_size=(1, 1), stride=(1, 1))\n",
      "          (relu): ReLU(inplace=True)\n",
      "          (fc2): Conv2d(64, 1024, kernel_size=(1, 1), stride=(1, 1))\n",
      "          (sigmoid): Sigmoid()\n",
      "        )\n",
      "      )\n",
      "      (18): SEResNeXtBottleneck(\n",
      "        (conv1): Conv2d(1024, 512, kernel_size=(1, 1), stride=(1, 1), bias=False)\n",
      "        (bn1): BatchNorm2d(512, eps=1e-05, momentum=0.1, affine=True, track_running_stats=True)\n",
      "        (conv2): Conv2d(512, 512, kernel_size=(3, 3), stride=(1, 1), padding=(1, 1), groups=32, bias=False)\n",
      "        (bn2): BatchNorm2d(512, eps=1e-05, momentum=0.1, affine=True, track_running_stats=True)\n",
      "        (conv3): Conv2d(512, 1024, kernel_size=(1, 1), stride=(1, 1), bias=False)\n",
      "        (bn3): BatchNorm2d(1024, eps=1e-05, momentum=0.1, affine=True, track_running_stats=True)\n",
      "        (relu): ReLU(inplace=True)\n",
      "        (se_module): SEModule(\n",
      "          (avg_pool): AdaptiveAvgPool2d(output_size=1)\n",
      "          (fc1): Conv2d(1024, 64, kernel_size=(1, 1), stride=(1, 1))\n",
      "          (relu): ReLU(inplace=True)\n",
      "          (fc2): Conv2d(64, 1024, kernel_size=(1, 1), stride=(1, 1))\n",
      "          (sigmoid): Sigmoid()\n",
      "        )\n",
      "      )\n",
      "      (19): SEResNeXtBottleneck(\n",
      "        (conv1): Conv2d(1024, 512, kernel_size=(1, 1), stride=(1, 1), bias=False)\n",
      "        (bn1): BatchNorm2d(512, eps=1e-05, momentum=0.1, affine=True, track_running_stats=True)\n",
      "        (conv2): Conv2d(512, 512, kernel_size=(3, 3), stride=(1, 1), padding=(1, 1), groups=32, bias=False)\n",
      "        (bn2): BatchNorm2d(512, eps=1e-05, momentum=0.1, affine=True, track_running_stats=True)\n",
      "        (conv3): Conv2d(512, 1024, kernel_size=(1, 1), stride=(1, 1), bias=False)\n",
      "        (bn3): BatchNorm2d(1024, eps=1e-05, momentum=0.1, affine=True, track_running_stats=True)\n",
      "        (relu): ReLU(inplace=True)\n",
      "        (se_module): SEModule(\n",
      "          (avg_pool): AdaptiveAvgPool2d(output_size=1)\n",
      "          (fc1): Conv2d(1024, 64, kernel_size=(1, 1), stride=(1, 1))\n",
      "          (relu): ReLU(inplace=True)\n",
      "          (fc2): Conv2d(64, 1024, kernel_size=(1, 1), stride=(1, 1))\n",
      "          (sigmoid): Sigmoid()\n",
      "        )\n",
      "      )\n",
      "      (20): SEResNeXtBottleneck(\n",
      "        (conv1): Conv2d(1024, 512, kernel_size=(1, 1), stride=(1, 1), bias=False)\n",
      "        (bn1): BatchNorm2d(512, eps=1e-05, momentum=0.1, affine=True, track_running_stats=True)\n",
      "        (conv2): Conv2d(512, 512, kernel_size=(3, 3), stride=(1, 1), padding=(1, 1), groups=32, bias=False)\n",
      "        (bn2): BatchNorm2d(512, eps=1e-05, momentum=0.1, affine=True, track_running_stats=True)\n",
      "        (conv3): Conv2d(512, 1024, kernel_size=(1, 1), stride=(1, 1), bias=False)\n",
      "        (bn3): BatchNorm2d(1024, eps=1e-05, momentum=0.1, affine=True, track_running_stats=True)\n",
      "        (relu): ReLU(inplace=True)\n",
      "        (se_module): SEModule(\n",
      "          (avg_pool): AdaptiveAvgPool2d(output_size=1)\n",
      "          (fc1): Conv2d(1024, 64, kernel_size=(1, 1), stride=(1, 1))\n",
      "          (relu): ReLU(inplace=True)\n",
      "          (fc2): Conv2d(64, 1024, kernel_size=(1, 1), stride=(1, 1))\n",
      "          (sigmoid): Sigmoid()\n",
      "        )\n",
      "      )\n",
      "      (21): SEResNeXtBottleneck(\n",
      "        (conv1): Conv2d(1024, 512, kernel_size=(1, 1), stride=(1, 1), bias=False)\n",
      "        (bn1): BatchNorm2d(512, eps=1e-05, momentum=0.1, affine=True, track_running_stats=True)\n",
      "        (conv2): Conv2d(512, 512, kernel_size=(3, 3), stride=(1, 1), padding=(1, 1), groups=32, bias=False)\n",
      "        (bn2): BatchNorm2d(512, eps=1e-05, momentum=0.1, affine=True, track_running_stats=True)\n",
      "        (conv3): Conv2d(512, 1024, kernel_size=(1, 1), stride=(1, 1), bias=False)\n",
      "        (bn3): BatchNorm2d(1024, eps=1e-05, momentum=0.1, affine=True, track_running_stats=True)\n",
      "        (relu): ReLU(inplace=True)\n",
      "        (se_module): SEModule(\n",
      "          (avg_pool): AdaptiveAvgPool2d(output_size=1)\n",
      "          (fc1): Conv2d(1024, 64, kernel_size=(1, 1), stride=(1, 1))\n",
      "          (relu): ReLU(inplace=True)\n",
      "          (fc2): Conv2d(64, 1024, kernel_size=(1, 1), stride=(1, 1))\n",
      "          (sigmoid): Sigmoid()\n",
      "        )\n",
      "      )\n",
      "      (22): SEResNeXtBottleneck(\n",
      "        (conv1): Conv2d(1024, 512, kernel_size=(1, 1), stride=(1, 1), bias=False)\n",
      "        (bn1): BatchNorm2d(512, eps=1e-05, momentum=0.1, affine=True, track_running_stats=True)\n",
      "        (conv2): Conv2d(512, 512, kernel_size=(3, 3), stride=(1, 1), padding=(1, 1), groups=32, bias=False)\n",
      "        (bn2): BatchNorm2d(512, eps=1e-05, momentum=0.1, affine=True, track_running_stats=True)\n",
      "        (conv3): Conv2d(512, 1024, kernel_size=(1, 1), stride=(1, 1), bias=False)\n",
      "        (bn3): BatchNorm2d(1024, eps=1e-05, momentum=0.1, affine=True, track_running_stats=True)\n",
      "        (relu): ReLU(inplace=True)\n",
      "        (se_module): SEModule(\n",
      "          (avg_pool): AdaptiveAvgPool2d(output_size=1)\n",
      "          (fc1): Conv2d(1024, 64, kernel_size=(1, 1), stride=(1, 1))\n",
      "          (relu): ReLU(inplace=True)\n",
      "          (fc2): Conv2d(64, 1024, kernel_size=(1, 1), stride=(1, 1))\n",
      "          (sigmoid): Sigmoid()\n",
      "        )\n",
      "      )\n",
      "    )\n",
      "    (4): Sequential(\n",
      "      (0): SEResNeXtBottleneck(\n",
      "        (conv1): Conv2d(1024, 1024, kernel_size=(1, 1), stride=(1, 1), bias=False)\n",
      "        (bn1): BatchNorm2d(1024, eps=1e-05, momentum=0.1, affine=True, track_running_stats=True)\n",
      "        (conv2): Conv2d(1024, 1024, kernel_size=(3, 3), stride=(2, 2), padding=(1, 1), groups=32, bias=False)\n",
      "        (bn2): BatchNorm2d(1024, eps=1e-05, momentum=0.1, affine=True, track_running_stats=True)\n",
      "        (conv3): Conv2d(1024, 2048, kernel_size=(1, 1), stride=(1, 1), bias=False)\n",
      "        (bn3): BatchNorm2d(2048, eps=1e-05, momentum=0.1, affine=True, track_running_stats=True)\n",
      "        (relu): ReLU(inplace=True)\n",
      "        (se_module): SEModule(\n",
      "          (avg_pool): AdaptiveAvgPool2d(output_size=1)\n",
      "          (fc1): Conv2d(2048, 128, kernel_size=(1, 1), stride=(1, 1))\n",
      "          (relu): ReLU(inplace=True)\n",
      "          (fc2): Conv2d(128, 2048, kernel_size=(1, 1), stride=(1, 1))\n",
      "          (sigmoid): Sigmoid()\n",
      "        )\n",
      "        (downsample): Sequential(\n",
      "          (0): Conv2d(1024, 2048, kernel_size=(1, 1), stride=(2, 2), bias=False)\n",
      "          (1): BatchNorm2d(2048, eps=1e-05, momentum=0.1, affine=True, track_running_stats=True)\n",
      "        )\n",
      "      )\n",
      "      (1): SEResNeXtBottleneck(\n",
      "        (conv1): Conv2d(2048, 1024, kernel_size=(1, 1), stride=(1, 1), bias=False)\n",
      "        (bn1): BatchNorm2d(1024, eps=1e-05, momentum=0.1, affine=True, track_running_stats=True)\n",
      "        (conv2): Conv2d(1024, 1024, kernel_size=(3, 3), stride=(1, 1), padding=(1, 1), groups=32, bias=False)\n",
      "        (bn2): BatchNorm2d(1024, eps=1e-05, momentum=0.1, affine=True, track_running_stats=True)\n",
      "        (conv3): Conv2d(1024, 2048, kernel_size=(1, 1), stride=(1, 1), bias=False)\n",
      "        (bn3): BatchNorm2d(2048, eps=1e-05, momentum=0.1, affine=True, track_running_stats=True)\n",
      "        (relu): ReLU(inplace=True)\n",
      "        (se_module): SEModule(\n",
      "          (avg_pool): AdaptiveAvgPool2d(output_size=1)\n",
      "          (fc1): Conv2d(2048, 128, kernel_size=(1, 1), stride=(1, 1))\n",
      "          (relu): ReLU(inplace=True)\n",
      "          (fc2): Conv2d(128, 2048, kernel_size=(1, 1), stride=(1, 1))\n",
      "          (sigmoid): Sigmoid()\n",
      "        )\n",
      "      )\n",
      "      (2): SEResNeXtBottleneck(\n",
      "        (conv1): Conv2d(2048, 1024, kernel_size=(1, 1), stride=(1, 1), bias=False)\n",
      "        (bn1): BatchNorm2d(1024, eps=1e-05, momentum=0.1, affine=True, track_running_stats=True)\n",
      "        (conv2): Conv2d(1024, 1024, kernel_size=(3, 3), stride=(1, 1), padding=(1, 1), groups=32, bias=False)\n",
      "        (bn2): BatchNorm2d(1024, eps=1e-05, momentum=0.1, affine=True, track_running_stats=True)\n",
      "        (conv3): Conv2d(1024, 2048, kernel_size=(1, 1), stride=(1, 1), bias=False)\n",
      "        (bn3): BatchNorm2d(2048, eps=1e-05, momentum=0.1, affine=True, track_running_stats=True)\n",
      "        (relu): ReLU(inplace=True)\n",
      "        (se_module): SEModule(\n",
      "          (avg_pool): AdaptiveAvgPool2d(output_size=1)\n",
      "          (fc1): Conv2d(2048, 128, kernel_size=(1, 1), stride=(1, 1))\n",
      "          (relu): ReLU(inplace=True)\n",
      "          (fc2): Conv2d(128, 2048, kernel_size=(1, 1), stride=(1, 1))\n",
      "          (sigmoid): Sigmoid()\n",
      "        )\n",
      "      )\n",
      "    )\n",
      "  )\n",
      "  (pool): AdaptiveAvgPool2d(output_size=(1, 1))\n",
      "  (flat_layer): Flatten(start_dim=1, end_dim=-1)\n",
      "  (fc): Linear(in_features=2048, out_features=5, bias=True)\n",
      ")\n"
     ]
    }
   ],
   "source": [
    "# check model\n",
    "print(model)"
   ]
  },
  {
   "cell_type": "code",
   "execution_count": 14,
   "metadata": {
    "execution": {
     "iopub.execute_input": "2021-01-17T18:31:14.363854Z",
     "iopub.status.busy": "2021-01-17T18:31:14.362921Z",
     "iopub.status.idle": "2021-01-17T18:31:14.584986Z",
     "shell.execute_reply": "2021-01-17T18:31:14.584418Z"
    },
    "papermill": {
     "duration": 0.289241,
     "end_time": "2021-01-17T18:31:14.585095",
     "exception": false,
     "start_time": "2021-01-17T18:31:14.295854",
     "status": "completed"
    },
    "tags": []
   },
   "outputs": [],
   "source": [
    "# init the LightningModule\n",
    "lit_model = LightningCassava(model, conf)"
   ]
  },
  {
   "cell_type": "markdown",
   "metadata": {
    "papermill": {
     "duration": 0.038161,
     "end_time": "2021-01-17T18:31:14.662337",
     "exception": false,
     "start_time": "2021-01-17T18:31:14.624176",
     "status": "completed"
    },
    "tags": []
   },
   "source": [
    "**Instantiate `pytorch-lightning trainer`**"
   ]
  },
  {
   "cell_type": "code",
   "execution_count": 15,
   "metadata": {
    "execution": {
     "iopub.execute_input": "2021-01-17T18:31:14.750990Z",
     "iopub.status.busy": "2021-01-17T18:31:14.750269Z",
     "iopub.status.idle": "2021-01-17T18:31:15.306536Z",
     "shell.execute_reply": "2021-01-17T18:31:15.305988Z"
    },
    "papermill": {
     "duration": 0.604273,
     "end_time": "2021-01-17T18:31:15.306653",
     "exception": false,
     "start_time": "2021-01-17T18:31:14.702380",
     "status": "completed"
    },
    "tags": []
   },
   "outputs": [
    {
     "name": "stderr",
     "output_type": "stream",
     "text": [
      "GPU available: True, used: True\n",
      "TPU available: False, using: 0 TPU cores\n",
      "LOCAL_RANK: 0 - CUDA_VISIBLE_DEVICES: [0]\n",
      "Using native 16bit precision.\n"
     ]
    }
   ],
   "source": [
    "# initialize pytorch_lightning Trainer + Callbacks\n",
    "print_cb = PrintLogsCallback()\n",
    "print_cb.logger = log\n",
    "\n",
    "cbs = [\n",
    "    WandbImageClassificationCallback(log_conf_mat=True),\n",
    "    LitProgressBar(),\n",
    "    print_cb,\n",
    "    pl.callbacks.LearningRateMonitor(conf.scheduler.scheduler_interval),\n",
    "]\n",
    "\n",
    "# init checkpoint callback\n",
    "checkpoint_cb = ModelCheckpoint(monitor=\"valid/acc\", save_top_k=1, mode=\"max\",)\n",
    "\n",
    "# init logger\n",
    "wb_logger = WandbLogger(project=conf.general.project_name, log_model=True)\n",
    "\n",
    "trainer= instantiate(conf.trainer, checkpoint_callback=checkpoint_cb, callbacks=cbs, logger=wb_logger,)"
   ]
  },
  {
   "cell_type": "markdown",
   "metadata": {
    "papermill": {
     "duration": 0.045292,
     "end_time": "2021-01-17T18:31:15.398235",
     "exception": false,
     "start_time": "2021-01-17T18:31:15.352943",
     "status": "completed"
    },
    "tags": []
   },
   "source": [
    "## Start Training"
   ]
  },
  {
   "cell_type": "markdown",
   "metadata": {
    "papermill": {
     "duration": 0.049428,
     "end_time": "2021-01-17T18:31:15.497135",
     "exception": false,
     "start_time": "2021-01-17T18:31:15.447707",
     "status": "completed"
    },
    "tags": []
   },
   "source": [
    "Now that all the objects from the config has been istantiated we can start the training job"
   ]
  },
  {
   "cell_type": "markdown",
   "metadata": {
    "papermill": {
     "duration": 0.050899,
     "end_time": "2021-01-17T18:31:15.598455",
     "exception": false,
     "start_time": "2021-01-17T18:31:15.547556",
     "status": "completed"
    },
    "tags": []
   },
   "source": [
    "**Run lightning-lr_finder to find best initial learning_rate**"
   ]
  },
  {
   "cell_type": "code",
   "execution_count": 16,
   "metadata": {
    "_kg_hide-input": true,
    "_kg_hide-output": true,
    "execution": {
     "iopub.execute_input": "2021-01-17T18:31:15.708175Z",
     "iopub.status.busy": "2021-01-17T18:31:15.706584Z",
     "iopub.status.idle": "2021-01-17T18:35:20.171456Z",
     "shell.execute_reply": "2021-01-17T18:35:20.172028Z"
    },
    "papermill": {
     "duration": 244.521632,
     "end_time": "2021-01-17T18:35:20.172237",
     "exception": false,
     "start_time": "2021-01-17T18:31:15.650605",
     "status": "completed"
    },
    "tags": []
   },
   "outputs": [
    {
     "data": {
      "application/vnd.jupyter.widget-view+json": {
       "model_id": "c8e9bb7e467a44de9c750f96f1781450",
       "version_major": 2,
       "version_minor": 0
      },
      "text/plain": [
       "HBox(children=(FloatProgress(value=0.0, description='Finding best initial lr', style=ProgressStyle(description…"
      ]
     },
     "metadata": {},
     "output_type": "display_data"
    }
   ],
   "source": [
    "# Run learning rate finder\n",
    "lr_finder = trainer.tuner.lr_find(lit_model, datamodule=datamodule)"
   ]
  },
  {
   "cell_type": "code",
   "execution_count": 17,
   "metadata": {
    "_kg_hide-input": true,
    "_kg_hide-output": true,
    "execution": {
     "iopub.execute_input": "2021-01-17T18:35:20.265401Z",
     "iopub.status.busy": "2021-01-17T18:35:20.264750Z",
     "iopub.status.idle": "2021-01-17T18:35:20.727004Z",
     "shell.execute_reply": "2021-01-17T18:35:20.726006Z"
    },
    "papermill": {
     "duration": 0.512125,
     "end_time": "2021-01-17T18:35:20.727118",
     "exception": false,
     "start_time": "2021-01-17T18:35:20.214993",
     "status": "completed"
    },
    "tags": []
   },
   "outputs": [
    {
     "name": "stderr",
     "output_type": "stream",
     "text": [
      "[\u001b[36m01/17/2021 18:35:20\u001b[0m][\u001b[35mINFO\u001b[0m]: Suggested LR's : 0.0004365158322401656\u001b[0m\n"
     ]
    },
    {
     "data": {
      "image/png": "[encoded data removed]",
      "text/plain": [
       "<Figure size 432x288 with 1 Axes>"
      ]
     },
     "metadata": {
      "needs_background": "light"
     },
     "output_type": "display_data"
    }
   ],
   "source": [
    "fig = lr_finder.plot(suggest=True)\n",
    "log.info(f\"Suggested LR's : {lr_finder.suggestion()}\")\n",
    "fig.show()"
   ]
  },
  {
   "cell_type": "code",
   "execution_count": 18,
   "metadata": {
    "execution": {
     "iopub.execute_input": "2021-01-17T18:35:20.815825Z",
     "iopub.status.busy": "2021-01-17T18:35:20.815195Z",
     "iopub.status.idle": "2021-01-17T18:35:20.819618Z",
     "shell.execute_reply": "2021-01-17T18:35:20.819113Z"
    },
    "papermill": {
     "duration": 0.050373,
     "end_time": "2021-01-17T18:35:20.819712",
     "exception": false,
     "start_time": "2021-01-17T18:35:20.769339",
     "status": "completed"
    },
    "tags": []
   },
   "outputs": [],
   "source": [
    "# update learning-rate of the model\n",
    "new_lr = 0.0004\n",
    "lit_model.hparams.learning_rate = new_lr"
   ]
  },
  {
   "cell_type": "markdown",
   "metadata": {
    "papermill": {
     "duration": 0.041321,
     "end_time": "2021-01-17T18:35:20.902536",
     "exception": false,
     "start_time": "2021-01-17T18:35:20.861215",
     "status": "completed"
    },
    "tags": []
   },
   "source": [
    "**Training starts**"
   ]
  },
  {
   "cell_type": "code",
   "execution_count": 19,
   "metadata": {
    "execution": {
     "iopub.execute_input": "2021-01-17T18:35:21.004727Z",
     "iopub.status.busy": "2021-01-17T18:35:20.994448Z",
     "iopub.status.idle": "2021-01-17T21:59:50.188223Z",
     "shell.execute_reply": "2021-01-17T21:59:50.187254Z"
    },
    "papermill": {
     "duration": 12269.243689,
     "end_time": "2021-01-17T21:59:50.188340",
     "exception": false,
     "start_time": "2021-01-17T18:35:20.944651",
     "status": "completed"
    },
    "tags": []
   },
   "outputs": [
    {
     "name": "stderr",
     "output_type": "stream",
     "text": [
      "\u001b[34m\u001b[1mwandb\u001b[0m: Currently logged in as: \u001b[33mayushman\u001b[0m (use `wandb login --relogin` to force relogin)\n",
      "\u001b[34m\u001b[1mwandb\u001b[0m: wandb version 0.10.14 is available!  To upgrade, please run:\n",
      "\u001b[34m\u001b[1mwandb\u001b[0m:  $ pip install wandb --upgrade\n"
     ]
    },
    {
     "data": {
      "text/html": [
       "\n",
       "                Tracking run with wandb version 0.10.11<br/>\n",
       "                Syncing run <strong style=\"color:#cdcd00\">jolly-leaf-110</strong> to <a href=\"https://wandb.ai\" target=\"_blank\">Weights & Biases</a> <a href=\"https://docs.wandb.com/integrations/jupyter.html\" target=\"_blank\">(Documentation)</a>.<br/>\n",
       "                Project page: <a href=\"https://wandb.ai/ayushman/kaggle-leaf-disease-hydra-cli\" target=\"_blank\">https://wandb.ai/ayushman/kaggle-leaf-disease-hydra-cli</a><br/>\n",
       "                Run page: <a href=\"https://wandb.ai/ayushman/kaggle-leaf-disease-hydra-cli/runs/19rqiwxa\" target=\"_blank\">https://wandb.ai/ayushman/kaggle-leaf-disease-hydra-cli/runs/19rqiwxa</a><br/>\n",
       "                Run data is saved locally in <code>/kaggle/working/leaf-disease-classification-kaggle/wandb/run-20210117_183521-19rqiwxa</code><br/><br/>\n",
       "            "
      ],
      "text/plain": [
       "<IPython.core.display.HTML object>"
      ]
     },
     "metadata": {},
     "output_type": "display_data"
    },
    {
     "data": {
      "application/vnd.jupyter.widget-view+json": {
       "model_id": "3ad500a97b5541369dc578042a961c39",
       "version_major": 2,
       "version_minor": 0
      },
      "text/plain": [
       "HBox(children=(FloatProgress(value=1.0, bar_style='info', description='Training', layout=Layout(flex='2'), max…"
      ]
     },
     "metadata": {},
     "output_type": "display_data"
    },
    {
     "name": "stderr",
     "output_type": "stream",
     "text": [
      "[\u001b[36m01/17/2021 18:58:04\u001b[0m][\u001b[35mINFO\u001b[0m]: Epoch 1 \u001b[0m\n",
      "[\u001b[36m01/17/2021 18:58:04\u001b[0m][\u001b[35mINFO\u001b[0m]: eta: 0:22:41 loss: 0.4682 acc: 0.6564 valid_loss: 0.1788 valid_acc: 0.8404\u001b[0m\n",
      "[\u001b[36m01/17/2021 19:21:02\u001b[0m][\u001b[35mINFO\u001b[0m]: Epoch 2 \u001b[0m\n",
      "[\u001b[36m01/17/2021 19:21:02\u001b[0m][\u001b[35mINFO\u001b[0m]: eta: 0:22:58 loss: 0.3461 acc: 0.7788 valid_loss: 0.1575 valid_acc: 0.8610\u001b[0m\n",
      "[\u001b[36m01/17/2021 19:43:58\u001b[0m][\u001b[35mINFO\u001b[0m]: Epoch 3 \u001b[0m\n",
      "[\u001b[36m01/17/2021 19:43:58\u001b[0m][\u001b[35mINFO\u001b[0m]: eta: 0:22:55 loss: 0.3252 acc: 0.7971 valid_loss: 0.1467 valid_acc: 0.8736\u001b[0m\n",
      "[\u001b[36m01/17/2021 20:06:53\u001b[0m][\u001b[35mINFO\u001b[0m]: Epoch 4 \u001b[0m\n",
      "[\u001b[36m01/17/2021 20:06:53\u001b[0m][\u001b[35mINFO\u001b[0m]: eta: 0:22:54 loss: 0.3307 acc: 0.7986 valid_loss: 0.1435 valid_acc: 0.8762\u001b[0m\n",
      "[\u001b[36m01/17/2021 20:29:39\u001b[0m][\u001b[35mINFO\u001b[0m]: Epoch 5 \u001b[0m\n",
      "[\u001b[36m01/17/2021 20:29:39\u001b[0m][\u001b[35mINFO\u001b[0m]: eta: 0:22:45 loss: 0.3214 acc: 0.8064 valid_loss: 0.1406 valid_acc: 0.8822\u001b[0m\n",
      "[\u001b[36m01/17/2021 20:52:14\u001b[0m][\u001b[35mINFO\u001b[0m]: Epoch 6 \u001b[0m\n",
      "[\u001b[36m01/17/2021 20:52:14\u001b[0m][\u001b[35mINFO\u001b[0m]: eta: 0:22:34 loss: 0.3105 acc: 0.8112 valid_loss: 0.1355 valid_acc: 0.8862\u001b[0m\n",
      "[\u001b[36m01/17/2021 21:14:45\u001b[0m][\u001b[35mINFO\u001b[0m]: Epoch 7 \u001b[0m\n",
      "[\u001b[36m01/17/2021 21:14:45\u001b[0m][\u001b[35mINFO\u001b[0m]: eta: 0:22:31 loss: 0.3046 acc: 0.8182 valid_loss: 0.1343 valid_acc: 0.8827\u001b[0m\n",
      "[\u001b[36m01/17/2021 21:37:19\u001b[0m][\u001b[35mINFO\u001b[0m]: Epoch 8 \u001b[0m\n",
      "[\u001b[36m01/17/2021 21:37:19\u001b[0m][\u001b[35mINFO\u001b[0m]: eta: 0:22:33 loss: 0.3100 acc: 0.8176 valid_loss: 0.1298 valid_acc: 0.8893\u001b[0m\n",
      "[\u001b[36m01/17/2021 21:59:50\u001b[0m][\u001b[35mINFO\u001b[0m]: Epoch 9 \u001b[0m\n",
      "[\u001b[36m01/17/2021 21:59:50\u001b[0m][\u001b[35mINFO\u001b[0m]: eta: 0:22:31 loss: 0.3063 acc: 0.8197 valid_loss: 0.1341 valid_acc: 0.8841\u001b[0m\n"
     ]
    },
    {
     "data": {
      "text/plain": [
       "1"
      ]
     },
     "execution_count": 19,
     "metadata": {},
     "output_type": "execute_result"
    }
   ],
   "source": [
    "# Start Train + Validation\n",
    "trainer.fit(lit_model, datamodule=datamodule)"
   ]
  },
  {
   "cell_type": "code",
   "execution_count": 20,
   "metadata": {
    "execution": {
     "iopub.execute_input": "2021-01-17T21:59:50.310787Z",
     "iopub.status.busy": "2021-01-17T21:59:50.307626Z",
     "iopub.status.idle": "2021-01-17T22:01:37.196921Z",
     "shell.execute_reply": "2021-01-17T22:01:37.197958Z"
    },
    "papermill": {
     "duration": 106.957418,
     "end_time": "2021-01-17T22:01:37.198148",
     "exception": false,
     "start_time": "2021-01-17T21:59:50.240730",
     "status": "completed"
    },
    "tags": []
   },
   "outputs": [
    {
     "data": {
      "application/vnd.jupyter.widget-view+json": {
       "model_id": "cf5324431d554b6cb349ff17dfefbc65",
       "version_major": 2,
       "version_minor": 0
      },
      "text/plain": [
       "HBox(children=(FloatProgress(value=1.0, bar_style='info', description='Testing', layout=Layout(flex='2'), max=…"
      ]
     },
     "metadata": {},
     "output_type": "display_data"
    },
    {
     "name": "stderr",
     "output_type": "stream",
     "text": [
      "[\u001b[36m01/17/2021 22:01:37\u001b[0m][\u001b[35mINFO\u001b[0m]: Finished !\u001b[0m\n",
      "[\u001b[36m01/17/2021 22:01:37\u001b[0m][\u001b[35mINFO\u001b[0m]: [Train] loss: 0.3063 acc: 0.8197\u001b[0m\n",
      "[\u001b[36m01/17/2021 22:01:37\u001b[0m][\u001b[35mINFO\u001b[0m]: [Test ] loss: 0.1298 acc: 0.8893\u001b[0m\n"
     ]
    },
    {
     "name": "stdout",
     "output_type": "stream",
     "text": [
      "--------------------------------------------------------------------------------\n",
      "DATALOADER:0 TEST RESULTS\n",
      "{'test/acc': tensor(0.8893, device='cuda:0'),\n",
      " 'test/loss': tensor(0.1298, device='cuda:0'),\n",
      " 'train/acc': tensor(0.5385, device='cuda:0'),\n",
      " 'train/acc_epoch': tensor(0.8197, device='cuda:0'),\n",
      " 'train/acc_step': tensor(0.5385, device='cuda:0'),\n",
      " 'train/loss': tensor(0.5147, device='cuda:0'),\n",
      " 'train/loss_epoch': tensor(0.3063, device='cuda:0'),\n",
      " 'train/loss_step': tensor(0.5147, device='cuda:0'),\n",
      " 'valid/acc': tensor(0.8841, device='cuda:0'),\n",
      " 'valid/loss': tensor(0.1341, device='cuda:0')}\n",
      "--------------------------------------------------------------------------------\n",
      "\n"
     ]
    }
   ],
   "source": [
    "# Laod in the best checkpoint and save the model weights\n",
    "best_path = checkpoint_cb.best_model_path\n",
    "\n",
    "# Testing Stage\n",
    "res = trainer.test(datamodule=datamodule, verbose=True, ckpt_path=best_path)"
   ]
  },
  {
   "cell_type": "markdown",
   "metadata": {
    "papermill": {
     "duration": 0.065222,
     "end_time": "2021-01-17T22:01:37.333639",
     "exception": false,
     "start_time": "2021-01-17T22:01:37.268417",
     "status": "completed"
    },
    "tags": []
   },
   "source": [
    "## Finish training/ save model weights/ clean up"
   ]
  },
  {
   "cell_type": "code",
   "execution_count": 21,
   "metadata": {
    "execution": {
     "iopub.execute_input": "2021-01-17T22:01:37.459363Z",
     "iopub.status.busy": "2021-01-17T22:01:37.454160Z",
     "iopub.status.idle": "2021-01-17T22:01:38.078908Z",
     "shell.execute_reply": "2021-01-17T22:01:38.078397Z"
    },
    "papermill": {
     "duration": 0.687461,
     "end_time": "2021-01-17T22:01:38.079033",
     "exception": false,
     "start_time": "2021-01-17T22:01:37.391572",
     "status": "completed"
    },
    "tags": []
   },
   "outputs": [
    {
     "name": "stderr",
     "output_type": "stream",
     "text": [
      "[\u001b[36m01/17/2021 22:01:38\u001b[0m][\u001b[35mINFO\u001b[0m]: Best weights loaded from checkpoint : /kaggle/working/leaf-disease-classification-kaggle/wandb/run-20210117_183521-19rqiwxa/files/kaggle-leaf-disease-hydra-cli/19rqiwxa/checkpoints/epoch=8.ckpt\u001b[0m\n"
     ]
    }
   ],
   "source": [
    "# load in the best model weights\n",
    "checkpoint = torch.load(best_path)\n",
    "lit_model.load_state_dict(checkpoint[\"state_dict\"])\n",
    "log.info(f\"Best weights loaded from checkpoint : {best_path}\")"
   ]
  },
  {
   "cell_type": "code",
   "execution_count": 22,
   "metadata": {
    "execution": {
     "iopub.execute_input": "2021-01-17T22:01:38.194774Z",
     "iopub.status.busy": "2021-01-17T22:01:38.193994Z",
     "iopub.status.idle": "2021-01-17T22:01:38.563716Z",
     "shell.execute_reply": "2021-01-17T22:01:38.563067Z"
    },
    "papermill": {
     "duration": 0.430031,
     "end_time": "2021-01-17T22:01:38.563867",
     "exception": false,
     "start_time": "2021-01-17T22:01:38.133836",
     "status": "completed"
    },
    "tags": []
   },
   "outputs": [],
   "source": [
    "# create model save dir\n",
    "os.makedirs(conf.general.save_dir, exist_ok=True)\n",
    "pth = os.path.join(conf.general.save_dir, f\"{model_name}.pt\")\n",
    "\n",
    "# save the weights of the model\n",
    "lit_model.save_model_weights(pth)"
   ]
  },
  {
   "cell_type": "code",
   "execution_count": 23,
   "metadata": {
    "execution": {
     "iopub.execute_input": "2021-01-17T22:01:38.679158Z",
     "iopub.status.busy": "2021-01-17T22:01:38.678165Z",
     "iopub.status.idle": "2021-01-17T22:01:48.079882Z",
     "shell.execute_reply": "2021-01-17T22:01:48.079362Z"
    },
    "papermill": {
     "duration": 9.460738,
     "end_time": "2021-01-17T22:01:48.079996",
     "exception": false,
     "start_time": "2021-01-17T22:01:38.619258",
     "status": "completed"
    },
    "tags": []
   },
   "outputs": [
    {
     "name": "stderr",
     "output_type": "stream",
     "text": [
      "\u001b[34m\u001b[1mwandb\u001b[0m: \u001b[33mWARNING\u001b[0m Saving files without folders. If you want to preserve sub directories pass base_path to wandb.save, i.e. wandb.save(\"/mnt/folder/file.h5\", base_path=\"/mnt\")\n",
      "[\u001b[36m01/17/2021 22:01:38\u001b[0m][\u001b[35mINFO\u001b[0m]: Finishing up !\u001b[0m\n"
     ]
    },
    {
     "data": {
      "text/html": [
       "<br/>Waiting for W&B process to finish, PID 286<br/>Program ended successfully."
      ],
      "text/plain": [
       "<IPython.core.display.HTML object>"
      ]
     },
     "metadata": {},
     "output_type": "display_data"
    },
    {
     "data": {
      "application/vnd.jupyter.widget-view+json": {
       "model_id": "bc0aa1075e294e928d2dfe2f4681b61e",
       "version_major": 2,
       "version_minor": 0
      },
      "text/plain": [
       "VBox(children=(Label(value=' 0.06MB of 0.06MB uploaded (0.00MB deduped)\\r'), FloatProgress(value=1.0, max=1.0)…"
      ]
     },
     "metadata": {},
     "output_type": "display_data"
    },
    {
     "data": {
      "text/html": [
       "Find user logs for this run at: <code>/kaggle/working/leaf-disease-classification-kaggle/wandb/run-20210117_183521-19rqiwxa/logs/debug.log</code>"
      ],
      "text/plain": [
       "<IPython.core.display.HTML object>"
      ]
     },
     "metadata": {},
     "output_type": "display_data"
    },
    {
     "data": {
      "text/html": [
       "Find internal logs for this run at: <code>/kaggle/working/leaf-disease-classification-kaggle/wandb/run-20210117_183521-19rqiwxa/logs/debug-internal.log</code>"
      ],
      "text/plain": [
       "<IPython.core.display.HTML object>"
      ]
     },
     "metadata": {},
     "output_type": "display_data"
    },
    {
     "data": {
      "text/html": [
       "<h3>Run summary:</h3><br/><style>\n",
       "    table.wandb td:nth-child(1) { padding: 0 10px; text-align: right }\n",
       "    </style><table class=\"wandb\">\n",
       "<tr><td>lr-AdamW/pg1</td><td>0.0</td></tr><tr><td>lr-AdamW/pg2</td><td>4e-05</td></tr><tr><td>train/loss_step</td><td>0.51474</td></tr><tr><td>train/acc_step</td><td>0.53846</td></tr><tr><td>epoch</td><td>9</td></tr><tr><td>_step</td><td>4816</td></tr><tr><td>_runtime</td><td>12377</td></tr><tr><td>_timestamp</td><td>1610920898</td></tr><tr><td>valid/loss</td><td>0.13414</td></tr><tr><td>valid/acc</td><td>0.88411</td></tr><tr><td>train/loss_epoch</td><td>0.30631</td></tr><tr><td>train/acc_epoch</td><td>0.81966</td></tr><tr><td>test/loss</td><td>0.12983</td></tr><tr><td>test/acc</td><td>0.88925</td></tr></table>"
      ],
      "text/plain": [
       "<IPython.core.display.HTML object>"
      ]
     },
     "metadata": {},
     "output_type": "display_data"
    },
    {
     "data": {
      "text/html": [
       "<h3>Run history:</h3><br/><style>\n",
       "    table.wandb td:nth-child(1) { padding: 0 10px; text-align: right }\n",
       "    </style><table class=\"wandb\">\n",
       "<tr><td>lr-AdamW/pg1</td><td>▁▂▄▆████▇▇▇▇▇▆▆▆▆▆▅▅▅▅▅▄▄▄▄▃▃▃▃▃▃▂▂▂▂▁▁▁</td></tr><tr><td>lr-AdamW/pg2</td><td>▁▂▄▆████▇▇▇▇▇▆▆▆▆▆▅▅▅▅▅▄▄▄▄▃▃▃▃▃▃▂▂▂▂▁▁▁</td></tr><tr><td>train/loss_step</td><td>▆█▆▆▅█▃▂▂▃▄▂▂▇▅▃▂▁▃▁▃▂▆▃▅▂▂▅▄▆▆▆▅▃▆▂▁▅▂▆</td></tr><tr><td>train/acc_step</td><td>▃▁▄▅▇▃▅▆▇▅▇▇▇▃▅▆▆█▆█▅▆▅▅▅▆▅▇▄▄▄▂▇▆▃▆▇▆▆▅</td></tr><tr><td>epoch</td><td>▁▁▁▁▁▂▂▂▂▃▃▃▃▃▄▄▄▄▅▅▅▅▅▅▅▅▅▆▆▆▆▇▇▇▇█████</td></tr><tr><td>_step</td><td>▁▁▁▁▂▂▂▂▂▃▃▃▃▃▃▄▄▄▄▄▅▅▅▅▅▅▆▆▆▆▆▆▇▇▇▇▇███</td></tr><tr><td>_runtime</td><td>▁▁▁▁▂▂▂▂▂▃▃▃▃▃▃▄▄▄▄▄▅▅▅▅▅▅▆▆▆▆▆▇▇▇▇▇▇███</td></tr><tr><td>_timestamp</td><td>▁▁▁▁▂▂▂▂▂▃▃▃▃▃▃▄▄▄▄▄▅▅▅▅▅▅▆▆▆▆▆▇▇▇▇▇▇███</td></tr><tr><td>valid/loss</td><td>█▅▃▃▃▂▂▁▂</td></tr><tr><td>valid/acc</td><td>▁▄▆▆▇█▇█▇</td></tr><tr><td>train/loss_epoch</td><td>█▃▂▂▂▁▁▁▁</td></tr><tr><td>train/acc_epoch</td><td>▁▆▇▇▇████</td></tr><tr><td>test/loss</td><td>▁</td></tr><tr><td>test/acc</td><td>▁</td></tr></table><br/>"
      ],
      "text/plain": [
       "<IPython.core.display.HTML object>"
      ]
     },
     "metadata": {},
     "output_type": "display_data"
    },
    {
     "data": {
      "text/html": [
       "Synced 5 W&B file(s), 10 media file(s), 0 artifact file(s) and 3 other file(s)"
      ],
      "text/plain": [
       "<IPython.core.display.HTML object>"
      ]
     },
     "metadata": {},
     "output_type": "display_data"
    },
    {
     "data": {
      "text/html": [
       "\n",
       "                    <br/>Synced <strong style=\"color:#cdcd00\">jolly-leaf-110</strong>: <a href=\"https://wandb.ai/ayushman/kaggle-leaf-disease-hydra-cli/runs/19rqiwxa\" target=\"_blank\">https://wandb.ai/ayushman/kaggle-leaf-disease-hydra-cli/runs/19rqiwxa</a><br/>\n",
       "                "
      ],
      "text/plain": [
       "<IPython.core.display.HTML object>"
      ]
     },
     "metadata": {},
     "output_type": "display_data"
    }
   ],
   "source": [
    "# upload trained weights to wandb\n",
    "wandb.save(pth)\n",
    "\n",
    "log.info(\"Finishing up !\")\n",
    "\n",
    "try:\n",
    "    conf_path = os.path.join(args.general.save_dir, \"configFile.yaml\")\n",
    "    OmegaConf.save(conf, f=conf_path)\n",
    "    wandb.save(conf_path)\n",
    "except:\n",
    "    pass\n",
    "\n",
    "wandb.finish()"
   ]
  }
 ],
 "metadata": {
  "kernelspec": {
   "display_name": "Python 3",
   "language": "python",
   "name": "python3"
  },
  "language_info": {
   "codemirror_mode": {
    "name": "ipython",
    "version": 3
   },
   "file_extension": ".py",
   "mimetype": "text/x-python",
   "name": "python",
   "nbconvert_exporter": "python",
   "pygments_lexer": "ipython3",
   "version": "3.7.6"
  },
  "papermill": {
   "duration": 12689.753595,
   "end_time": "2021-01-17T22:01:49.460003",
   "environment_variables": {},
   "exception": null,
   "input_path": "__notebook__.ipynb",
   "output_path": "__notebook__.ipynb",
   "parameters": {},
   "start_time": "2021-01-17T18:30:19.706408",
   "version": "2.1.0"
  },
  "widgets": {
   "application/vnd.jupyter.widget-state+json": {
    "state": {
     "002b6deb644f4258843850a388320b3e": {
      "model_module": "@jupyter-widgets/base",
      "model_module_version": "1.2.0",
      "model_name": "LayoutModel",
      "state": {
       "_model_module": "@jupyter-widgets/base",
       "_model_module_version": "1.2.0",
       "_model_name": "LayoutModel",
       "_view_count": null,
       "_view_module": "@jupyter-widgets/base",
       "_view_module_version": "1.2.0",
       "_view_name": "LayoutView",
       "align_content": null,
       "align_items": null,
       "align_self": null,
       "border": null,
       "bottom": null,
       "display": "inline-flex",
       "flex": null,
       "flex_flow": "row wrap",
       "grid_area": null,
       "grid_auto_columns": null,
       "grid_auto_flow": null,
       "grid_auto_rows": null,
       "grid_column": null,
       "grid_gap": null,
       "grid_row": null,
       "grid_template_areas": null,
       "grid_template_columns": null,
       "grid_template_rows": null,
       "height": null,
       "justify_content": null,
       "justify_items": null,
       "left": null,
       "margin": null,
       "max_height": null,
       "max_width": null,
       "min_height": null,
       "min_width": null,
       "object_fit": null,
       "object_position": null,
       "order": null,
       "overflow": null,
       "overflow_x": null,
       "overflow_y": null,
       "padding": null,
       "right": null,
       "top": null,
       "visibility": null,
       "width": "100%"
      }
     },
     "013eaef30b55406fb4a63a88676652f0": {
      "model_module": "@jupyter-widgets/controls",
      "model_module_version": "1.5.0",
      "model_name": "LabelModel",
      "state": {
       "_dom_classes": [],
       "_model_module": "@jupyter-widgets/controls",
       "_model_module_version": "1.5.0",
       "_model_name": "LabelModel",
       "_view_count": null,
       "_view_module": "@jupyter-widgets/controls",
       "_view_module_version": "1.5.0",
       "_view_name": "LabelView",
       "description": "",
       "description_tooltip": null,
       "layout": "IPY_MODEL_e10efd1319454cb38100e8eaf3cbd4d0",
       "placeholder": "​",
       "style": "IPY_MODEL_c7eef7cbf3b9440a93270a35b263b5d4",
       "value": " 718.52MB of 718.52MB uploaded (0.00MB deduped)\r"
      }
     },
     "01e798f8f31f4b299462010c4c399fc8": {
      "model_module": "@jupyter-widgets/controls",
      "model_module_version": "1.5.0",
      "model_name": "HTMLModel",
      "state": {
       "_dom_classes": [],
       "_model_module": "@jupyter-widgets/controls",
       "_model_module_version": "1.5.0",
       "_model_name": "HTMLModel",
       "_view_count": null,
       "_view_module": "@jupyter-widgets/controls",
       "_view_module_version": "1.5.0",
       "_view_name": "HTMLView",
       "description": "",
       "description_tooltip": null,
       "layout": "IPY_MODEL_fb7b7615fefa460bae2957994dd7224d",
       "placeholder": "​",
       "style": "IPY_MODEL_180d7a93d42840bfbbc088d1a077ddd9",
       "value": " 1338/1338 [22:30&lt;00:00,  3.18it/s, loss=0.255, v_num=iwxa]"
      }
     },
     "0a75a25942db4b55bd68c331996fce5e": {
      "model_module": "@jupyter-widgets/base",
      "model_module_version": "1.2.0",
      "model_name": "LayoutModel",
      "state": {
       "_model_module": "@jupyter-widgets/base",
       "_model_module_version": "1.2.0",
       "_model_name": "LayoutModel",
       "_view_count": null,
       "_view_module": "@jupyter-widgets/base",
       "_view_module_version": "1.2.0",
       "_view_name": "LayoutView",
       "align_content": null,
       "align_items": null,
       "align_self": null,
       "border": null,
       "bottom": null,
       "display": null,
       "flex": null,
       "flex_flow": null,
       "grid_area": null,
       "grid_auto_columns": null,
       "grid_auto_flow": null,
       "grid_auto_rows": null,
       "grid_column": null,
       "grid_gap": null,
       "grid_row": null,
       "grid_template_areas": null,
       "grid_template_columns": null,
       "grid_template_rows": null,
       "height": null,
       "justify_content": null,
       "justify_items": null,
       "left": null,
       "margin": null,
       "max_height": null,
       "max_width": null,
       "min_height": null,
       "min_width": null,
       "object_fit": null,
       "object_position": null,
       "order": null,
       "overflow": null,
       "overflow_x": null,
       "overflow_y": null,
       "padding": null,
       "right": null,
       "top": null,
       "visibility": null,
       "width": null
      }
     },
     "180d7a93d42840bfbbc088d1a077ddd9": {
      "model_module": "@jupyter-widgets/controls",
      "model_module_version": "1.5.0",
      "model_name": "DescriptionStyleModel",
      "state": {
       "_model_module": "@jupyter-widgets/controls",
       "_model_module_version": "1.5.0",
       "_model_name": "DescriptionStyleModel",
       "_view_count": null,
       "_view_module": "@jupyter-widgets/base",
       "_view_module_version": "1.2.0",
       "_view_name": "StyleView",
       "description_width": ""
      }
     },
     "263b5d1c02b64c7781dbba0a88591f46": {
      "model_module": "@jupyter-widgets/controls",
      "model_module_version": "1.5.0",
      "model_name": "FloatProgressModel",
      "state": {
       "_dom_classes": [],
       "_model_module": "@jupyter-widgets/controls",
       "_model_module_version": "1.5.0",
       "_model_name": "FloatProgressModel",
       "_view_count": null,
       "_view_module": "@jupyter-widgets/controls",
       "_view_module_version": "1.5.0",
       "_view_name": "ProgressView",
       "bar_style": "info",
       "description": "Epoch 9: 100%",
       "description_tooltip": null,
       "layout": "IPY_MODEL_406cb41ed2064d3a8839a9f964cffbb4",
       "max": 1338.0,
       "min": 0.0,
       "orientation": "horizontal",
       "style": "IPY_MODEL_edf62890544b43fca6f156715d2b09e0",
       "value": 1338.0
      }
     },
     "2d8f7fc54a6a4e8abb7eb36894aca7af": {
      "model_module": "@jupyter-widgets/controls",
      "model_module_version": "1.5.0",
      "model_name": "HTMLModel",
      "state": {
       "_dom_classes": [],
       "_model_module": "@jupyter-widgets/controls",
       "_model_module_version": "1.5.0",
       "_model_name": "HTMLModel",
       "_view_count": null,
       "_view_module": "@jupyter-widgets/controls",
       "_view_module_version": "1.5.0",
       "_view_name": "HTMLView",
       "description": "",
       "description_tooltip": null,
       "layout": "IPY_MODEL_67a03fb131e247bfa99dde62112f443b",
       "placeholder": "​",
       "style": "IPY_MODEL_65a672cc89e84f33aaf2beb96b1c253f",
       "value": " 100/100 [03:50&lt;00:00,  2.29s/it]"
      }
     },
     "37544ff086bf45da9db6992412f803a5": {
      "model_module": "@jupyter-widgets/base",
      "model_module_version": "1.2.0",
      "model_name": "LayoutModel",
      "state": {
       "_model_module": "@jupyter-widgets/base",
       "_model_module_version": "1.2.0",
       "_model_name": "LayoutModel",
       "_view_count": null,
       "_view_module": "@jupyter-widgets/base",
       "_view_module_version": "1.2.0",
       "_view_name": "LayoutView",
       "align_content": null,
       "align_items": null,
       "align_self": null,
       "border": null,
       "bottom": null,
       "display": null,
       "flex": null,
       "flex_flow": null,
       "grid_area": null,
       "grid_auto_columns": null,
       "grid_auto_flow": null,
       "grid_auto_rows": null,
       "grid_column": null,
       "grid_gap": null,
       "grid_row": null,
       "grid_template_areas": null,
       "grid_template_columns": null,
       "grid_template_rows": null,
       "height": null,
       "justify_content": null,
       "justify_items": null,
       "left": null,
       "margin": null,
       "max_height": null,
       "max_width": null,
       "min_height": null,
       "min_width": null,
       "object_fit": null,
       "object_position": null,
       "order": null,
       "overflow": null,
       "overflow_x": null,
       "overflow_y": null,
       "padding": null,
       "right": null,
       "top": null,
       "visibility": null,
       "width": null
      }
     },
     "3ad500a97b5541369dc578042a961c39": {
      "model_module": "@jupyter-widgets/controls",
      "model_module_version": "1.5.0",
      "model_name": "HBoxModel",
      "state": {
       "_dom_classes": [],
       "_model_module": "@jupyter-widgets/controls",
       "_model_module_version": "1.5.0",
       "_model_name": "HBoxModel",
       "_view_count": null,
       "_view_module": "@jupyter-widgets/controls",
       "_view_module_version": "1.5.0",
       "_view_name": "HBoxView",
       "box_style": "",
       "children": [
        "IPY_MODEL_263b5d1c02b64c7781dbba0a88591f46",
        "IPY_MODEL_01e798f8f31f4b299462010c4c399fc8"
       ],
       "layout": "IPY_MODEL_845a193bcb0d466eb760d4c7a01a25f4"
      }
     },
     "406cb41ed2064d3a8839a9f964cffbb4": {
      "model_module": "@jupyter-widgets/base",
      "model_module_version": "1.2.0",
      "model_name": "LayoutModel",
      "state": {
       "_model_module": "@jupyter-widgets/base",
       "_model_module_version": "1.2.0",
       "_model_name": "LayoutModel",
       "_view_count": null,
       "_view_module": "@jupyter-widgets/base",
       "_view_module_version": "1.2.0",
       "_view_name": "LayoutView",
       "align_content": null,
       "align_items": null,
       "align_self": null,
       "border": null,
       "bottom": null,
       "display": null,
       "flex": "2",
       "flex_flow": null,
       "grid_area": null,
       "grid_auto_columns": null,
       "grid_auto_flow": null,
       "grid_auto_rows": null,
       "grid_column": null,
       "grid_gap": null,
       "grid_row": null,
       "grid_template_areas": null,
       "grid_template_columns": null,
       "grid_template_rows": null,
       "height": null,
       "justify_content": null,
       "justify_items": null,
       "left": null,
       "margin": null,
       "max_height": null,
       "max_width": null,
       "min_height": null,
       "min_width": null,
       "object_fit": null,
       "object_position": null,
       "order": null,
       "overflow": null,
       "overflow_x": null,
       "overflow_y": null,
       "padding": null,
       "right": null,
       "top": null,
       "visibility": null,
       "width": null
      }
     },
     "4f4b29da415c4d2fad77f72e28eb0c25": {
      "model_module": "@jupyter-widgets/base",
      "model_module_version": "1.2.0",
      "model_name": "LayoutModel",
      "state": {
       "_model_module": "@jupyter-widgets/base",
       "_model_module_version": "1.2.0",
       "_model_name": "LayoutModel",
       "_view_count": null,
       "_view_module": "@jupyter-widgets/base",
       "_view_module_version": "1.2.0",
       "_view_name": "LayoutView",
       "align_content": null,
       "align_items": null,
       "align_self": null,
       "border": null,
       "bottom": null,
       "display": null,
       "flex": null,
       "flex_flow": null,
       "grid_area": null,
       "grid_auto_columns": null,
       "grid_auto_flow": null,
       "grid_auto_rows": null,
       "grid_column": null,
       "grid_gap": null,
       "grid_row": null,
       "grid_template_areas": null,
       "grid_template_columns": null,
       "grid_template_rows": null,
       "height": null,
       "justify_content": null,
       "justify_items": null,
       "left": null,
       "margin": null,
       "max_height": null,
       "max_width": null,
       "min_height": null,
       "min_width": null,
       "object_fit": null,
       "object_position": null,
       "order": null,
       "overflow": null,
       "overflow_x": null,
       "overflow_y": null,
       "padding": null,
       "right": null,
       "top": null,
       "visibility": null,
       "width": null
      }
     },
     "5ff2adaea9f743af9e333774f1beab83": {
      "model_module": "@jupyter-widgets/controls",
      "model_module_version": "1.5.0",
      "model_name": "DescriptionStyleModel",
      "state": {
       "_model_module": "@jupyter-widgets/controls",
       "_model_module_version": "1.5.0",
       "_model_name": "DescriptionStyleModel",
       "_view_count": null,
       "_view_module": "@jupyter-widgets/base",
       "_view_module_version": "1.2.0",
       "_view_name": "StyleView",
       "description_width": ""
      }
     },
     "65a672cc89e84f33aaf2beb96b1c253f": {
      "model_module": "@jupyter-widgets/controls",
      "model_module_version": "1.5.0",
      "model_name": "DescriptionStyleModel",
      "state": {
       "_model_module": "@jupyter-widgets/controls",
       "_model_module_version": "1.5.0",
       "_model_name": "DescriptionStyleModel",
       "_view_count": null,
       "_view_module": "@jupyter-widgets/base",
       "_view_module_version": "1.2.0",
       "_view_name": "StyleView",
       "description_width": ""
      }
     },
     "67a03fb131e247bfa99dde62112f443b": {
      "model_module": "@jupyter-widgets/base",
      "model_module_version": "1.2.0",
      "model_name": "LayoutModel",
      "state": {
       "_model_module": "@jupyter-widgets/base",
       "_model_module_version": "1.2.0",
       "_model_name": "LayoutModel",
       "_view_count": null,
       "_view_module": "@jupyter-widgets/base",
       "_view_module_version": "1.2.0",
       "_view_name": "LayoutView",
       "align_content": null,
       "align_items": null,
       "align_self": null,
       "border": null,
       "bottom": null,
       "display": null,
       "flex": null,
       "flex_flow": null,
       "grid_area": null,
       "grid_auto_columns": null,
       "grid_auto_flow": null,
       "grid_auto_rows": null,
       "grid_column": null,
       "grid_gap": null,
       "grid_row": null,
       "grid_template_areas": null,
       "grid_template_columns": null,
       "grid_template_rows": null,
       "height": null,
       "justify_content": null,
       "justify_items": null,
       "left": null,
       "margin": null,
       "max_height": null,
       "max_width": null,
       "min_height": null,
       "min_width": null,
       "object_fit": null,
       "object_position": null,
       "order": null,
       "overflow": null,
       "overflow_x": null,
       "overflow_y": null,
       "padding": null,
       "right": null,
       "top": null,
       "visibility": null,
       "width": null
      }
     },
     "6ac5944583aa4d8594190adf470c3ec0": {
      "model_module": "@jupyter-widgets/controls",
      "model_module_version": "1.5.0",
      "model_name": "ProgressStyleModel",
      "state": {
       "_model_module": "@jupyter-widgets/controls",
       "_model_module_version": "1.5.0",
       "_model_name": "ProgressStyleModel",
       "_view_count": null,
       "_view_module": "@jupyter-widgets/base",
       "_view_module_version": "1.2.0",
       "_view_name": "StyleView",
       "bar_color": null,
       "description_width": "initial"
      }
     },
     "845a193bcb0d466eb760d4c7a01a25f4": {
      "model_module": "@jupyter-widgets/base",
      "model_module_version": "1.2.0",
      "model_name": "LayoutModel",
      "state": {
       "_model_module": "@jupyter-widgets/base",
       "_model_module_version": "1.2.0",
       "_model_name": "LayoutModel",
       "_view_count": null,
       "_view_module": "@jupyter-widgets/base",
       "_view_module_version": "1.2.0",
       "_view_name": "LayoutView",
       "align_content": null,
       "align_items": null,
       "align_self": null,
       "border": null,
       "bottom": null,
       "display": "inline-flex",
       "flex": null,
       "flex_flow": "row wrap",
       "grid_area": null,
       "grid_auto_columns": null,
       "grid_auto_flow": null,
       "grid_auto_rows": null,
       "grid_column": null,
       "grid_gap": null,
       "grid_row": null,
       "grid_template_areas": null,
       "grid_template_columns": null,
       "grid_template_rows": null,
       "height": null,
       "justify_content": null,
       "justify_items": null,
       "left": null,
       "margin": null,
       "max_height": null,
       "max_width": null,
       "min_height": null,
       "min_width": null,
       "object_fit": null,
       "object_position": null,
       "order": null,
       "overflow": null,
       "overflow_x": null,
       "overflow_y": null,
       "padding": null,
       "right": null,
       "top": null,
       "visibility": null,
       "width": "100%"
      }
     },
     "972933f610a04f849ae98f5d0dc618b9": {
      "model_module": "@jupyter-widgets/base",
      "model_module_version": "1.2.0",
      "model_name": "LayoutModel",
      "state": {
       "_model_module": "@jupyter-widgets/base",
       "_model_module_version": "1.2.0",
       "_model_name": "LayoutModel",
       "_view_count": null,
       "_view_module": "@jupyter-widgets/base",
       "_view_module_version": "1.2.0",
       "_view_name": "LayoutView",
       "align_content": null,
       "align_items": null,
       "align_self": null,
       "border": null,
       "bottom": null,
       "display": null,
       "flex": "2",
       "flex_flow": null,
       "grid_area": null,
       "grid_auto_columns": null,
       "grid_auto_flow": null,
       "grid_auto_rows": null,
       "grid_column": null,
       "grid_gap": null,
       "grid_row": null,
       "grid_template_areas": null,
       "grid_template_columns": null,
       "grid_template_rows": null,
       "height": null,
       "justify_content": null,
       "justify_items": null,
       "left": null,
       "margin": null,
       "max_height": null,
       "max_width": null,
       "min_height": null,
       "min_width": null,
       "object_fit": null,
       "object_position": null,
       "order": null,
       "overflow": null,
       "overflow_x": null,
       "overflow_y": null,
       "padding": null,
       "right": null,
       "top": null,
       "visibility": null,
       "width": null
      }
     },
     "983beed6555141069bf5a3b32a4085f2": {
      "model_module": "@jupyter-widgets/controls",
      "model_module_version": "1.5.0",
      "model_name": "HTMLModel",
      "state": {
       "_dom_classes": [],
       "_model_module": "@jupyter-widgets/controls",
       "_model_module_version": "1.5.0",
       "_model_name": "HTMLModel",
       "_view_count": null,
       "_view_module": "@jupyter-widgets/controls",
       "_view_module_version": "1.5.0",
       "_view_name": "HTMLView",
       "description": "",
       "description_tooltip": null,
       "layout": "IPY_MODEL_0a75a25942db4b55bd68c331996fce5e",
       "placeholder": "​",
       "style": "IPY_MODEL_5ff2adaea9f743af9e333774f1beab83",
       "value": " 268/268 [01:45&lt;00:00,  2.54it/s]"
      }
     },
     "a16e4819405249ab858e7f6b02ad0972": {
      "model_module": "@jupyter-widgets/controls",
      "model_module_version": "1.5.0",
      "model_name": "ProgressStyleModel",
      "state": {
       "_model_module": "@jupyter-widgets/controls",
       "_model_module_version": "1.5.0",
       "_model_name": "ProgressStyleModel",
       "_view_count": null,
       "_view_module": "@jupyter-widgets/base",
       "_view_module_version": "1.2.0",
       "_view_name": "StyleView",
       "bar_color": null,
       "description_width": "initial"
      }
     },
     "ac309e8577d14b408ea6a65a81a6093b": {
      "model_module": "@jupyter-widgets/controls",
      "model_module_version": "1.5.0",
      "model_name": "ProgressStyleModel",
      "state": {
       "_model_module": "@jupyter-widgets/controls",
       "_model_module_version": "1.5.0",
       "_model_name": "ProgressStyleModel",
       "_view_count": null,
       "_view_module": "@jupyter-widgets/base",
       "_view_module_version": "1.2.0",
       "_view_name": "StyleView",
       "bar_color": null,
       "description_width": ""
      }
     },
     "bc0aa1075e294e928d2dfe2f4681b61e": {
      "model_module": "@jupyter-widgets/controls",
      "model_module_version": "1.5.0",
      "model_name": "VBoxModel",
      "state": {
       "_dom_classes": [],
       "_model_module": "@jupyter-widgets/controls",
       "_model_module_version": "1.5.0",
       "_model_name": "VBoxModel",
       "_view_count": null,
       "_view_module": "@jupyter-widgets/controls",
       "_view_module_version": "1.5.0",
       "_view_name": "VBoxView",
       "box_style": "",
       "children": [
        "IPY_MODEL_013eaef30b55406fb4a63a88676652f0",
        "IPY_MODEL_ce013f7a2f9641cdbcf713e8f9f3f2c2"
       ],
       "layout": "IPY_MODEL_f3965045e590415f90dbea051ae366ea"
      }
     },
     "c7eef7cbf3b9440a93270a35b263b5d4": {
      "model_module": "@jupyter-widgets/controls",
      "model_module_version": "1.5.0",
      "model_name": "DescriptionStyleModel",
      "state": {
       "_model_module": "@jupyter-widgets/controls",
       "_model_module_version": "1.5.0",
       "_model_name": "DescriptionStyleModel",
       "_view_count": null,
       "_view_module": "@jupyter-widgets/base",
       "_view_module_version": "1.2.0",
       "_view_name": "StyleView",
       "description_width": ""
      }
     },
     "c8e9bb7e467a44de9c750f96f1781450": {
      "model_module": "@jupyter-widgets/controls",
      "model_module_version": "1.5.0",
      "model_name": "HBoxModel",
      "state": {
       "_dom_classes": [],
       "_model_module": "@jupyter-widgets/controls",
       "_model_module_version": "1.5.0",
       "_model_name": "HBoxModel",
       "_view_count": null,
       "_view_module": "@jupyter-widgets/controls",
       "_view_module_version": "1.5.0",
       "_view_name": "HBoxView",
       "box_style": "",
       "children": [
        "IPY_MODEL_febf618d7a374de090c30e6719d05ff8",
        "IPY_MODEL_2d8f7fc54a6a4e8abb7eb36894aca7af"
       ],
       "layout": "IPY_MODEL_da7239c21b5844d4966cfc02efe648be"
      }
     },
     "ce013f7a2f9641cdbcf713e8f9f3f2c2": {
      "model_module": "@jupyter-widgets/controls",
      "model_module_version": "1.5.0",
      "model_name": "FloatProgressModel",
      "state": {
       "_dom_classes": [],
       "_model_module": "@jupyter-widgets/controls",
       "_model_module_version": "1.5.0",
       "_model_name": "FloatProgressModel",
       "_view_count": null,
       "_view_module": "@jupyter-widgets/controls",
       "_view_module_version": "1.5.0",
       "_view_name": "ProgressView",
       "bar_style": "",
       "description": "",
       "description_tooltip": null,
       "layout": "IPY_MODEL_37544ff086bf45da9db6992412f803a5",
       "max": 1.0,
       "min": 0.0,
       "orientation": "horizontal",
       "style": "IPY_MODEL_ac309e8577d14b408ea6a65a81a6093b",
       "value": 1.0
      }
     },
     "cf5324431d554b6cb349ff17dfefbc65": {
      "model_module": "@jupyter-widgets/controls",
      "model_module_version": "1.5.0",
      "model_name": "HBoxModel",
      "state": {
       "_dom_classes": [],
       "_model_module": "@jupyter-widgets/controls",
       "_model_module_version": "1.5.0",
       "_model_name": "HBoxModel",
       "_view_count": null,
       "_view_module": "@jupyter-widgets/controls",
       "_view_module_version": "1.5.0",
       "_view_name": "HBoxView",
       "box_style": "",
       "children": [
        "IPY_MODEL_f098177ecdce4e0fb99f688eba0ca264",
        "IPY_MODEL_983beed6555141069bf5a3b32a4085f2"
       ],
       "layout": "IPY_MODEL_002b6deb644f4258843850a388320b3e"
      }
     },
     "da7239c21b5844d4966cfc02efe648be": {
      "model_module": "@jupyter-widgets/base",
      "model_module_version": "1.2.0",
      "model_name": "LayoutModel",
      "state": {
       "_model_module": "@jupyter-widgets/base",
       "_model_module_version": "1.2.0",
       "_model_name": "LayoutModel",
       "_view_count": null,
       "_view_module": "@jupyter-widgets/base",
       "_view_module_version": "1.2.0",
       "_view_name": "LayoutView",
       "align_content": null,
       "align_items": null,
       "align_self": null,
       "border": null,
       "bottom": null,
       "display": null,
       "flex": null,
       "flex_flow": null,
       "grid_area": null,
       "grid_auto_columns": null,
       "grid_auto_flow": null,
       "grid_auto_rows": null,
       "grid_column": null,
       "grid_gap": null,
       "grid_row": null,
       "grid_template_areas": null,
       "grid_template_columns": null,
       "grid_template_rows": null,
       "height": null,
       "justify_content": null,
       "justify_items": null,
       "left": null,
       "margin": null,
       "max_height": null,
       "max_width": null,
       "min_height": null,
       "min_width": null,
       "object_fit": null,
       "object_position": null,
       "order": null,
       "overflow": null,
       "overflow_x": null,
       "overflow_y": null,
       "padding": null,
       "right": null,
       "top": null,
       "visibility": null,
       "width": null
      }
     },
     "e10efd1319454cb38100e8eaf3cbd4d0": {
      "model_module": "@jupyter-widgets/base",
      "model_module_version": "1.2.0",
      "model_name": "LayoutModel",
      "state": {
       "_model_module": "@jupyter-widgets/base",
       "_model_module_version": "1.2.0",
       "_model_name": "LayoutModel",
       "_view_count": null,
       "_view_module": "@jupyter-widgets/base",
       "_view_module_version": "1.2.0",
       "_view_name": "LayoutView",
       "align_content": null,
       "align_items": null,
       "align_self": null,
       "border": null,
       "bottom": null,
       "display": null,
       "flex": null,
       "flex_flow": null,
       "grid_area": null,
       "grid_auto_columns": null,
       "grid_auto_flow": null,
       "grid_auto_rows": null,
       "grid_column": null,
       "grid_gap": null,
       "grid_row": null,
       "grid_template_areas": null,
       "grid_template_columns": null,
       "grid_template_rows": null,
       "height": null,
       "justify_content": null,
       "justify_items": null,
       "left": null,
       "margin": null,
       "max_height": null,
       "max_width": null,
       "min_height": null,
       "min_width": null,
       "object_fit": null,
       "object_position": null,
       "order": null,
       "overflow": null,
       "overflow_x": null,
       "overflow_y": null,
       "padding": null,
       "right": null,
       "top": null,
       "visibility": null,
       "width": null
      }
     },
     "edf62890544b43fca6f156715d2b09e0": {
      "model_module": "@jupyter-widgets/controls",
      "model_module_version": "1.5.0",
      "model_name": "ProgressStyleModel",
      "state": {
       "_model_module": "@jupyter-widgets/controls",
       "_model_module_version": "1.5.0",
       "_model_name": "ProgressStyleModel",
       "_view_count": null,
       "_view_module": "@jupyter-widgets/base",
       "_view_module_version": "1.2.0",
       "_view_name": "StyleView",
       "bar_color": null,
       "description_width": "initial"
      }
     },
     "f098177ecdce4e0fb99f688eba0ca264": {
      "model_module": "@jupyter-widgets/controls",
      "model_module_version": "1.5.0",
      "model_name": "FloatProgressModel",
      "state": {
       "_dom_classes": [],
       "_model_module": "@jupyter-widgets/controls",
       "_model_module_version": "1.5.0",
       "_model_name": "FloatProgressModel",
       "_view_count": null,
       "_view_module": "@jupyter-widgets/controls",
       "_view_module_version": "1.5.0",
       "_view_name": "ProgressView",
       "bar_style": "success",
       "description": "Testing: 100%",
       "description_tooltip": null,
       "layout": "IPY_MODEL_972933f610a04f849ae98f5d0dc618b9",
       "max": 1.0,
       "min": 0.0,
       "orientation": "horizontal",
       "style": "IPY_MODEL_6ac5944583aa4d8594190adf470c3ec0",
       "value": 1.0
      }
     },
     "f3965045e590415f90dbea051ae366ea": {
      "model_module": "@jupyter-widgets/base",
      "model_module_version": "1.2.0",
      "model_name": "LayoutModel",
      "state": {
       "_model_module": "@jupyter-widgets/base",
       "_model_module_version": "1.2.0",
       "_model_name": "LayoutModel",
       "_view_count": null,
       "_view_module": "@jupyter-widgets/base",
       "_view_module_version": "1.2.0",
       "_view_name": "LayoutView",
       "align_content": null,
       "align_items": null,
       "align_self": null,
       "border": null,
       "bottom": null,
       "display": null,
       "flex": null,
       "flex_flow": null,
       "grid_area": null,
       "grid_auto_columns": null,
       "grid_auto_flow": null,
       "grid_auto_rows": null,
       "grid_column": null,
       "grid_gap": null,
       "grid_row": null,
       "grid_template_areas": null,
       "grid_template_columns": null,
       "grid_template_rows": null,
       "height": null,
       "justify_content": null,
       "justify_items": null,
       "left": null,
       "margin": null,
       "max_height": null,
       "max_width": null,
       "min_height": null,
       "min_width": null,
       "object_fit": null,
       "object_position": null,
       "order": null,
       "overflow": null,
       "overflow_x": null,
       "overflow_y": null,
       "padding": null,
       "right": null,
       "top": null,
       "visibility": null,
       "width": null
      }
     },
     "fb7b7615fefa460bae2957994dd7224d": {
      "model_module": "@jupyter-widgets/base",
      "model_module_version": "1.2.0",
      "model_name": "LayoutModel",
      "state": {
       "_model_module": "@jupyter-widgets/base",
       "_model_module_version": "1.2.0",
       "_model_name": "LayoutModel",
       "_view_count": null,
       "_view_module": "@jupyter-widgets/base",
       "_view_module_version": "1.2.0",
       "_view_name": "LayoutView",
       "align_content": null,
       "align_items": null,
       "align_self": null,
       "border": null,
       "bottom": null,
       "display": null,
       "flex": null,
       "flex_flow": null,
       "grid_area": null,
       "grid_auto_columns": null,
       "grid_auto_flow": null,
       "grid_auto_rows": null,
       "grid_column": null,
       "grid_gap": null,
       "grid_row": null,
       "grid_template_areas": null,
       "grid_template_columns": null,
       "grid_template_rows": null,
       "height": null,
       "justify_content": null,
       "justify_items": null,
       "left": null,
       "margin": null,
       "max_height": null,
       "max_width": null,
       "min_height": null,
       "min_width": null,
       "object_fit": null,
       "object_position": null,
       "order": null,
       "overflow": null,
       "overflow_x": null,
       "overflow_y": null,
       "padding": null,
       "right": null,
       "top": null,
       "visibility": null,
       "width": null
      }
     },
     "febf618d7a374de090c30e6719d05ff8": {
      "model_module": "@jupyter-widgets/controls",
      "model_module_version": "1.5.0",
      "model_name": "FloatProgressModel",
      "state": {
       "_dom_classes": [],
       "_model_module": "@jupyter-widgets/controls",
       "_model_module_version": "1.5.0",
       "_model_name": "FloatProgressModel",
       "_view_count": null,
       "_view_module": "@jupyter-widgets/controls",
       "_view_module_version": "1.5.0",
       "_view_name": "ProgressView",
       "bar_style": "",
       "description": "Finding best initial lr: 100%",
       "description_tooltip": null,
       "layout": "IPY_MODEL_4f4b29da415c4d2fad77f72e28eb0c25",
       "max": 100.0,
       "min": 0.0,
       "orientation": "horizontal",
       "style": "IPY_MODEL_a16e4819405249ab858e7f6b02ad0972",
       "value": 100.0
      }
     }
    },
    "version_major": 2,
    "version_minor": 0
   }
  }
 },
 "nbformat": 4,
 "nbformat_minor": 4
}
