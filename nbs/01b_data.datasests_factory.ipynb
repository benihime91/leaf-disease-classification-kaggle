{
 "cells": [
  {
   "cell_type": "code",
   "execution_count": 1,
   "metadata": {},
   "outputs": [],
   "source": [
    "# default_exp data.dataset_factory"
   ]
  },
  {
   "cell_type": "code",
   "execution_count": 2,
   "metadata": {},
   "outputs": [],
   "source": [
    "from nbdev.export import *"
   ]
  },
  {
   "cell_type": "markdown",
   "metadata": {},
   "source": [
    "## Utility Functions for Loading Data from OmegaConf config"
   ]
  },
  {
   "cell_type": "code",
   "execution_count": 3,
   "metadata": {},
   "outputs": [],
   "source": [
    "# export\n",
    "import albumentations as A\n",
    "import torchvision.transforms as T\n",
    "from hydra.utils import instantiate\n",
    "from omegaconf import DictConfig, OmegaConf\n",
    "from torch.utils.data import DataLoader\n",
    "\n",
    "from src import _logger\n",
    "from src.data.datasets import CassavaDataset, load_data"
   ]
  },
  {
   "cell_type": "code",
   "execution_count": 4,
   "metadata": {},
   "outputs": [],
   "source": [
    "# export\n",
    "def create_transform(cfg: DictConfig, verbose=False):\n",
    "    \"creates transoformations to be used in datasets\"\n",
    "    train_augs_initial = [instantiate(t) for t in cfg.train.before_mix]\n",
    "    train_augs_final   = [instantiate(t) for t in cfg.train.after_mix]\n",
    "    valid_augs = [instantiate(t) for t in cfg.valid]\n",
    "    \n",
    "    if cfg.backend == \"torchvision\":\n",
    "        compose_func = T.Compose\n",
    "    elif cfg.backend == \"albumentations\":\n",
    "        compose_func = A.Compose\n",
    "    \n",
    "    train_augs_initial = compose_func(train_augs_initial)\n",
    "    train_augs_final   = compose_func(train_augs_final)\n",
    "    valid_augs = compose_func(valid_augs)\n",
    "    return train_augs_initial, train_augs_final, valid_augs"
   ]
  },
  {
   "cell_type": "markdown",
   "metadata": {},
   "source": [
    "## Dataset Mapper -"
   ]
  },
  {
   "cell_type": "code",
   "execution_count": 5,
   "metadata": {},
   "outputs": [],
   "source": [
    "# export\n",
    "class DatasetMapper:\n",
    "    \"A convenince class for CassavaImageClassification task\"\n",
    "    def __init__(self, cfg: DictConfig):\n",
    "        \"Note: `cfg` has to be the global hydra config\"\n",
    "        self.dset_cfg = cfg.data.dataset\n",
    "        self.tfms_cfg = cfg.augmentations\n",
    "        self.fold = self.dset_cfg.fold\n",
    "        \n",
    "    def generate_datasets(self):\n",
    "        _logger.info(f\"Generating Datasets for FOLD :{self.fold}\")\n",
    "        \n",
    "        # loads the data correspoind to the current fold\n",
    "        # and do some data preprocessing\n",
    "        self.data = load_data(self.dset_cfg.csv, self.dset_cfg.image_dir, self.fold, shuffle=True)\n",
    "        \n",
    "        self.train_data = self.data.loc[self.data[\"is_valid\"] == False]\n",
    "        self.valid_data = self.data.loc[self.data[\"is_valid\"] == True]\n",
    "        \n",
    "        self.train_data = self.train_data.sample(frac=1).reset_index(inplace=False, drop=True)\n",
    "        self.valid_data = self.valid_data.sample(frac=1).reset_index(inplace=False, drop=True)\n",
    "        \n",
    "        self.augs_initial, self.augs_final, self.augs_valid = create_transform(self.tfms_cfg)\n",
    "        \n",
    "        if self.tfms_cfg.backend == \"torchvision\":\n",
    "            \n",
    "            self.train_ds = CassavaDataset.from_torchvision_tfms(\n",
    "                self.train_data,\n",
    "                fn_col=\"filePath\",\n",
    "                label_col=\"label\",\n",
    "                transform=self.augs_initial)\n",
    "            \n",
    "            self.valid_ds = CassavaDataset.from_torchvision_tfms(\n",
    "                self.valid_data,\n",
    "                fn_col=\"filePath\",\n",
    "                label_col=\"label\",\n",
    "                transform=self.augs_valid)\n",
    "            \n",
    "            self.test_ds = self.valid_ds\n",
    "            _logger.info(f\"Train Dataset has {len(self.train_ds)}, Validation Dataset has {len(self.valid_ds)} instances.\")\n",
    "        \n",
    "        elif self.tfm_config.backend == \"albumentations\":\n",
    "            self.train_ds = CassavaDataset.from_albu_tfms(\n",
    "                self.train_data,\n",
    "                fn_col=\"filePath\",\n",
    "                label_col=\"label\",\n",
    "                transform=self.augs_initial\n",
    "            )\n",
    "\n",
    "            self.valid_ds = CassavaDataset.from_albu_tfms(\n",
    "                self.train_data,\n",
    "                fn_col=\"filePath\",\n",
    "                label_col=\"label\",\n",
    "                transform=self.augs_initial\n",
    "            )\n",
    "\n",
    "            self.test_ds = self.valid_ds\n",
    "            _logger.info(f\"Train Dataset has {len(self.train_ds)}, Validation Dataset has {len(self.train_ds)} instances.\")\n",
    "             \n",
    "        else:\n",
    "            raise NameError\n",
    "            \n",
    "    def get_train_dataset(self):\n",
    "        \"returns the train dataset\"\n",
    "        return self.train_ds\n",
    "    \n",
    "    def get_valid_dataset(self):\n",
    "        \"returns the validation dataset\"\n",
    "        return self.valid_ds\n",
    "    \n",
    "    def get_test_dataset(self):\n",
    "        \"return the test dataset\"\n",
    "        return self.test_ds\n",
    "    \n",
    "    def get_transforms(self):\n",
    "        \"returns the transformations to be applied after mixmethod\"\n",
    "        return self.augs_final"
   ]
  },
  {
   "cell_type": "code",
   "execution_count": 6,
   "metadata": {},
   "outputs": [
    {
     "name": "stdout",
     "output_type": "stream",
     "text": [
      "Converted 00_core.ipynb.\n",
      "Converted 01a_data.datasets.ipynb.\n",
      "Converted 01b_data.datasests_factory.ipynb.\n",
      "Converted 01c_data.mixmethods.ipynb.\n",
      "Converted 02_losses.ipynb.\n",
      "Converted 03a_optimizers.ipynb.\n",
      "Converted 03b_schedulers.ipynb.\n",
      "Converted 04a_models.utils.ipynb.\n",
      "Converted 04b_models.layers.ipynb.\n",
      "Converted 04c_models.classifiers.ipynb.\n",
      "Converted 04d_models.builder.ipynb.\n",
      "Converted 04e_models.task.ipynb.\n",
      "Converted 05_callbacks.ipynb.\n",
      "Converted index.ipynb.\n"
     ]
    }
   ],
   "source": [
    "notebook2script()"
   ]
  },
  {
   "cell_type": "code",
   "execution_count": null,
   "metadata": {},
   "outputs": [],
   "source": []
  }
 ],
 "metadata": {
  "kernelspec": {
   "display_name": "pytorch",
   "language": "python",
   "name": "pytorch"
  },
  "language_info": {
   "codemirror_mode": {
    "name": "ipython",
    "version": 3
   },
   "file_extension": ".py",
   "mimetype": "text/x-python",
   "name": "python",
   "nbconvert_exporter": "python",
   "pygments_lexer": "ipython3",
   "version": "3.7.7"
  },
  "toc": {
   "base_numbering": 1,
   "nav_menu": {},
   "number_sections": true,
   "sideBar": true,
   "skip_h1_title": false,
   "title_cell": "Table of Contents",
   "title_sidebar": "Contents",
   "toc_cell": false,
   "toc_position": {},
   "toc_section_display": true,
   "toc_window_display": false
  }
 },
 "nbformat": 4,
 "nbformat_minor": 4
}
