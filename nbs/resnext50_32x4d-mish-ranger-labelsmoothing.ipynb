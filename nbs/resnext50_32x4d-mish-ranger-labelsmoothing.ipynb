{
 "cells": [
  {
   "cell_type": "markdown",
   "metadata": {},
   "source": [
    "Notebook from Ayushman Buragohain"
   ]
  },
  {
   "cell_type": "markdown",
   "metadata": {},
   "source": [
    "## resnext50_32x4d + MixUp + Label-Smoothing + Ranger + Flat-Anneal + Mish"
   ]
  },
  {
   "cell_type": "code",
   "execution_count": 1,
   "metadata": {},
   "outputs": [],
   "source": [
    "import os\n",
    "import wandb\n",
    "import albumentations as A\n",
    "import timm\n",
    "\n",
    "from fastai.vision.all import *\n",
    "from fastai.callback.wandb import *\n",
    "\n",
    "from cassava_utils import *"
   ]
  },
  {
   "cell_type": "code",
   "execution_count": 2,
   "metadata": {},
   "outputs": [
    {
     "name": "stderr",
     "output_type": "stream",
     "text": [
      "Failed to query for notebook name, you can set it manually with the WANDB_NOTEBOOK_NAME environment variable\n",
      "\u001b[34m\u001b[1mwandb\u001b[0m: You can find your API key in your browser here: https://wandb.ai/authorize\n"
     ]
    },
    {
     "name": "stdin",
     "output_type": "stream",
     "text": [
      "\u001b[34m\u001b[1mwandb\u001b[0m: Paste an API key from your profile and hit enter:  ········································\n"
     ]
    },
    {
     "name": "stderr",
     "output_type": "stream",
     "text": [
      "\u001b[34m\u001b[1mwandb\u001b[0m: Appending key for api.wandb.ai to your netrc file: /home/qblocks/.netrc\n"
     ]
    },
    {
     "data": {
      "text/html": [
       "\n",
       "                Tracking run with wandb version 0.10.12<br/>\n",
       "                Syncing run <strong style=\"color:#cdcd00\">visionary-vortex-108</strong> to <a href=\"https://wandb.ai\" target=\"_blank\">Weights & Biases</a> <a href=\"https://docs.wandb.com/integrations/jupyter.html\" target=\"_blank\">(Documentation)</a>.<br/>\n",
       "                Project page: <a href=\"https://wandb.ai/ayushman/kaggle-leaf-disease-fastai-runs\" target=\"_blank\">https://wandb.ai/ayushman/kaggle-leaf-disease-fastai-runs</a><br/>\n",
       "                Run page: <a href=\"https://wandb.ai/ayushman/kaggle-leaf-disease-fastai-runs/runs/31s51iya\" target=\"_blank\">https://wandb.ai/ayushman/kaggle-leaf-disease-fastai-runs/runs/31s51iya</a><br/>\n",
       "                Run data is saved locally in <code>/home/qblocks/leaf-disease-classification-kaggle/nbs/wandb/run-20201221_060536-31s51iya</code><br/><br/>\n",
       "            "
      ],
      "text/plain": [
       "<IPython.core.display.HTML object>"
      ]
     },
     "metadata": {},
     "output_type": "display_data"
    }
   ],
   "source": [
    "SEED        = 42\n",
    "IDX         = generate_random_id()\n",
    "OOF_FOLD    = 0\n",
    "NUM_CLASSES = 5\n",
    "CSV_PATH    = '../data/fold_df.csv'\n",
    "IMAGE_DIR   = '../../train_images/'\n",
    "INPUT_DIMS  = 224\n",
    "MODEL       = 'resnext50_32x4d'\n",
    "PROJECT     = 'kaggle-leaf-disease-fastai-runs'\n",
    "SAVE_NAME   = f\"{MODEL}-fold={OOF_FOLD}-{IDX}\"\n",
    "\n",
    "set_seed(SEED, reproducible=True)\n",
    "\n",
    "Ts = [MODEL, 'ranger', 'label-smoothing', 'mish', str(INPUT_DIMS) + 'mixup']\n",
    "Ns = f'{MODEL} + Mish + Ranger + LabelSmoothing + MixUp'\n",
    "run = wandb.init(project=PROJECT, tags=Ts, notes=Ns,)"
   ]
  },
  {
   "cell_type": "code",
   "execution_count": 3,
   "metadata": {},
   "outputs": [
    {
     "data": {
      "text/html": [
       "<div>\n",
       "<style scoped>\n",
       "    .dataframe tbody tr th:only-of-type {\n",
       "        vertical-align: middle;\n",
       "    }\n",
       "\n",
       "    .dataframe tbody tr th {\n",
       "        vertical-align: top;\n",
       "    }\n",
       "\n",
       "    .dataframe thead th {\n",
       "        text-align: right;\n",
       "    }\n",
       "</style>\n",
       "<table border=\"1\" class=\"dataframe\">\n",
       "  <thead>\n",
       "    <tr style=\"text-align: right;\">\n",
       "      <th></th>\n",
       "      <th>image_id</th>\n",
       "      <th>label</th>\n",
       "      <th>filePath</th>\n",
       "      <th>kfold</th>\n",
       "      <th>is_valid</th>\n",
       "    </tr>\n",
       "  </thead>\n",
       "  <tbody>\n",
       "    <tr>\n",
       "      <th>0</th>\n",
       "      <td>1587173996.jpg</td>\n",
       "      <td>Healthy</td>\n",
       "      <td>../../train_images/1587173996.jpg</td>\n",
       "      <td>2</td>\n",
       "      <td>False</td>\n",
       "    </tr>\n",
       "    <tr>\n",
       "      <th>1</th>\n",
       "      <td>404115232.jpg</td>\n",
       "      <td>Cassava Mosaic Disease (CMD)</td>\n",
       "      <td>../../train_images/404115232.jpg</td>\n",
       "      <td>0</td>\n",
       "      <td>True</td>\n",
       "    </tr>\n",
       "    <tr>\n",
       "      <th>2</th>\n",
       "      <td>3945098769.jpg</td>\n",
       "      <td>Cassava Mosaic Disease (CMD)</td>\n",
       "      <td>../../train_images/3945098769.jpg</td>\n",
       "      <td>1</td>\n",
       "      <td>False</td>\n",
       "    </tr>\n",
       "    <tr>\n",
       "      <th>3</th>\n",
       "      <td>4037735151.jpg</td>\n",
       "      <td>Cassava Mosaic Disease (CMD)</td>\n",
       "      <td>../../train_images/4037735151.jpg</td>\n",
       "      <td>3</td>\n",
       "      <td>False</td>\n",
       "    </tr>\n",
       "    <tr>\n",
       "      <th>4</th>\n",
       "      <td>730805822.jpg</td>\n",
       "      <td>Cassava Mosaic Disease (CMD)</td>\n",
       "      <td>../../train_images/730805822.jpg</td>\n",
       "      <td>1</td>\n",
       "      <td>False</td>\n",
       "    </tr>\n",
       "  </tbody>\n",
       "</table>\n",
       "</div>"
      ],
      "text/plain": [
       "         image_id                         label  \\\n",
       "0  1587173996.jpg                       Healthy   \n",
       "1   404115232.jpg  Cassava Mosaic Disease (CMD)   \n",
       "2  3945098769.jpg  Cassava Mosaic Disease (CMD)   \n",
       "3  4037735151.jpg  Cassava Mosaic Disease (CMD)   \n",
       "4   730805822.jpg  Cassava Mosaic Disease (CMD)   \n",
       "\n",
       "                            filePath  kfold  is_valid  \n",
       "0  ../../train_images/1587173996.jpg      2     False  \n",
       "1   ../../train_images/404115232.jpg      0      True  \n",
       "2  ../../train_images/3945098769.jpg      1     False  \n",
       "3  ../../train_images/4037735151.jpg      3     False  \n",
       "4   ../../train_images/730805822.jpg      1     False  "
      ]
     },
     "execution_count": 3,
     "metadata": {},
     "output_type": "execute_result"
    }
   ],
   "source": [
    "data = get_dataset(CSV_PATH, IMAGE_DIR, OOF_FOLD, shuffle=True)\n",
    "data.head()"
   ]
  },
  {
   "cell_type": "code",
   "execution_count": null,
   "metadata": {},
   "outputs": [],
   "source": []
  }
 ],
 "metadata": {
  "kernelspec": {
   "display_name": "Python 3",
   "language": "python",
   "name": "python3"
  },
  "language_info": {
   "codemirror_mode": {
    "name": "ipython",
    "version": 3
   },
   "file_extension": ".py",
   "mimetype": "text/x-python",
   "name": "python",
   "nbconvert_exporter": "python",
   "pygments_lexer": "ipython3",
   "version": "3.6.9"
  }
 },
 "nbformat": 4,
 "nbformat_minor": 4
}
