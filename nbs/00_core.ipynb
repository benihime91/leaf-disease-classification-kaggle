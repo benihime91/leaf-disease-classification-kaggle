{
 "cells": [
  {
   "cell_type": "markdown",
   "metadata": {},
   "source": [
    "## Some utilities"
   ]
  },
  {
   "cell_type": "code",
   "execution_count": null,
   "metadata": {},
   "outputs": [],
   "source": [
    "#default_exp core"
   ]
  },
  {
   "cell_type": "code",
   "execution_count": null,
   "metadata": {},
   "outputs": [],
   "source": [
    "#export\n",
    "import pandas as pd\n",
    "import uuid\n",
    "import numpy as np\n",
    "import random\n",
    "import os\n",
    "\n",
    "import cv2\n",
    "import albumentations as A\n",
    "from albumentations.pytorch import ToTensorV2\n",
    "\n",
    "import torch\n",
    "from torch.nn.modules.loss import _WeightedLoss\n",
    "import torch.nn.functional as F\n",
    "\n",
    "pd.set_option('display.max_colwidth', None)"
   ]
  },
  {
   "cell_type": "markdown",
   "metadata": {},
   "source": [
    "**Label map for the cassava categories**"
   ]
  },
  {
   "cell_type": "code",
   "execution_count": null,
   "metadata": {},
   "outputs": [],
   "source": [
    "#export\n",
    "idx2lbl = {\n",
    "    0: \"Cassava Bacterial Blight (CBB)\",\n",
    "    1: \"Cassava Brown Streak Disease (CBSD)\",\n",
    "    2: \"Cassava Green Mottle (CGM)\",\n",
    "    3: \"Cassava Mosaic Disease (CMD)\",\n",
    "    4: \"Healthy\",\n",
    "}\n",
    "\n",
    "\n",
    "\n",
    "conf_mat_idx2lbl = {\n",
    "    0: \"CBB\",\n",
    "    1: \"CBSD\",\n",
    "    2: \"CGM\",\n",
    "    3: \"CMD\",\n",
    "    4: \"Healthy\",\n",
    "}"
   ]
  },
  {
   "cell_type": "code",
   "execution_count": null,
   "metadata": {},
   "outputs": [],
   "source": [
    "#export\n",
    "def seed_everything(seed: int) -> int:\n",
    "    \"\"\"sets a seed for the environment in :\n",
    "       `pytorch`, `numpy`, `python.random` and sets `PYTHONHASHSEED` environment variable.\n",
    "    \"\"\"\n",
    "    random.seed(seed)\n",
    "    os.environ['PYTHONHASHSEED'] = str(seed)\n",
    "    np.random.seed(seed)\n",
    "    torch.manual_seed(seed)\n",
    "    torch.cuda.manual_seed(seed)\n",
    "    torch.backends.cudnn.deterministic = True\n",
    "    return seed"
   ]
  },
  {
   "cell_type": "code",
   "execution_count": null,
   "metadata": {},
   "outputs": [
    {
     "data": {
      "text/plain": [
       "42"
      ]
     },
     "execution_count": null,
     "metadata": {},
     "output_type": "execute_result"
    }
   ],
   "source": [
    "seed_everything(42)"
   ]
  },
  {
   "cell_type": "code",
   "execution_count": null,
   "metadata": {},
   "outputs": [],
   "source": [
    "#export\n",
    "def generate_random_id() -> str:\n",
    "    \"generates a random id\"\n",
    "    idx = uuid.uuid1()\n",
    "    idx = str(idx).split(\"-\")[0]\n",
    "    return idx"
   ]
  },
  {
   "cell_type": "code",
   "execution_count": null,
   "metadata": {},
   "outputs": [
    {
     "data": {
      "text/plain": [
       "'06feb55c'"
      ]
     },
     "execution_count": null,
     "metadata": {},
     "output_type": "execute_result"
    }
   ],
   "source": [
    "generate_random_id()"
   ]
  },
  {
   "cell_type": "markdown",
   "metadata": {},
   "source": [
    "## Function to Load in the stratified pandas dataframe"
   ]
  },
  {
   "cell_type": "code",
   "execution_count": null,
   "metadata": {},
   "outputs": [],
   "source": [
    "#export\n",
    "def load_dataset(pth: str, im_dir: str, curr_fold: int = 0, shuffle: bool = True) -> pd.DataFrame:\n",
    "    \"loads the dataframe and formats it\"\n",
    "    assert curr_fold < 5\n",
    "    \n",
    "    data = pd.read_csv(pth)\n",
    "    \n",
    "    data[\"filePath\"] = [os.path.join(im_dir, data[\"image_id\"][idx]) for idx in range(len(data))]\n",
    "    data[\"is_valid\"] = [data.kfold[n] == curr_fold for n in range(len(data))]\n",
    "    data[\"label\"].replace(idx2lbl, inplace=True)\n",
    "\n",
    "    if shuffle: data = data.sample(frac=1).reset_index(drop=True, inplace=False)\n",
    "    else      : data = data.reset_index(drop=True, inplace=False)\n",
    "\n",
    "    return data"
   ]
  },
  {
   "cell_type": "code",
   "execution_count": null,
   "metadata": {},
   "outputs": [
    {
     "data": {
      "text/html": [
       "<div>\n",
       "<style scoped>\n",
       "    .dataframe tbody tr th:only-of-type {\n",
       "        vertical-align: middle;\n",
       "    }\n",
       "\n",
       "    .dataframe tbody tr th {\n",
       "        vertical-align: top;\n",
       "    }\n",
       "\n",
       "    .dataframe thead th {\n",
       "        text-align: right;\n",
       "    }\n",
       "</style>\n",
       "<table border=\"1\" class=\"dataframe\">\n",
       "  <thead>\n",
       "    <tr style=\"text-align: right;\">\n",
       "      <th></th>\n",
       "      <th>image_id</th>\n",
       "      <th>label</th>\n",
       "      <th>filePath</th>\n",
       "      <th>kfold</th>\n",
       "      <th>is_valid</th>\n",
       "    </tr>\n",
       "  </thead>\n",
       "  <tbody>\n",
       "    <tr>\n",
       "      <th>0</th>\n",
       "      <td>1587173996.jpg</td>\n",
       "      <td>Healthy</td>\n",
       "      <td>../../Datasets/cassava/train_images/1587173996.jpg</td>\n",
       "      <td>2</td>\n",
       "      <td>False</td>\n",
       "    </tr>\n",
       "    <tr>\n",
       "      <th>1</th>\n",
       "      <td>404115232.jpg</td>\n",
       "      <td>Cassava Mosaic Disease (CMD)</td>\n",
       "      <td>../../Datasets/cassava/train_images/404115232.jpg</td>\n",
       "      <td>0</td>\n",
       "      <td>True</td>\n",
       "    </tr>\n",
       "    <tr>\n",
       "      <th>2</th>\n",
       "      <td>3945098769.jpg</td>\n",
       "      <td>Cassava Mosaic Disease (CMD)</td>\n",
       "      <td>../../Datasets/cassava/train_images/3945098769.jpg</td>\n",
       "      <td>1</td>\n",
       "      <td>False</td>\n",
       "    </tr>\n",
       "    <tr>\n",
       "      <th>3</th>\n",
       "      <td>4037735151.jpg</td>\n",
       "      <td>Cassava Mosaic Disease (CMD)</td>\n",
       "      <td>../../Datasets/cassava/train_images/4037735151.jpg</td>\n",
       "      <td>3</td>\n",
       "      <td>False</td>\n",
       "    </tr>\n",
       "    <tr>\n",
       "      <th>4</th>\n",
       "      <td>730805822.jpg</td>\n",
       "      <td>Cassava Mosaic Disease (CMD)</td>\n",
       "      <td>../../Datasets/cassava/train_images/730805822.jpg</td>\n",
       "      <td>1</td>\n",
       "      <td>False</td>\n",
       "    </tr>\n",
       "  </tbody>\n",
       "</table>\n",
       "</div>"
      ],
      "text/plain": [
       "         image_id                         label  \\\n",
       "0  1587173996.jpg                       Healthy   \n",
       "1   404115232.jpg  Cassava Mosaic Disease (CMD)   \n",
       "2  3945098769.jpg  Cassava Mosaic Disease (CMD)   \n",
       "3  4037735151.jpg  Cassava Mosaic Disease (CMD)   \n",
       "4   730805822.jpg  Cassava Mosaic Disease (CMD)   \n",
       "\n",
       "                                             filePath  kfold  is_valid  \n",
       "0  ../../Datasets/cassava/train_images/1587173996.jpg      2     False  \n",
       "1   ../../Datasets/cassava/train_images/404115232.jpg      0      True  \n",
       "2  ../../Datasets/cassava/train_images/3945098769.jpg      1     False  \n",
       "3  ../../Datasets/cassava/train_images/4037735151.jpg      3     False  \n",
       "4   ../../Datasets/cassava/train_images/730805822.jpg      1     False  "
      ]
     },
     "execution_count": null,
     "metadata": {},
     "output_type": "execute_result"
    }
   ],
   "source": [
    "df = load_dataset('../../leaf-disease-classification-kaggle/data/stratified-data-5folds.csv', \n",
    "                 im_dir='../../Datasets/cassava/train_images/', curr_fold=0, shuffle=True)\n",
    "df.head()"
   ]
  },
  {
   "cell_type": "code",
   "execution_count": null,
   "metadata": {},
   "outputs": [],
   "source": [
    "#export\n",
    "class DummyDataset(torch.utils.data.Dataset):\n",
    "    def __init__(self, data: pd.DataFrame):\n",
    "        self.data = data\n",
    "        \n",
    "        self.transforms = A.Compose([A.RandomResizedCrop(224, 224, p=1.0),\n",
    "                                     A.RandomBrightness(),\n",
    "                                     A.HorizontalFlip(),\n",
    "                                     A.IAASharpen(),\n",
    "                                     A.Normalize(p=1.0),\n",
    "                                     ToTensorV2(p=1.0)])\n",
    "        \n",
    "        self.lbl_dict = {v: k for k, v in idx2lbl.items()}\n",
    "    \n",
    "    def __len__(self): return len(self.data)\n",
    "    \n",
    "    def __getitem__(self, index):\n",
    "        image = self.data['filePath'][index]\n",
    "        label = self.data['label'][index]\n",
    "        \n",
    "        image = cv2.imread(image)\n",
    "        image = cv2.cvtColor(image, cv2.COLOR_BGR2RGB)\n",
    "        \n",
    "        image = self.transforms(image=image)['image']\n",
    "        label = torch.tensor(self.lbl_dict[label])\n",
    "        return image, label"
   ]
  },
  {
   "cell_type": "code",
   "execution_count": null,
   "metadata": {},
   "outputs": [],
   "source": [
    "#export\n",
    "class ImageClassificationFromDf(torch.utils.data.Dataset):\n",
    "    \"\"\"\n",
    "    Image classification dataset.\n",
    "    Args:\n",
    "        dataframe: dataframe with image_id and labels\n",
    "        transformations: albumentation transformations\n",
    "    \"\"\"\n",
    "\n",
    "    def __init__(self, dataframe: pd.DataFrame, transformations:A.Compose, lbl_dict:dict=None):\n",
    "        self.df = dataframe\n",
    "        self.transforms = transformations\n",
    "        \n",
    "        if lbl_dict is None: self.lbl_dict = {v: k for k, v in idx2lbl.items()}\n",
    "\n",
    "    def __len__(self):\n",
    "        return len(self.df)\n",
    "\n",
    "    def __getitem__(self, idx):\n",
    "        image_id = self.df['filePath'][idx]\n",
    "        target = self.df['label'][idx]\n",
    "\n",
    "        # Read an image with OpenCV\n",
    "        img = cv2.imread(image_id)\n",
    "\n",
    "        # By default OpenCV uses BGR color space for color images,\n",
    "        # so we need to convert the image to RGB color space.\n",
    "        img = cv2.cvtColor(img, cv2.COLOR_BGR2RGB)\n",
    "\n",
    "        # apply transformations to the image\n",
    "        img = self.transforms(image=img)[\"image\"]\n",
    "\n",
    "        return img, torch.tensor(self.lbl_dict[target])"
   ]
  },
  {
   "cell_type": "code",
   "execution_count": null,
   "metadata": {},
   "outputs": [],
   "source": [
    "#export\n",
    "class LabelSmoothingCrossEntropy(_WeightedLoss):\n",
    "    \"label smoothing loss\"\n",
    "    def __init__(self, eps:float=0.1, weight=None, reduction='mean'):\n",
    "        super().__init__(weight=weight, reduction=reduction)\n",
    "        self.weight = weight\n",
    "        self.reduction = reduction\n",
    "        self.eps = eps\n",
    "    def forward(self, output, target):\n",
    "        c = output.size()[-1]\n",
    "        log_preds = F.log_softmax(output, dim=-1)\n",
    "        if self.reduction=='sum': \n",
    "            loss = -log_preds.sum()\n",
    "        else:\n",
    "            loss = -log_preds.sum(dim=-1)\n",
    "            if self.reduction=='mean':  \n",
    "                loss = loss.mean()\n",
    "        return loss*self.eps/c + (1-self.eps) * F.nll_loss(log_preds, target.long(), reduction=self.reduction)"
   ]
  },
  {
   "cell_type": "code",
   "execution_count": 3,
   "metadata": {},
   "outputs": [],
   "source": [
    "import matplotlib.pyplot as plt\n",
    "import torch\n",
    "from torch import optim, nn"
   ]
  },
  {
   "cell_type": "code",
   "execution_count": 86,
   "metadata": {},
   "outputs": [
    {
     "data": {
      "text/plain": [
       "[<matplotlib.lines.Line2D at 0x7f8c8ebc3510>]"
      ]
     },
     "execution_count": 86,
     "metadata": {},
     "output_type": "execute_result"
    },
    {
     "data": {
      "image/png": "[encoded data removed]",
      "text/plain": [
       "<Figure size 432x288 with 1 Axes>"
      ]
     },
     "metadata": {
      "needs_background": "light"
     },
     "output_type": "display_data"
    }
   ],
   "source": [
    "model = nn.Linear(10, 2)\n",
    "optimizer = optim.AdamW(model.parameters(), lr=8e-4, eps=1e-05, betas=(0.9, 0.99))\n",
    "steps = 500\n",
    "scheduler = optim.lr_scheduler.CosineAnnealingWarmRestarts(optimizer, T_0=10, T_mult=2, last_epoch=-1)\n",
    "lrs = []\n",
    "\n",
    "for epoch in range(1):\n",
    "    curr_step = 0\n",
    "    for idx in range(steps):\n",
    "        optimizer.step()\n",
    "        if curr_step // 50 == 1:\n",
    "            lrs.append(scheduler.get_lr())\n",
    "        scheduler.step()\n",
    "        curr_step += 1\n",
    "        \n",
    "plt.plot(lrs)"
   ]
  },
  {
   "cell_type": "code",
   "execution_count": null,
   "metadata": {},
   "outputs": [],
   "source": []
  }
 ],
 "metadata": {
  "kernelspec": {
   "display_name": "pytorch",
   "language": "python",
   "name": "pytorch"
  },
  "language_info": {
   "codemirror_mode": {
    "name": "ipython",
    "version": 3
   },
   "file_extension": ".py",
   "mimetype": "text/x-python",
   "name": "python",
   "nbconvert_exporter": "python",
   "pygments_lexer": "ipython3",
   "version": "3.7.7"
  }
 },
 "nbformat": 4,
 "nbformat_minor": 4
}
