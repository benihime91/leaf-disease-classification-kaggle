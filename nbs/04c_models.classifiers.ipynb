{
 "cells": [
  {
   "cell_type": "code",
   "execution_count": 1,
   "metadata": {},
   "outputs": [],
   "source": [
    "# default_exp models.classifiers"
   ]
  },
  {
   "cell_type": "code",
   "execution_count": 2,
   "metadata": {},
   "outputs": [],
   "source": [
    "%load_ext autoreload\n",
    "%autoreload 2"
   ]
  },
  {
   "cell_type": "code",
   "execution_count": 3,
   "metadata": {},
   "outputs": [],
   "source": [
    "from nbdev.export import *"
   ]
  },
  {
   "cell_type": "code",
   "execution_count": 12,
   "metadata": {},
   "outputs": [],
   "source": [
    "# export\n",
    "import torch\n",
    "import torch.nn.functional as F\n",
    "from fastcore.all import L, delegates, ifnone\n",
    "from fvcore.common import registry\n",
    "from timm.models.layers import create_classifier\n",
    "from torch import nn\n",
    "from torch.nn import Module\n",
    "\n",
    "from src import _logger\n",
    "from src.models.layers import *\n",
    "from src.models.utils import *\n",
    "\n",
    "CLASSIFIER_REGISTERY = registry.Registry(\"Classifiers\")"
   ]
  },
  {
   "cell_type": "code",
   "execution_count": 13,
   "metadata": {},
   "outputs": [],
   "source": [
    "import timm\n",
    "import torchvision.transforms as T\n",
    "from timm.data.constants import IMAGENET_DEFAULT_MEAN, IMAGENET_DEFAULT_STD\n",
    "from timm.data.transforms import RandomResizedCropAndInterpolation\n",
    "\n",
    "from src.data.datasets import CassavaDataset, load_data"
   ]
  },
  {
   "cell_type": "code",
   "execution_count": 14,
   "metadata": {},
   "outputs": [],
   "source": [
    "csv_path = \"../../leaf-disease-classification-kaggle/data/stratified-data-5folds.csv\"\n",
    "imgs_dir = \"../../Datasets/cassava/train_images/\"\n",
    "\n",
    "df = load_data(csv_path, imgs_dir)\n",
    "\n",
    "t1 = T.Compose([\n",
    "    RandomResizedCropAndInterpolation(512, interpolation=\"random\"), \n",
    "    T.ToTensor(), \n",
    "    T.Normalize(IMAGENET_DEFAULT_MEAN, IMAGENET_DEFAULT_STD)])\n",
    "\n",
    "dset = CassavaDataset.from_torchvision_tfms(df, \"filePath\", label_col=\"label\", transform=t1)\n",
    "dl = torch.utils.data.DataLoader(dset, batch_size=4)\n",
    "\n",
    "image, target = next(iter(dl))"
   ]
  },
  {
   "cell_type": "code",
   "execution_count": 15,
   "metadata": {},
   "outputs": [],
   "source": [
    "# export\n",
    "@CLASSIFIER_REGISTERY.register()\n",
    "def CnnHeadV0(nf, n_out, pool_type=\"avg\", use_conv=False, **kwargs):\n",
    "    \"create a classifier from timm lib\"\n",
    "    ls = create_classifier(nf, n_out, pool_type, use_conv)\n",
    "    return nn.Sequential(*ls)"
   ]
  },
  {
   "cell_type": "code",
   "execution_count": 16,
   "metadata": {},
   "outputs": [],
   "source": [
    "model = timm.create_model(\"tf_efficientnet_b3_ns\", act_layer=ACTIVATIONS[\"mish\"], drop_path_rate=0.25)\n",
    "model = cut_model(model, -2)\n",
    "feats = model(image)"
   ]
  },
  {
   "cell_type": "code",
   "execution_count": 18,
   "metadata": {},
   "outputs": [
    {
     "data": {
      "text/plain": [
       "Sequential(\n",
       "  (0): SelectAdaptivePool2d (pool_type=avg, flatten=True)\n",
       "  (1): Linear(in_features=1536, out_features=5, bias=True)\n",
       ")"
      ]
     },
     "execution_count": 18,
     "metadata": {},
     "output_type": "execute_result"
    }
   ],
   "source": [
    "head = CLASSIFIER_REGISTERY.get(\"CnnHeadV0\")\n",
    "head = head(nf=num_features_model(model), n_out=5, act_layer=\"default\")\n",
    "head"
   ]
  },
  {
   "cell_type": "code",
   "execution_count": 19,
   "metadata": {},
   "outputs": [
    {
     "name": "stdout",
     "output_type": "stream",
     "text": [
      "tensor([[-0.4737,  0.0571, -0.2030,  0.0642,  0.1819],\n",
      "        [-0.1876, -0.0874, -0.1172,  0.2857,  0.1061],\n",
      "        [ 0.1167, -0.0121, -0.0562,  0.0861, -0.1217],\n",
      "        [-0.1057, -0.0203, -0.1438,  0.2405, -0.0189]],\n",
      "       grad_fn=<AddmmBackward>)\n"
     ]
    }
   ],
   "source": [
    "logits = head(feats)\n",
    "print(logits)"
   ]
  },
  {
   "cell_type": "markdown",
   "metadata": {},
   "source": [
    "Create a head for a model based on the `fast.ai` Library -"
   ]
  },
  {
   "cell_type": "code",
   "execution_count": 20,
   "metadata": {},
   "outputs": [],
   "source": [
    "# export\n",
    "@CLASSIFIER_REGISTERY.register()\n",
    "def CnnHeadV1(nf, n_out, lin_ftrs=None, ps=0.5, concat_pool=True, \n",
    "              first_bn=True, lin_first=False, act_layer=\"default\", **kwargs):\n",
    "    \"Model head that takes `nf` features, runs through `lin_ftrs`, and out `n_out` classes.\"\n",
    "    if concat_pool:\n",
    "        nf *= 2\n",
    "    lin_ftrs = [nf, 512, n_out] if lin_ftrs is None else [\n",
    "        nf] + lin_ftrs + [n_out]\n",
    "    bns = [first_bn] + [True]*len(lin_ftrs[1:])\n",
    "    ps = L(ps)\n",
    "\n",
    "    if len(ps) == 1:\n",
    "        ps = [ps[0]/2] * (len(lin_ftrs)-2) + ps\n",
    "\n",
    "    actns = [ACTIVATIONS[act_layer](inplace=True)] * (len(lin_ftrs)-2) + [None]\n",
    "\n",
    "    pool = AdaptiveConcatPool2d() if concat_pool else nn.AdaptiveAvgPool2d(1)\n",
    "\n",
    "    layers = [pool, nn.Flatten()]\n",
    "\n",
    "    if lin_first:\n",
    "        layers.append(nn.Dropout(ps.pop(0)))\n",
    "\n",
    "    for ni, no, bn, p, actn in zip(lin_ftrs[:-1], lin_ftrs[1:], bns, ps, actns):\n",
    "        layers += LinBnDrop(ni, no, bn=bn, p=p, act=actn, lin_first=lin_first)\n",
    "    if lin_first:\n",
    "        layers.append(nn.Linear(lin_ftrs[-2], n_out))\n",
    "    return nn.Sequential(*layers)"
   ]
  },
  {
   "cell_type": "code",
   "execution_count": 22,
   "metadata": {},
   "outputs": [
    {
     "name": "stdout",
     "output_type": "stream",
     "text": [
      "tensor([[ 0.5345, -0.7971,  0.7221,  0.1647, -0.1956],\n",
      "        [ 0.1962, -0.6849, -1.1612, -1.4432,  0.3658]], grad_fn=<MmBackward>)\n"
     ]
    }
   ],
   "source": [
    "head  = CLASSIFIER_REGISTERY.get('CnnHeadV1')(nf=num_features_model(model), n_out=5, act_layer=\"mish\")\n",
    "\n",
    "feats  = model(image[:2])\n",
    "logits = head(feats)\n",
    "print(logits)"
   ]
  },
  {
   "cell_type": "code",
   "execution_count": 24,
   "metadata": {},
   "outputs": [],
   "source": [
    "# export\n",
    "@CLASSIFIER_REGISTERY.register()\n",
    "class CnnHeadV2(nn.Module):\n",
    "    def __init__(self, nf, n_out, dropout=0.5, act_layer=\"mish\", **kwargs):\n",
    "        super().__init__()\n",
    "        self.dropout = dropout\n",
    "        self.act1 = ACTIVATIONS[act_layer](inplace=True)\n",
    "        self.conv = nn.Conv2d(nf, nf, 1, 1)\n",
    "        self.norm = nn.BatchNorm2d(nf)\n",
    "        self.pool = GeM()\n",
    "\n",
    "        self.fc1 = nn.Linear(nf, nf // 2)\n",
    "        self.act2 = ACTIVATIONS[act_layer](inplace=True)\n",
    "        self.rms_norm = RMSNorm(nf // 2)\n",
    "        self.fc2 = nn.Linear(nf // 2, n_out)\n",
    "\n",
    "    def forward(self, x):\n",
    "        x = self.act1(x)\n",
    "        x = self.conv(x)\n",
    "        x = self.norm(x)\n",
    "        x = self.pool(x)\n",
    "        x = x.view(x.size(0), -1)\n",
    "        x = F.dropout(x, p=self.dropout)\n",
    "        x = self.fc1(x)\n",
    "\n",
    "        x = self.act2(x)\n",
    "        x = self.rms_norm(x)\n",
    "        x = F.dropout(x, p=self.dropout / 2)\n",
    "        x = self.fc2(x)\n",
    "        return x"
   ]
  },
  {
   "cell_type": "code",
   "execution_count": 25,
   "metadata": {},
   "outputs": [
    {
     "name": "stdout",
     "output_type": "stream",
     "text": [
      "tensor([[-0.7211, -0.2441, -0.6659, -0.4313, -0.8709],\n",
      "        [-0.4288,  0.3565,  0.3146,  0.1256, -0.1870]],\n",
      "       grad_fn=<AddmmBackward>)\n"
     ]
    }
   ],
   "source": [
    "head  = CLASSIFIER_REGISTERY.get('CnnHeadV2')(nf=num_features_model(model), n_out=5, act_layer=\"mish\")\n",
    "\n",
    "feats  = model(image[:2])\n",
    "logits = head(feats)\n",
    "print(logits)"
   ]
  },
  {
   "cell_type": "code",
   "execution_count": 27,
   "metadata": {},
   "outputs": [
    {
     "name": "stdout",
     "output_type": "stream",
     "text": [
      "Registry of Classifiers:\n",
      "╒═══════════╤════════════════════════════════════════╕\n",
      "│ Names     │ Objects                                │\n",
      "╞═══════════╪════════════════════════════════════════╡\n",
      "│ CnnHeadV0 │ <function CnnHeadV0 at 0x7ff675e8f3b0> │\n",
      "├───────────┼────────────────────────────────────────┤\n",
      "│ CnnHeadV1 │ <function CnnHeadV1 at 0x7ff67795ee60> │\n",
      "├───────────┼────────────────────────────────────────┤\n",
      "│ CnnHeadV2 │ <class '__main__.CnnHeadV2'>           │\n",
      "╘═══════════╧════════════════════════════════════════╛\n"
     ]
    }
   ],
   "source": [
    "print(CLASSIFIER_REGISTERY)"
   ]
  },
  {
   "cell_type": "code",
   "execution_count": 28,
   "metadata": {},
   "outputs": [
    {
     "name": "stdout",
     "output_type": "stream",
     "text": [
      "Converted 00_core.ipynb.\n",
      "Converted 01_data.datasets.ipynb.\n",
      "Converted 01a_data.mixmethods.ipynb.\n",
      "Converted 02_losses.ipynb.\n",
      "Converted 03_models.utils.ipynb.\n",
      "Converted 03a_models.builder.ipynb.\n",
      "Converted 03a_models.layers.ipynb.\n",
      "Converted 03b_modules.classifiers.ipynb.\n",
      "Converted 04_optimizers.ipynb.\n",
      "Converted 04a_schedulers.ipynb.\n",
      "Converted 05_lightning.data.ipynb.\n",
      "Converted 05a_lightning.core.ipynb.\n",
      "Converted 05b_lightning.callbacks.ipynb.\n",
      "Converted 06_fastai.core.ipynb.\n",
      "Converted index.ipynb.\n"
     ]
    }
   ],
   "source": [
    "notebook2script()"
   ]
  },
  {
   "cell_type": "code",
   "execution_count": null,
   "metadata": {},
   "outputs": [],
   "source": []
  }
 ],
 "metadata": {
  "kernelspec": {
   "display_name": "pytorch",
   "language": "python",
   "name": "pytorch"
  },
  "language_info": {
   "codemirror_mode": {
    "name": "ipython",
    "version": 3
   },
   "file_extension": ".py",
   "mimetype": "text/x-python",
   "name": "python",
   "nbconvert_exporter": "python",
   "pygments_lexer": "ipython3",
   "version": "3.7.7"
  },
  "toc": {
   "base_numbering": 1,
   "nav_menu": {},
   "number_sections": true,
   "sideBar": true,
   "skip_h1_title": false,
   "title_cell": "Table of Contents",
   "title_sidebar": "Contents",
   "toc_cell": false,
   "toc_position": {},
   "toc_section_display": true,
   "toc_window_display": false
  }
 },
 "nbformat": 4,
 "nbformat_minor": 4
}
