{
 "cells": [
  {
   "cell_type": "code",
   "execution_count": 1,
   "metadata": {},
   "outputs": [],
   "source": [
    "#default_exp schedulers"
   ]
  },
  {
   "cell_type": "code",
   "execution_count": 2,
   "metadata": {},
   "outputs": [],
   "source": [
    "%load_ext autoreload\n",
    "%autoreload 2\n",
    "\n",
    "from nbdev.export import *\n",
    "import warnings\n",
    "\n",
    "warnings.filterwarnings(\"ignore\")"
   ]
  },
  {
   "cell_type": "code",
   "execution_count": 3,
   "metadata": {},
   "outputs": [],
   "source": [
    "# export\n",
    "import math\n",
    "\n",
    "from fvcore.common import registry\n",
    "from omegaconf import DictConfig\n",
    "from torch.optim.lr_scheduler import *\n",
    "from torch.optim.lr_scheduler import _LRScheduler\n",
    "from torch.optim.optimizer import Optimizer\n",
    "\n",
    "from src import _logger"
   ]
  },
  {
   "cell_type": "code",
   "execution_count": 5,
   "metadata": {},
   "outputs": [],
   "source": [
    "# for test\n",
    "import matplotlib.pyplot as plt\n",
    "import torchvision\n",
    "from omegaconf import OmegaConf\n",
    "\n",
    "from src.optimizers import OPTIM_REGISTERY"
   ]
  },
  {
   "cell_type": "markdown",
   "metadata": {},
   "source": [
    "### Create Lr_Scheduler Registery -"
   ]
  },
  {
   "cell_type": "code",
   "execution_count": 9,
   "metadata": {},
   "outputs": [],
   "source": [
    "# export\n",
    "SCHEDULER_REGISTERY = registry.Registry(\"Schedulers\")"
   ]
  },
  {
   "cell_type": "code",
   "execution_count": 10,
   "metadata": {},
   "outputs": [],
   "source": [
    "# export\n",
    "# register all the default LRSchedulers\n",
    "SCHEDULER_REGISTERY.register(CosineAnnealingLR)\n",
    "SCHEDULER_REGISTERY.register(CosineAnnealingWarmRestarts)\n",
    "SCHEDULER_REGISTERY.register(ReduceLROnPlateau)\n",
    "SCHEDULER_REGISTERY.register(MultiplicativeLR)\n",
    "SCHEDULER_REGISTERY.register(MultiStepLR)\n",
    "SCHEDULER_REGISTERY.register(StepLR)\n",
    "SCHEDULER_REGISTERY.register(ExponentialLR)\n",
    "SCHEDULER_REGISTERY.register(CyclicLR)\n",
    "SCHEDULER_REGISTERY.register(OneCycleLR)"
   ]
  },
  {
   "cell_type": "markdown",
   "metadata": {},
   "source": [
    "### FlatCosScheduler\n",
    "> For `Ranger`"
   ]
  },
  {
   "cell_type": "code",
   "execution_count": 11,
   "metadata": {},
   "outputs": [],
   "source": [
    "# export\n",
    "@SCHEDULER_REGISTERY.register()\n",
    "class FlatCosScheduler(_LRScheduler):\n",
    "    \"Fit `epochs` at flat `lr` before a `cosine annealing` from `pct_start`.\"\n",
    "\n",
    "    def __init__(\n",
    "        self, optimizer, epochs, steps_per_epoch, pct_start, eta_min=0, last_epoch=-1,\n",
    "    ):\n",
    "\n",
    "        self.max_iters = epochs * steps_per_epoch\n",
    "        self.flat_range = int(self.max_iters * pct_start)\n",
    "        self.T_max = self.max_iters - self.flat_range\n",
    "        self.eta_min = eta_min\n",
    "        super(FlatCosScheduler, self).__init__(optimizer, last_epoch)\n",
    "\n",
    "    def get_lr(self):\n",
    "        if self.last_epoch < self.flat_range:\n",
    "            return [base_lr for base_lr in self.base_lrs]\n",
    "        else:\n",
    "            cr_epoch = self.last_epoch - self.flat_range\n",
    "            lrs = [\n",
    "                self.eta_min\n",
    "                + (base_lr - self.eta_min)\n",
    "                * (1 + math.cos(math.pi * (cr_epoch / self.T_max)))\n",
    "                / 2\n",
    "                for base_lr in self.base_lrs\n",
    "            ]\n",
    "            return lrs"
   ]
  },
  {
   "cell_type": "code",
   "execution_count": 12,
   "metadata": {},
   "outputs": [
    {
     "name": "stderr",
     "output_type": "stream",
     "text": [
      "Ranger optimizer loaded. \n",
      "Gradient Centralization usage = True\n",
      "GC applied to both conv and fc layers\n"
     ]
    },
    {
     "data": {
      "image/png": "[encoded data removed]",
      "text/plain": [
       "<Figure size 432x288 with 1 Axes>"
      ]
     },
     "metadata": {
      "needs_background": "light"
     },
     "output_type": "display_data"
    }
   ],
   "source": [
    "optimizer = \"Ranger\"\n",
    "scheduler = \"FlatCosScheduler\"\n",
    "\n",
    "num_epochs  = 10\n",
    "num_batches = 50\n",
    "\n",
    "optimizer_params = dict(weight_decay=1e-03, betas=(0.95, 0.999), eps=1e-5)\n",
    "scheduler_params = dict(pct_start=0.7, epochs=num_epochs, steps_per_epoch=num_batches)\n",
    "\n",
    "model = torchvision.models.resnet18(pretrained=False)\n",
    "params = [\n",
    "    dict(params=list(model.parameters())[:-2], lr=1e-03),\n",
    "    dict(params=list(model.parameters())[-2:], lr=5e-04),\n",
    "]\n",
    "\n",
    "optimizer = OPTIM_REGISTERY.get(optimizer)(params=params, **optimizer_params)\n",
    "scheduler = SCHEDULER_REGISTERY.get(scheduler)(optimizer=optimizer, **scheduler_params)\n",
    "\n",
    "lr1 = []\n",
    "lr2 = []\n",
    "\n",
    "for epoch in range(num_epochs):\n",
    "    for batch in range(num_batches):\n",
    "        # called after batch\n",
    "        scheduler.step()\n",
    "        lrs = scheduler.get_lr()\n",
    "        lr1.append(lrs[0])\n",
    "        lr2.append(lrs[1])\n",
    "        \n",
    "plt.plot(lr1)\n",
    "plt.plot(lr2);"
   ]
  },
  {
   "cell_type": "markdown",
   "metadata": {},
   "source": [
    "### Constant Warmup Schedule -\n",
    "> from: https://huggingface.co/transformers/_modules/transformers/optimization.html"
   ]
  },
  {
   "cell_type": "code",
   "execution_count": 13,
   "metadata": {},
   "outputs": [],
   "source": [
    "# export\n",
    "@SCHEDULER_REGISTERY.register()\n",
    "def ConstantWarmup(optimizer: Optimizer, num_warmup_steps: int, last_epoch: int = -1):\n",
    "    \"\"\"\n",
    "    Create a schedule with a constant learning rate preceded by a warmup period during which the learning rate\n",
    "    increases linearly between 0 and the initial lr set in the optimizer.\n",
    "\n",
    "    Args:\n",
    "        optimizer (:class:`~torch.optim.Optimizer`):\n",
    "            The optimizer for which to schedule the learning rate.\n",
    "        num_warmup_steps (:obj:`int`):\n",
    "            The number of steps for the warmup phase.\n",
    "        last_epoch (:obj:`int`, `optional`, defaults to -1):\n",
    "            The index of the last epoch when resuming training.\n",
    "    Return:\n",
    "        :obj:`torch.optim.lr_scheduler.LambdaLR` with the appropriate schedule.\n",
    "    \"\"\"\n",
    "\n",
    "    def lr_lambda(current_step: int):\n",
    "        if current_step < num_warmup_steps:\n",
    "            return float(current_step) / float(max(1.0, num_warmup_steps))\n",
    "        return 1.0\n",
    "\n",
    "    return LambdaLR(optimizer, lr_lambda, last_epoch=last_epoch)"
   ]
  },
  {
   "cell_type": "code",
   "execution_count": 14,
   "metadata": {},
   "outputs": [
    {
     "name": "stderr",
     "output_type": "stream",
     "text": [
      "Ranger optimizer loaded. \n",
      "Gradient Centralization usage = True\n",
      "GC applied to both conv and fc layers\n"
     ]
    },
    {
     "data": {
      "text/plain": [
       "[<matplotlib.lines.Line2D at 0x7f9d8f91cf50>]"
      ]
     },
     "execution_count": 14,
     "metadata": {},
     "output_type": "execute_result"
    },
    {
     "data": {
      "image/png": "[encoded data removed]",
      "text/plain": [
       "<Figure size 432x288 with 1 Axes>"
      ]
     },
     "metadata": {
      "needs_background": "light"
     },
     "output_type": "display_data"
    }
   ],
   "source": [
    "optimizer = \"Ranger\"\n",
    "scheduler = \"ConstantWarmup\"\n",
    "\n",
    "num_epochs = 10\n",
    "num_batches = 50\n",
    "\n",
    "optimizer_params = dict(weight_decay=1e-03, betas=(0.95, 0.999), eps=1e-5)\n",
    "model = torchvision.models.resnet18(pretrained=False)\n",
    "\n",
    "optimizer = OPTIM_REGISTERY.get(optimizer)(params=params, **optimizer_params)\n",
    "\n",
    "scheduler_params = dict(num_warmup_steps=100)\n",
    "scheduler = SCHEDULER_REGISTERY.get(scheduler)(optimizer=optimizer, **scheduler_params)\n",
    "\n",
    "lr1 = []\n",
    "lr2 = []\n",
    "\n",
    "for epoch in range(num_epochs):\n",
    "    for batch in range(num_batches):\n",
    "        scheduler.step()\n",
    "        lrs = scheduler.get_lr()\n",
    "        lr1.append(lrs[0])\n",
    "        lr2.append(lrs[1])\n",
    "\n",
    "plt.plot(lr1)\n",
    "plt.plot(lr2)"
   ]
  },
  {
   "cell_type": "markdown",
   "metadata": {},
   "source": [
    "### Linear Warmup Schedule\n",
    "> from : https://huggingface.co/transformers/_modules/transformers/optimization.html"
   ]
  },
  {
   "cell_type": "code",
   "execution_count": 15,
   "metadata": {},
   "outputs": [],
   "source": [
    "# export\n",
    "@SCHEDULER_REGISTERY.register()\n",
    "def LinearWarmup(optimizer, num_warmup_steps, num_training_steps, last_epoch=-1):\n",
    "    \"\"\"\n",
    "    Create a schedule with a learning rate that decreases linearly from the initial lr set in the optimizer to 0, after\n",
    "    a warmup period during which it increases linearly from 0 to the initial lr set in the optimizer.\n",
    "\n",
    "    Args:\n",
    "        optimizer (:class:`~torch.optim.Optimizer`):\n",
    "            The optimizer for which to schedule the learning rate.\n",
    "        num_warmup_steps (:obj:`int`):\n",
    "            The number of steps for the warmup phase.\n",
    "        num_training_steps (:obj:`int`):\n",
    "            The total number of training steps.\n",
    "        last_epoch (:obj:`int`, `optional`, defaults to -1):\n",
    "            The index of the last epoch when resuming training.\n",
    "\n",
    "    Return:\n",
    "        :obj:`torch.optim.lr_scheduler.LambdaLR` with the appropriate schedule.\n",
    "    \"\"\"\n",
    "\n",
    "    def lr_lambda(current_step: int):\n",
    "        if current_step < num_warmup_steps:\n",
    "            return float(current_step) / float(max(1, num_warmup_steps))\n",
    "        return max(\n",
    "            0.0,\n",
    "            float(num_training_steps - current_step)\n",
    "            / float(max(1, num_training_steps - num_warmup_steps)),\n",
    "        )\n",
    "\n",
    "    return LambdaLR(optimizer, lr_lambda, last_epoch)"
   ]
  },
  {
   "cell_type": "code",
   "execution_count": 16,
   "metadata": {},
   "outputs": [
    {
     "data": {
      "text/plain": [
       "[<matplotlib.lines.Line2D at 0x7f9d8fa12cd0>]"
      ]
     },
     "execution_count": 16,
     "metadata": {},
     "output_type": "execute_result"
    },
    {
     "data": {
      "image/png": "[encoded data removed]",
      "text/plain": [
       "<Figure size 432x288 with 1 Axes>"
      ]
     },
     "metadata": {
      "needs_background": "light"
     },
     "output_type": "display_data"
    }
   ],
   "source": [
    "scheduler = \"LinearWarmup\"\n",
    "scheduler_params = dict(num_warmup_steps=100, num_training_steps=num_epochs * num_batches)\n",
    "scheduler = SCHEDULER_REGISTERY.get(scheduler)(optimizer=optimizer, **scheduler_params)\n",
    "\n",
    "lr1 = []\n",
    "lr2 = []\n",
    "\n",
    "for epoch in range(num_epochs):\n",
    "    for batch in range(num_batches):\n",
    "        scheduler.step()\n",
    "        lrs = scheduler.get_lr()\n",
    "        lr1.append(lrs[0])\n",
    "        lr2.append(lrs[1])\n",
    "\n",
    "plt.plot(lr1)\n",
    "plt.plot(lr2)"
   ]
  },
  {
   "cell_type": "markdown",
   "metadata": {},
   "source": [
    "### Cosine Warmup Schedule -\n",
    "> from : https://huggingface.co/transformers/_modules/transformers/optimization.html"
   ]
  },
  {
   "cell_type": "code",
   "execution_count": 17,
   "metadata": {},
   "outputs": [],
   "source": [
    "# export\n",
    "@SCHEDULER_REGISTERY.register()\n",
    "def CosineWarmup(\n",
    "    optimizer: Optimizer,\n",
    "    num_warmup_steps: int,\n",
    "    num_training_steps: int,\n",
    "    num_cycles: float = 0.5,\n",
    "    last_epoch: int = -1,\n",
    "):\n",
    "    \"\"\"\n",
    "    Create a schedule with a learning rate that decreases following the values of the cosine function between the\n",
    "    initial lr set in the optimizer to 0, after a warmup period during which it increases linearly between 0 and the\n",
    "    initial lr set in the optimizer.\n",
    "\n",
    "    Args:\n",
    "        optimizer (:class:`~torch.optim.Optimizer`):\n",
    "            The optimizer for which to schedule the learning rate.\n",
    "        num_warmup_steps (:obj:`int`):\n",
    "            The number of steps for the warmup phase.\n",
    "        num_training_steps (:obj:`int`):\n",
    "            The total number of training steps.\n",
    "        num_cycles (:obj:`float`, `optional`, defaults to 0.5):\n",
    "            The number of waves in the cosine schedule (the defaults is to just decrease from the max value to 0\n",
    "            following a half-cosine).\n",
    "        last_epoch (:obj:`int`, `optional`, defaults to -1):\n",
    "            The index of the last epoch when resuming training.\n",
    "\n",
    "    Return:\n",
    "        :obj:`torch.optim.lr_scheduler.LambdaLR` with the appropriate schedule.\n",
    "    \"\"\"\n",
    "\n",
    "    def lr_lambda(current_step):\n",
    "        if current_step < num_warmup_steps:\n",
    "            return float(current_step) / float(max(1, num_warmup_steps))\n",
    "        progress = float(current_step - num_warmup_steps) / float(\n",
    "            max(1, num_training_steps - num_warmup_steps)\n",
    "        )\n",
    "        return max(\n",
    "            0.0, 0.5 * (1.0 + math.cos(math.pi * float(num_cycles) * 2.0 * progress))\n",
    "        )\n",
    "\n",
    "    return LambdaLR(optimizer, lr_lambda, last_epoch)"
   ]
  },
  {
   "cell_type": "code",
   "execution_count": 18,
   "metadata": {},
   "outputs": [
    {
     "data": {
      "text/plain": [
       "[<matplotlib.lines.Line2D at 0x7f9d8fb83d90>]"
      ]
     },
     "execution_count": 18,
     "metadata": {},
     "output_type": "execute_result"
    },
    {
     "data": {
      "image/png": "[encoded data removed]",
      "text/plain": [
       "<Figure size 432x288 with 1 Axes>"
      ]
     },
     "metadata": {
      "needs_background": "light"
     },
     "output_type": "display_data"
    }
   ],
   "source": [
    "scheduler = \"CosineWarmup\"\n",
    "scheduler_params = dict(num_warmup_steps=100, num_training_steps=num_epochs * num_batches)\n",
    "scheduler = SCHEDULER_REGISTERY.get(scheduler)(optimizer=optimizer, **scheduler_params)\n",
    "\n",
    "lr1 = []\n",
    "lr2 = []\n",
    "\n",
    "for epoch in range(num_epochs):\n",
    "    for batch in range(num_batches):\n",
    "        scheduler.step()\n",
    "        lrs = scheduler.get_lr()\n",
    "        lr1.append(lrs[0])\n",
    "        lr2.append(lrs[1])\n",
    "\n",
    "plt.plot(lr1)\n",
    "plt.plot(lr2)"
   ]
  },
  {
   "cell_type": "markdown",
   "metadata": {},
   "source": [
    "### Polynomial Decay with Warmup:¶\n",
    "> From : https://huggingface.co/transformers/_modules/transformers/optimization.html"
   ]
  },
  {
   "cell_type": "code",
   "execution_count": 19,
   "metadata": {},
   "outputs": [],
   "source": [
    "# export\n",
    "@SCHEDULER_REGISTERY.register()\n",
    "def PolynomialDecayWarmup(\n",
    "    optimizer,\n",
    "    num_warmup_steps,\n",
    "    num_training_steps,\n",
    "    lr_end=1e-7,\n",
    "    power=3,\n",
    "    last_epoch=-1,\n",
    "):\n",
    "    \"\"\"\n",
    "    Create a schedule with a learning rate that decreases as a polynomial decay from the initial lr set in the\n",
    "    optimizer to end lr defined by `lr_end`, after a warmup period during which it increases linearly from 0 to the\n",
    "    initial lr set in the optimizer.\n",
    "\n",
    "    Args:\n",
    "        optimizer (:class:`~torch.optim.Optimizer`):\n",
    "            The optimizer for which to schedule the learning rate.\n",
    "        num_warmup_steps (:obj:`int`):\n",
    "            The number of steps for the warmup phase.\n",
    "        num_training_steps (:obj:`int`):\n",
    "            The total number of training steps.\n",
    "        lr_end (:obj:`float`, `optional`, defaults to 1e-7):\n",
    "            The end LR.\n",
    "        power (:obj:`float`, `optional`, defaults to 1.0):\n",
    "            Power factor.\n",
    "        last_epoch (:obj:`int`, `optional`, defaults to -1):\n",
    "            The index of the last epoch when resuming training.\n",
    "\n",
    "    Note: `power` defaults to 1.0 as in the fairseq implementation, which in turn is based on the original BERT\n",
    "    implementation at\n",
    "    https://github.com/google-research/bert/blob/f39e881b169b9d53bea03d2d341b31707a6c052b/optimization.py#L37\n",
    "\n",
    "    Return:\n",
    "        :obj:`torch.optim.lr_scheduler.LambdaLR` with the appropriate schedule.\n",
    "\n",
    "    \"\"\"\n",
    "\n",
    "    lr_init = optimizer.defaults[\"lr\"]\n",
    "    assert (\n",
    "        lr_init > lr_end\n",
    "    ), f\"lr_end ({lr_end}) must be be smaller than initial lr ({lr_init})\"\n",
    "\n",
    "    def lr_lambda(current_step: int):\n",
    "        if current_step < num_warmup_steps:\n",
    "            return float(current_step) / float(max(1, num_warmup_steps))\n",
    "        elif current_step > num_training_steps:\n",
    "            return lr_end / lr_init  # as LambdaLR multiplies by lr_init\n",
    "        else:\n",
    "            lr_range = lr_init - lr_end\n",
    "            decay_steps = num_training_steps - num_warmup_steps\n",
    "            pct_remaining = 1 - (current_step - num_warmup_steps) / decay_steps\n",
    "            decay = lr_range * pct_remaining ** power + lr_end\n",
    "            return decay / lr_init\n",
    "\n",
    "    return LambdaLR(optimizer, lr_lambda, last_epoch)"
   ]
  },
  {
   "cell_type": "code",
   "execution_count": 20,
   "metadata": {},
   "outputs": [
    {
     "data": {
      "text/plain": [
       "[<matplotlib.lines.Line2D at 0x7f9dac50fa50>]"
      ]
     },
     "execution_count": 20,
     "metadata": {},
     "output_type": "execute_result"
    },
    {
     "data": {
      "image/png": "[encoded data removed]",
      "text/plain": [
       "<Figure size 432x288 with 1 Axes>"
      ]
     },
     "metadata": {
      "needs_background": "light"
     },
     "output_type": "display_data"
    }
   ],
   "source": [
    "scheduler = \"PolynomialDecayWarmup\"\n",
    "scheduler_params = dict(num_warmup_steps=100, num_training_steps=num_epochs * num_batches, power=3)\n",
    "scheduler = SCHEDULER_REGISTERY.get(scheduler)(optimizer=optimizer, **scheduler_params)\n",
    "\n",
    "lr1 = []\n",
    "lr2 = []\n",
    "\n",
    "for epoch in range(num_epochs):\n",
    "    for batch in range(num_batches):\n",
    "        scheduler.step()\n",
    "        lrs = scheduler.get_lr()\n",
    "        lr1.append(lrs[0])\n",
    "        lr2.append(lrs[1])\n",
    "\n",
    "plt.plot(lr1)\n",
    "plt.plot(lr2)"
   ]
  },
  {
   "cell_type": "markdown",
   "metadata": {},
   "source": [
    "## List of Supported Schedulers -"
   ]
  },
  {
   "cell_type": "code",
   "execution_count": 21,
   "metadata": {},
   "outputs": [
    {
     "data": {
      "text/plain": [
       "Registry of Schedulers:\n",
       "╒═════════════════════════════╤════════════════════════════════════════════════════════════════╕\n",
       "│ Names                       │ Objects                                                        │\n",
       "╞═════════════════════════════╪════════════════════════════════════════════════════════════════╡\n",
       "│ CosineAnnealingLR           │ <class 'torch.optim.lr_scheduler.CosineAnnealingLR'>           │\n",
       "├─────────────────────────────┼────────────────────────────────────────────────────────────────┤\n",
       "│ CosineAnnealingWarmRestarts │ <class 'torch.optim.lr_scheduler.CosineAnnealingWarmRestarts'> │\n",
       "├─────────────────────────────┼────────────────────────────────────────────────────────────────┤\n",
       "│ ReduceLROnPlateau           │ <class 'torch.optim.lr_scheduler.ReduceLROnPlateau'>           │\n",
       "├─────────────────────────────┼────────────────────────────────────────────────────────────────┤\n",
       "│ MultiplicativeLR            │ <class 'torch.optim.lr_scheduler.MultiplicativeLR'>            │\n",
       "├─────────────────────────────┼────────────────────────────────────────────────────────────────┤\n",
       "│ MultiStepLR                 │ <class 'torch.optim.lr_scheduler.MultiStepLR'>                 │\n",
       "├─────────────────────────────┼────────────────────────────────────────────────────────────────┤\n",
       "│ StepLR                      │ <class 'torch.optim.lr_scheduler.StepLR'>                      │\n",
       "├─────────────────────────────┼────────────────────────────────────────────────────────────────┤\n",
       "│ ExponentialLR               │ <class 'torch.optim.lr_scheduler.ExponentialLR'>               │\n",
       "├─────────────────────────────┼────────────────────────────────────────────────────────────────┤\n",
       "│ CyclicLR                    │ <class 'torch.optim.lr_scheduler.CyclicLR'>                    │\n",
       "├─────────────────────────────┼────────────────────────────────────────────────────────────────┤\n",
       "│ OneCycleLR                  │ <class 'torch.optim.lr_scheduler.OneCycleLR'>                  │\n",
       "├─────────────────────────────┼────────────────────────────────────────────────────────────────┤\n",
       "│ FlatCosScheduler            │ <class '__main__.FlatCosScheduler'>                            │\n",
       "├─────────────────────────────┼────────────────────────────────────────────────────────────────┤\n",
       "│ ConstantWarmup              │ <function ConstantWarmup at 0x7f9dac67acb0>                    │\n",
       "├─────────────────────────────┼────────────────────────────────────────────────────────────────┤\n",
       "│ LinearWarmup                │ <function LinearWarmup at 0x7f9da9b79b90>                      │\n",
       "├─────────────────────────────┼────────────────────────────────────────────────────────────────┤\n",
       "│ CosineWarmup                │ <function CosineWarmup at 0x7f9d8f9f00e0>                      │\n",
       "├─────────────────────────────┼────────────────────────────────────────────────────────────────┤\n",
       "│ PolynomialDecayWarmup       │ <function PolynomialDecayWarmup at 0x7f9d8fb58b90>             │\n",
       "╘═════════════════════════════╧════════════════════════════════════════════════════════════════╛"
      ]
     },
     "execution_count": 21,
     "metadata": {},
     "output_type": "execute_result"
    }
   ],
   "source": [
    "SCHEDULER_REGISTERY"
   ]
  },
  {
   "cell_type": "code",
   "execution_count": 22,
   "metadata": {},
   "outputs": [],
   "source": [
    "# export\n",
    "step_schedulers = [\"FlatCosScheduler\", \"OneCycleLR\"]\n",
    "\n",
    "warmup_schedulers = [\n",
    "    \"ConstantWarmup\",\n",
    "    \"LinearWarmup\",\n",
    "    \"CosineWarmup\",\n",
    "    \"PolynomialDecayWarmup\",\n",
    "]\n",
    "\n",
    "training_steps = [\"LinearWarmup\", \"PolynomialDecayWarmup\", \"CosineWarmup\"]"
   ]
  },
  {
   "cell_type": "markdown",
   "metadata": {},
   "source": [
    "## Utility Function to load a scheduler from `config` -"
   ]
  },
  {
   "cell_type": "code",
   "execution_count": 23,
   "metadata": {},
   "outputs": [],
   "source": [
    "# export\n",
    "def create_scheduler(cfg: DictConfig, optimizer: Optimizer, steps: int, epochs: int):\n",
    "    \"Create a Pytorch-Lightning supported scheduler from cfg. Note: only the `scheduler` config must be passed\"\n",
    "    if cfg.name in step_schedulers:\n",
    "        cfg.params.steps_per_epoch = steps\n",
    "        cfg.params.epochs = epochs\n",
    "\n",
    "    elif cfg.name in warmup_schedulers:\n",
    "        cfg.params.num_warmup_steps = steps * cfg.params.num_warmup_steps\n",
    "\n",
    "        # for LinearWarmup & PolynomialDecayWarmup\n",
    "        if cfg.name in training_steps:\n",
    "            cfg.params.num_training_steps = steps * epochs\n",
    "\n",
    "    lr_scheduler = SCHEDULER_REGISTERY.get(cfg.name)(optimizer=optimizer, **cfg.params)\n",
    "\n",
    "    _logger.info(f\"{cfg.name} loaded from SCHEDULER_REGISTERY\")\n",
    "\n",
    "    scheduler = dict(\n",
    "        scheduler=lr_scheduler,\n",
    "        monitor=cfg.monitor,\n",
    "        frequency=cfg.frequency,\n",
    "        interval=cfg.interval,\n",
    "    )\n",
    "    return scheduler"
   ]
  },
  {
   "cell_type": "code",
   "execution_count": 24,
   "metadata": {},
   "outputs": [],
   "source": [
    "flat_cos = OmegaConf.load(\"../conf/scheduler/flatcos.yaml\")\n",
    "cosine_warmup = OmegaConf.load(\"../conf/scheduler/cosine-warmup.yaml\")\n",
    "linear_warmup = OmegaConf.load(\"../conf/scheduler/linear-warmup.yaml\")\n",
    "constant_warmup = OmegaConf.load(\"../conf/scheduler/constant-warmup.yaml\")\n",
    "polynomial_warmup = OmegaConf.load(\"../conf/scheduler/poly-warmup.yaml\")"
   ]
  },
  {
   "cell_type": "code",
   "execution_count": 25,
   "metadata": {},
   "outputs": [
    {
     "name": "stderr",
     "output_type": "stream",
     "text": [
      "Ranger optimizer loaded. \n",
      "Gradient Centralization usage = True\n",
      "GC applied to both conv and fc layers\n",
      "PolynomialDecayWarmup loaded from SCHEDULER_REGISTERY\n"
     ]
    },
    {
     "data": {
      "image/png": "[encoded data removed]",
      "text/plain": [
       "<Figure size 432x288 with 1 Axes>"
      ]
     },
     "metadata": {
      "needs_background": "light"
     },
     "output_type": "display_data"
    }
   ],
   "source": [
    "num_epochs = 20\n",
    "num_batches = 100\n",
    "\n",
    "optimizer = OPTIM_REGISTERY.get(\"Ranger\")(params=params, **optimizer_params)\n",
    "\n",
    "#lr_scheduler = create_scheduler(flat_cos, optimizer, num_batches, num_epochs,)\n",
    "#lr_scheduler = create_scheduler(cosine_warmup, optimizer, num_batches, num_epochs)\n",
    "#lr_scheduler = create_scheduler(linear_warmup, optimizer, num_batches, num_epochs)\n",
    "#lr_scheduler = create_scheduler(constant_warmup, optimizer, num_batches, num_epochs)\n",
    "lr_scheduler = create_scheduler(polynomial_warmup, optimizer, num_batches, num_epochs)\n",
    "\n",
    "lr1 = []\n",
    "lr2 = []\n",
    "\n",
    "for epoch in range(num_epochs):\n",
    "    for batch in range(num_batches):\n",
    "        if lr_scheduler[\"interval\"] == \"step\":\n",
    "            lr_scheduler[\"scheduler\"].step()\n",
    "            lrs = lr_scheduler[\"scheduler\"].get_lr()\n",
    "            lr1.append(lrs[0])\n",
    "            lr2.append(lrs[1])\n",
    "\n",
    "        else:\n",
    "            pass\n",
    "\n",
    "    if lr_scheduler[\"interval\"] == \"epoch\":\n",
    "        lr_scheduler[\"scheduler\"].step()\n",
    "        lrs = lr_scheduler[\"scheduler\"].get_lr()\n",
    "        lr1.append(lrs[0])\n",
    "        lr2.append(lrs[1])\n",
    "    else:\n",
    "        pass\n",
    "\n",
    "plt.plot(lr1)\n",
    "plt.plot(lr2);"
   ]
  },
  {
   "cell_type": "code",
   "execution_count": 26,
   "metadata": {},
   "outputs": [
    {
     "name": "stdout",
     "output_type": "stream",
     "text": [
      "Converted 00_core.ipynb.\n",
      "Converted 01_mixmethods.ipynb.\n",
      "Converted 02_losses.ipynb.\n",
      "Converted 03_layers.ipynb.\n",
      "Converted 03a_networks.ipynb.\n",
      "Converted 04_optimizers.ipynb.\n",
      "Converted 04a_schedulers.ipynb.\n",
      "Converted 05_lightning.data.ipynb.\n",
      "Converted 05a_lightning.core.ipynb.\n",
      "Converted 05b_lightning.callbacks.ipynb.\n",
      "Converted 06_fastai.core.ipynb.\n",
      "Converted index.ipynb.\n"
     ]
    }
   ],
   "source": [
    "notebook2script()"
   ]
  },
  {
   "cell_type": "code",
   "execution_count": null,
   "metadata": {},
   "outputs": [],
   "source": []
  }
 ],
 "metadata": {
  "kernelspec": {
   "display_name": "pytorch",
   "language": "python",
   "name": "pytorch"
  },
  "language_info": {
   "codemirror_mode": {
    "name": "ipython",
    "version": 3
   },
   "file_extension": ".py",
   "mimetype": "text/x-python",
   "name": "python",
   "nbconvert_exporter": "python",
   "pygments_lexer": "ipython3",
   "version": "3.7.7"
  },
  "toc": {
   "base_numbering": 1,
   "nav_menu": {},
   "number_sections": true,
   "sideBar": true,
   "skip_h1_title": false,
   "title_cell": "Table of Contents",
   "title_sidebar": "Contents",
   "toc_cell": false,
   "toc_position": {},
   "toc_section_display": true,
   "toc_window_display": false
  }
 },
 "nbformat": 4,
 "nbformat_minor": 4
}
