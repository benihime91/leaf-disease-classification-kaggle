{
 "cells": [
  {
   "cell_type": "markdown",
   "metadata": {},
   "source": [
    "Notebook by Ayushman Buragohain\n",
    "\n",
    "\n",
    "\n",
    "## seresnext50_32x4d + Label-Smoothing + Ranger + Flat-Anneal"
   ]
  },
  {
   "cell_type": "code",
   "execution_count": null,
   "metadata": {},
   "outputs": [],
   "source": [
    "import os\n",
    "import wandb\n",
    "import albumentations as A\n",
    "import timm\n",
    "\n",
    "from fastai.vision.all import *\n",
    "from fastai.callback.wandb import *\n",
    "\n",
    "from cassava_utils import *"
   ]
  },
  {
   "cell_type": "code",
   "execution_count": null,
   "metadata": {},
   "outputs": [],
   "source": [
    "SEED        = 42\n",
    "IDX         = generate_random_id()\n",
    "OOF_FOLD    = 0\n",
    "NUM_CLASSES = 5\n",
    "CSV_PATH    = '../data/fold_df.csv'\n",
    "IMAGE_DIR   = '../../train_images/'\n",
    "INPUT_DIMS  = 224\n",
    "MODEL       = 'seresnext50_32x4d'\n",
    "PROJECT     = 'kaggle-leaf-disease-fastai-runs'\n",
    "SAVE_NAME   = f\"{MODEL}-fold={OOF_FOLD}-{IDX}\"\n",
    "\n",
    "set_seed(SEED, reproducible=True)\n",
    "\n",
    "Ts = [MODEL, 'ranger', 'label-smoothing', str(INPUT_DIMS) + 'mixup' + 'mish']\n",
    "Ns = f'{MODEL} + Ranger + LabelSmoothing + MixUp + Mish'\n",
    "run = wandb.init(project=PROJECT, tags=Ts, notes=Ns,)"
   ]
  },
  {
   "cell_type": "code",
   "execution_count": null,
   "metadata": {},
   "outputs": [],
   "source": [
    "data = get_dataset(CSV_PATH, IMAGE_DIR, OOF_FOLD, shuffle=True)\n",
    "data.head()"
   ]
  },
  {
   "cell_type": "code",
   "execution_count": null,
   "metadata": {},
   "outputs": [],
   "source": [
    "TRAIN_AUGS = A.Compose([\n",
    "    A.OneOf([A.RandomResizedCrop(INPUT_DIMS, INPUT_DIMS), A.CenterCrop(INPUT_DIMS, INPUT_DIMS)], p=0.5),\n",
    "    A.Resize(INPUT_DIMS, INPUT_DIMS, p=1.0),\n",
    "    A.HorizontalFlip(),\n",
    "    A.OneOf([A.Rotate(), A.VerticalFlip()], p=0.5),\n",
    "    A.OneOf([A.Flip(), A.IAAPerspective(), A.ShiftScaleRotate()], p=0.5),\n",
    "    A.RandomBrightnessContrast(0.1, 0.1, p=0.5),\n",
    "    A.OneOf([A.CLAHE(), A.HueSaturationValue(0.2, 0.2, 0.2), A.IAASharpen()], p=0.5),\n",
    "    A.CoarseDropout(p=0.5),\n",
    "    A.Cutout(p=0.5, num_holes=15),\n",
    "])\n",
    "\n",
    "VALID_AUGS = A.Compose([A.Resize(INPUT_DIMS, INPUT_DIMS, p=1.0)])\n",
    "\n",
    "ITEM_TFMS  = AlbumentationsTransform(TRAIN_AUGS, VALID_AUGS)\n",
    "BATCH_TFMS = [Normalize.from_stats(*imagenet_stats)]\n",
    "\n",
    "cassava = DataBlock(blocks=(ImageBlock, CategoryBlock),\n",
    "                  splitter=ColSplitter(),\n",
    "                  get_x=lambda o: o['filePath'], \n",
    "                  get_y=lambda o: o['label'], \n",
    "                  item_tfms=ITEM_TFMS, \n",
    "                  batch_tfms=BATCH_TFMS)\n",
    "\n",
    "dls = cassava.dataloaders(data, bs=32)"
   ]
  },
  {
   "cell_type": "code",
   "execution_count": null,
   "metadata": {},
   "outputs": [],
   "source": [
    "dls.train.show_batch(max_n=3,figsize=(12,6))"
   ]
  },
  {
   "cell_type": "code",
   "execution_count": null,
   "metadata": {},
   "outputs": [],
   "source": [
    "dls.valid.show_batch(max_n=3,figsize=(12,6))"
   ]
  },
  {
   "cell_type": "code",
   "execution_count": null,
   "metadata": {},
   "outputs": [],
   "source": [
    "@delegates(Learner)\n",
    "def timm_learner(dls, m_name:str, cut:int, c:int, state:str=None, init:bool=True, \n",
    "                pretrained:bool=True, act:callable=nn.ReLU(inplace=True), modifier=None, **kwargs):\n",
    "    'create a fast.ai learner instance from timm'\n",
    "    encoder = timm.create_model(m_name, pretrained=pretrained, )\n",
    "    \n",
    "    model  = TransferLearningModel(encoder, num_classes=c, cut=cut, act=act, init=init)\n",
    "    \n",
    "    if modifier is not None: \n",
    "        for mds in modifier :  mds(model)\n",
    "            \n",
    "    if state is not None: model.load_state_dict(torch.load(state)) \n",
    "    \n",
    "    learn = Learner(dls, model, **kwargs)\n",
    "    return learn"
   ]
  },
  {
   "cell_type": "code",
   "execution_count": null,
   "metadata": {},
   "outputs": [],
   "source": [
    "cb_list = [WandbCallback(seed=SEED, log_preds=False, log_model=False), TerminateOnNaNCallback()]\n",
    "\n",
    "learn = timm_learner(dls, MODEL, cut=-2, c=dls.c, pretrained=True, init=True,\n",
    "                    metrics=[accuracy], splitter=custom_splitter,\n",
    "                    opt_func=ranger, loss_func=LabelSmoothingCrossEntropy(),\n",
    "                    cbs=cb_list).to_fp16()"
   ]
  },
  {
   "cell_type": "code",
   "execution_count": null,
   "metadata": {},
   "outputs": [],
   "source": [
    "learn.model"
   ]
  },
  {
   "cell_type": "code",
   "execution_count": null,
   "metadata": {},
   "outputs": [],
   "source": [
    "learn.freeze()\n",
    "learn.lr_find()"
   ]
  },
  {
   "cell_type": "code",
   "execution_count": null,
   "metadata": {},
   "outputs": [],
   "source": [
    "learn.freeze()\n",
    "learn.fit_flat_cos(2, slice(2e-05), wd=0.1, cbs=[MixUp(), GradientAccumulation(n_acc=4*dls.bs)])"
   ]
  },
  {
   "cell_type": "code",
   "execution_count": null,
   "metadata": {},
   "outputs": [],
   "source": [
    "learn.save('stage-1')"
   ]
  },
  {
   "cell_type": "code",
   "execution_count": null,
   "metadata": {},
   "outputs": [],
   "source": [
    "learn = learn.load('stage-1')"
   ]
  },
  {
   "cell_type": "code",
   "execution_count": null,
   "metadata": {},
   "outputs": [],
   "source": [
    "learn.unfreeze()\n",
    "learn.lr_find()"
   ]
  },
  {
   "cell_type": "code",
   "execution_count": null,
   "metadata": {},
   "outputs": [],
   "source": [
    "cb_list = [MixUp(), GradientAccumulation(n_acc=4*dls.bs)]\n",
    "learn.fit_flat_cos(15, slice(6e-04), wd=0.1, cbs=cb_list, pct_start=0.72)"
   ]
  },
  {
   "cell_type": "code",
   "execution_count": null,
   "metadata": {},
   "outputs": [],
   "source": [
    "cb_list = [MixUp(), GradientAccumulation(n_acc=4*dls.bs), SaveModelCallback(monitor='accuracy')]\n",
    "learn.fit_flat_cos(15, slice(6e-04), wd=0.1, cbs=cb_list, pct_start=0.72)"
   ]
  }
 ],
 "metadata": {
  "kernelspec": {
   "display_name": "Python 3",
   "language": "python",
   "name": "python3"
  },
  "language_info": {
   "codemirror_mode": {
    "name": "ipython",
    "version": 3
   },
   "file_extension": ".py",
   "mimetype": "text/x-python",
   "name": "python",
   "nbconvert_exporter": "python",
   "pygments_lexer": "ipython3",
   "version": "3.6.9"
  }
 },
 "nbformat": 4,
 "nbformat_minor": 4
}
