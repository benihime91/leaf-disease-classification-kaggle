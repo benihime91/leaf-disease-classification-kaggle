{
  "nbformat": 4,
  "nbformat_minor": 0,
  "metadata": {
    "colab": {
      "name": "hydra-train-seresnext50_32x4d-cosinewarmup-snapmix.ipynb",
      "provenance": [],
      "collapsed_sections": [],
      "mount_file_id": "1DIBauTgUvGeXZA7t5qwxN2YuclKgmGKB",
      "authorship_tag": "ABX9TyOba/eUYfsbyxRG1N35hDq5",
      "include_colab_link": true
    },
    "kernelspec": {
      "name": "python3",
      "display_name": "Python 3"
    },
    "accelerator": "GPU"
  },
  "cells": [
    {
      "cell_type": "markdown",
      "metadata": {
        "id": "view-in-github",
        "colab_type": "text"
      },
      "source": [
        "<a href=\"https://colab.research.google.com/github/benihime91/leaf-disease-classification-kaggle/blob/main/nbs/experiments/hydra_train_seresnext50_32x4d_cosinewarmup_snapmix.ipynb\" target=\"_parent\"><img src=\"https://colab.research.google.com/assets/colab-badge.svg\" alt=\"Open In Colab\"/></a>"
      ]
    },
    {
      "cell_type": "code",
      "metadata": {
        "colab": {
          "base_uri": "https://localhost:8080/"
        },
        "id": "4A4o3g-Gt69B",
        "outputId": "3f6926ed-19aa-427f-ef13-37856128cec1"
      },
      "source": [
        "!nvidia-smi"
      ],
      "execution_count": 1,
      "outputs": [
        {
          "output_type": "stream",
          "text": [
            "Thu Dec 31 15:43:57 2020       \n",
            "+-----------------------------------------------------------------------------+\n",
            "| NVIDIA-SMI 460.27.04    Driver Version: 418.67       CUDA Version: 10.1     |\n",
            "|-------------------------------+----------------------+----------------------+\n",
            "| GPU  Name        Persistence-M| Bus-Id        Disp.A | Volatile Uncorr. ECC |\n",
            "| Fan  Temp  Perf  Pwr:Usage/Cap|         Memory-Usage | GPU-Util  Compute M. |\n",
            "|                               |                      |               MIG M. |\n",
            "|===============================+======================+======================|\n",
            "|   0  Tesla T4            Off  | 00000000:00:04.0 Off |                    0 |\n",
            "| N/A   54C    P8    10W /  70W |      0MiB / 15079MiB |      0%      Default |\n",
            "|                               |                      |                 ERR! |\n",
            "+-------------------------------+----------------------+----------------------+\n",
            "                                                                               \n",
            "+-----------------------------------------------------------------------------+\n",
            "| Processes:                                                                  |\n",
            "|  GPU   GI   CI        PID   Type   Process name                  GPU Memory |\n",
            "|        ID   ID                                                   Usage      |\n",
            "|=============================================================================|\n",
            "|  No running processes found                                                 |\n",
            "+-----------------------------------------------------------------------------+\n"
          ],
          "name": "stdout"
        }
      ]
    },
    {
      "cell_type": "code",
      "metadata": {
        "colab": {
          "base_uri": "https://localhost:8080/",
          "height": 17
        },
        "id": "fpBNgTWft7gy",
        "outputId": "9f60674e-9129-4dda-afb1-4a29ed645d1f"
      },
      "source": [
        "# Ensure colab doesn't disconnect\n",
        "%%javascript\n",
        "function ClickConnect(){\n",
        "console.log(\"Working\");\n",
        "document.querySelector(\"colab-toolbar-button#connect\").click()\n",
        "}setInterval(ClickConnect,60000)"
      ],
      "execution_count": 2,
      "outputs": [
        {
          "output_type": "display_data",
          "data": {
            "application/javascript": [
              "function ClickConnect(){\n",
              "console.log(\"Working\");\n",
              "document.querySelector(\"colab-toolbar-button#connect\").click()\n",
              "}setInterval(ClickConnect,60000)"
            ],
            "text/plain": [
              "<IPython.core.display.Javascript object>"
            ]
          },
          "metadata": {
            "tags": []
          }
        }
      ]
    },
    {
      "cell_type": "code",
      "metadata": {
        "colab": {
          "base_uri": "https://localhost:8080/"
        },
        "id": "QNly8ZY0t-6U",
        "outputId": "69e8980a-c986-4202-f987-0f8ccb59b11c"
      },
      "source": [
        "!git clone https://github.com/benihime91/leaf-disease-classification-kaggle.git"
      ],
      "execution_count": 3,
      "outputs": [
        {
          "output_type": "stream",
          "text": [
            "Cloning into 'leaf-disease-classification-kaggle'...\n",
            "remote: Enumerating objects: 335, done.\u001b[K\n",
            "remote: Counting objects: 100% (335/335), done.\u001b[K\n",
            "remote: Compressing objects: 100% (218/218), done.\u001b[K\n",
            "remote: Total 1587 (delta 215), reused 229 (delta 113), pack-reused 1252\u001b[K\n",
            "Receiving objects: 100% (1587/1587), 54.97 MiB | 32.02 MiB/s, done.\n",
            "Resolving deltas: 100% (929/929), done.\n"
          ],
          "name": "stdout"
        }
      ]
    },
    {
      "cell_type": "code",
      "metadata": {
        "colab": {
          "base_uri": "https://localhost:8080/",
          "height": 1000
        },
        "id": "zyZDV1k8uTg3",
        "outputId": "e4b1a115-6e2f-4dee-81bb-9f65aea93725"
      },
      "source": [
        "!pip install --upgrade -r /content/leaf-disease-classification-kaggle/requirements.txt"
      ],
      "execution_count": 4,
      "outputs": [
        {
          "output_type": "stream",
          "text": [
            "Collecting pyyaml==5.3.1\n",
            "\u001b[?25l  Downloading https://files.pythonhosted.org/packages/64/c2/b80047c7ac2478f9501676c988a5411ed5572f35d1beff9cae07d321512c/PyYAML-5.3.1.tar.gz (269kB)\n",
            "\u001b[K     |████████████████████████████████| 276kB 8.0MB/s \n",
            "\u001b[?25hCollecting albumentations==0.5.2\n",
            "\u001b[?25l  Downloading https://files.pythonhosted.org/packages/03/58/63fb1d742dc42d9ba2800ea741de1f2bc6bb05548d8724aa84794042eaf2/albumentations-0.5.2-py3-none-any.whl (72kB)\n",
            "\u001b[K     |████████████████████████████████| 81kB 11.4MB/s \n",
            "\u001b[?25hCollecting hydra-colorlog==1.0.0\n",
            "  Downloading https://files.pythonhosted.org/packages/3a/83/ff87ca2f7981f505b4c8a7ddf1d23e78e6dba14f61eea399ab2d319a5133/hydra_colorlog-1.0.0-py3-none-any.whl\n",
            "Collecting hydra-core==1.0.4\n",
            "\u001b[?25l  Downloading https://files.pythonhosted.org/packages/f0/1f/7f502b9e37596164111655861370b08626f46f9e4524433c354f472765d4/hydra_core-1.0.4-py3-none-any.whl (122kB)\n",
            "\u001b[K     |████████████████████████████████| 122kB 22.1MB/s \n",
            "\u001b[?25hCollecting pandas==1.1.4\n",
            "\u001b[?25l  Downloading https://files.pythonhosted.org/packages/4d/51/bafcff417cd857bc6684336320863b5e5af280530213ef8f534b6042cfe6/pandas-1.1.4-cp36-cp36m-manylinux1_x86_64.whl (9.5MB)\n",
            "\u001b[K     |████████████████████████████████| 9.5MB 13.6MB/s \n",
            "\u001b[?25hCollecting pytorch-lightning==1.0.8\n",
            "\u001b[?25l  Downloading https://files.pythonhosted.org/packages/2e/92/078c5524c875c274ded8a0317ef31a2bb86d02c5c74089ab754d0f12b29c/pytorch_lightning-1.0.8-py3-none-any.whl (561kB)\n",
            "\u001b[K     |████████████████████████████████| 563kB 40.6MB/s \n",
            "\u001b[?25hCollecting timm==0.3.1\n",
            "\u001b[?25l  Downloading https://files.pythonhosted.org/packages/bc/0d/d71d3b8f76f693fca932458ac11c2ec0a7a24a708860c198f1c040720312/timm-0.3.1-py3-none-any.whl (247kB)\n",
            "\u001b[K     |████████████████████████████████| 256kB 52.2MB/s \n",
            "\u001b[?25hCollecting wandb==0.10.11\n",
            "\u001b[?25l  Downloading https://files.pythonhosted.org/packages/93/7c/bf3cba8513f02c92fff0f0dab49846f1aa3da93c71fb4de7f34f501d15f0/wandb-0.10.11-py2.py3-none-any.whl (1.8MB)\n",
            "\u001b[K     |████████████████████████████████| 1.8MB 48.3MB/s \n",
            "\u001b[?25hRequirement already satisfied, skipping upgrade: numpy>=1.11.1 in /usr/local/lib/python3.6/dist-packages (from albumentations==0.5.2->-r /content/leaf-disease-classification-kaggle/requirements.txt (line 2)) (1.19.4)\n",
            "Collecting imgaug>=0.4.0\n",
            "\u001b[?25l  Downloading https://files.pythonhosted.org/packages/66/b1/af3142c4a85cba6da9f4ebb5ff4e21e2616309552caca5e8acefe9840622/imgaug-0.4.0-py2.py3-none-any.whl (948kB)\n",
            "\u001b[K     |████████████████████████████████| 952kB 57.4MB/s \n",
            "\u001b[?25hRequirement already satisfied, skipping upgrade: scikit-image>=0.16.1 in /usr/local/lib/python3.6/dist-packages (from albumentations==0.5.2->-r /content/leaf-disease-classification-kaggle/requirements.txt (line 2)) (0.16.2)\n",
            "Collecting opencv-python-headless>=4.1.1\n",
            "\u001b[?25l  Downloading https://files.pythonhosted.org/packages/08/e9/57d869561389884136be65a2d1bc038fe50171e2ba348fda269a4aab8032/opencv_python_headless-4.4.0.46-cp36-cp36m-manylinux2014_x86_64.whl (36.7MB)\n",
            "\u001b[K     |████████████████████████████████| 36.7MB 72kB/s \n",
            "\u001b[?25hRequirement already satisfied, skipping upgrade: scipy in /usr/local/lib/python3.6/dist-packages (from albumentations==0.5.2->-r /content/leaf-disease-classification-kaggle/requirements.txt (line 2)) (1.4.1)\n",
            "Collecting colorlog\n",
            "  Downloading https://files.pythonhosted.org/packages/4e/c8/c16d30bbed11a1722060014c246d124582d1f781b26f5859d8dacc3e08e1/colorlog-4.6.2-py2.py3-none-any.whl\n",
            "Requirement already satisfied, skipping upgrade: importlib-resources; python_version < \"3.9\" in /usr/local/lib/python3.6/dist-packages (from hydra-core==1.0.4->-r /content/leaf-disease-classification-kaggle/requirements.txt (line 4)) (3.3.0)\n",
            "Collecting antlr4-python3-runtime==4.8\n",
            "\u001b[?25l  Downloading https://files.pythonhosted.org/packages/56/02/789a0bddf9c9b31b14c3e79ec22b9656185a803dc31c15f006f9855ece0d/antlr4-python3-runtime-4.8.tar.gz (112kB)\n",
            "\u001b[K     |████████████████████████████████| 112kB 62.2MB/s \n",
            "\u001b[?25hCollecting omegaconf>=2.0.5\n",
            "  Downloading https://files.pythonhosted.org/packages/e5/f6/043b6d255dd6fbf2025110cea35b87f4c5100a181681d8eab496269f0d5b/omegaconf-2.0.5-py3-none-any.whl\n",
            "Requirement already satisfied, skipping upgrade: pytz>=2017.2 in /usr/local/lib/python3.6/dist-packages (from pandas==1.1.4->-r /content/leaf-disease-classification-kaggle/requirements.txt (line 5)) (2018.9)\n",
            "Requirement already satisfied, skipping upgrade: python-dateutil>=2.7.3 in /usr/local/lib/python3.6/dist-packages (from pandas==1.1.4->-r /content/leaf-disease-classification-kaggle/requirements.txt (line 5)) (2.8.1)\n",
            "Requirement already satisfied, skipping upgrade: tensorboard>=2.2.0 in /usr/local/lib/python3.6/dist-packages (from pytorch-lightning==1.0.8->-r /content/leaf-disease-classification-kaggle/requirements.txt (line 6)) (2.4.0)\n",
            "Collecting fsspec>=0.8.0\n",
            "\u001b[?25l  Downloading https://files.pythonhosted.org/packages/ec/80/72ac0982cc833945fada4b76c52f0f65435ba4d53bc9317d1c70b5f7e7d5/fsspec-0.8.5-py3-none-any.whl (98kB)\n",
            "\u001b[K     |████████████████████████████████| 102kB 15.7MB/s \n",
            "\u001b[?25hCollecting future>=0.17.1\n",
            "\u001b[?25l  Downloading https://files.pythonhosted.org/packages/45/0b/38b06fd9b92dc2b68d58b75f900e97884c45bedd2ff83203d933cf5851c9/future-0.18.2.tar.gz (829kB)\n",
            "\u001b[K     |████████████████████████████████| 829kB 52.7MB/s \n",
            "\u001b[?25hRequirement already satisfied, skipping upgrade: torch>=1.3 in /usr/local/lib/python3.6/dist-packages (from pytorch-lightning==1.0.8->-r /content/leaf-disease-classification-kaggle/requirements.txt (line 6)) (1.7.0+cu101)\n",
            "Requirement already satisfied, skipping upgrade: tqdm>=4.41.0 in /usr/local/lib/python3.6/dist-packages (from pytorch-lightning==1.0.8->-r /content/leaf-disease-classification-kaggle/requirements.txt (line 6)) (4.41.1)\n",
            "Requirement already satisfied, skipping upgrade: torchvision in /usr/local/lib/python3.6/dist-packages (from timm==0.3.1->-r /content/leaf-disease-classification-kaggle/requirements.txt (line 7)) (0.8.1+cu101)\n",
            "Collecting sentry-sdk>=0.4.0\n",
            "\u001b[?25l  Downloading https://files.pythonhosted.org/packages/b1/5c/018bf9a5c24343a664deaea70e61f33f53bb1bd3caf193110f827bfd07e2/sentry_sdk-0.19.5-py2.py3-none-any.whl (128kB)\n",
            "\u001b[K     |████████████████████████████████| 133kB 61.6MB/s \n",
            "\u001b[?25hCollecting shortuuid>=0.5.0\n",
            "  Downloading https://files.pythonhosted.org/packages/25/a6/2ecc1daa6a304e7f1b216f0896b26156b78e7c38e1211e9b798b4716c53d/shortuuid-1.0.1-py3-none-any.whl\n",
            "Requirement already satisfied, skipping upgrade: protobuf>=3.12.0 in /usr/local/lib/python3.6/dist-packages (from wandb==0.10.11->-r /content/leaf-disease-classification-kaggle/requirements.txt (line 8)) (3.12.4)\n",
            "Collecting subprocess32>=3.5.3\n",
            "\u001b[?25l  Downloading https://files.pythonhosted.org/packages/32/c8/564be4d12629b912ea431f1a50eb8b3b9d00f1a0b1ceff17f266be190007/subprocess32-3.5.4.tar.gz (97kB)\n",
            "\u001b[K     |████████████████████████████████| 102kB 15.7MB/s \n",
            "\u001b[?25hCollecting docker-pycreds>=0.4.0\n",
            "  Downloading https://files.pythonhosted.org/packages/f5/e8/f6bd1eee09314e7e6dee49cbe2c5e22314ccdb38db16c9fc72d2fa80d054/docker_pycreds-0.4.0-py2.py3-none-any.whl\n",
            "Collecting configparser>=3.8.1\n",
            "  Downloading https://files.pythonhosted.org/packages/08/b2/ef713e0e67f6e7ec7d59aea3ee78d05b39c15930057e724cc6d362a8c3bb/configparser-5.0.1-py3-none-any.whl\n",
            "Collecting GitPython>=1.0.0\n",
            "\u001b[?25l  Downloading https://files.pythonhosted.org/packages/24/d1/a7f8fe3df258549b303415157328bfcc63e9b11d06a7ad7a3327f3d32606/GitPython-3.1.11-py3-none-any.whl (159kB)\n",
            "\u001b[K     |████████████████████████████████| 163kB 59.8MB/s \n",
            "\u001b[?25hCollecting watchdog>=0.8.3\n",
            "\u001b[?25l  Downloading https://files.pythonhosted.org/packages/83/d9/3d1f46b428fd7b646725896b58d2eddb84f79fd76912773e6193cf74263d/watchdog-1.0.2-py3-none-manylinux2014_x86_64.whl (72kB)\n",
            "\u001b[K     |████████████████████████████████| 81kB 13.3MB/s \n",
            "\u001b[?25hRequirement already satisfied, skipping upgrade: six>=1.13.0 in /usr/local/lib/python3.6/dist-packages (from wandb==0.10.11->-r /content/leaf-disease-classification-kaggle/requirements.txt (line 8)) (1.15.0)\n",
            "Requirement already satisfied, skipping upgrade: psutil>=5.0.0 in /usr/local/lib/python3.6/dist-packages (from wandb==0.10.11->-r /content/leaf-disease-classification-kaggle/requirements.txt (line 8)) (5.4.8)\n",
            "Requirement already satisfied, skipping upgrade: promise<3,>=2.0 in /usr/local/lib/python3.6/dist-packages (from wandb==0.10.11->-r /content/leaf-disease-classification-kaggle/requirements.txt (line 8)) (2.3)\n",
            "Requirement already satisfied, skipping upgrade: Click>=7.0 in /usr/local/lib/python3.6/dist-packages (from wandb==0.10.11->-r /content/leaf-disease-classification-kaggle/requirements.txt (line 8)) (7.1.2)\n",
            "Requirement already satisfied, skipping upgrade: requests<3,>=2.0.0 in /usr/local/lib/python3.6/dist-packages (from wandb==0.10.11->-r /content/leaf-disease-classification-kaggle/requirements.txt (line 8)) (2.23.0)\n",
            "Requirement already satisfied, skipping upgrade: imageio in /usr/local/lib/python3.6/dist-packages (from imgaug>=0.4.0->albumentations==0.5.2->-r /content/leaf-disease-classification-kaggle/requirements.txt (line 2)) (2.4.1)\n",
            "Requirement already satisfied, skipping upgrade: opencv-python in /usr/local/lib/python3.6/dist-packages (from imgaug>=0.4.0->albumentations==0.5.2->-r /content/leaf-disease-classification-kaggle/requirements.txt (line 2)) (4.1.2.30)\n",
            "Requirement already satisfied, skipping upgrade: matplotlib in /usr/local/lib/python3.6/dist-packages (from imgaug>=0.4.0->albumentations==0.5.2->-r /content/leaf-disease-classification-kaggle/requirements.txt (line 2)) (3.2.2)\n",
            "Requirement already satisfied, skipping upgrade: Shapely in /usr/local/lib/python3.6/dist-packages (from imgaug>=0.4.0->albumentations==0.5.2->-r /content/leaf-disease-classification-kaggle/requirements.txt (line 2)) (1.7.1)\n",
            "Requirement already satisfied, skipping upgrade: Pillow in /usr/local/lib/python3.6/dist-packages (from imgaug>=0.4.0->albumentations==0.5.2->-r /content/leaf-disease-classification-kaggle/requirements.txt (line 2)) (7.0.0)\n",
            "Requirement already satisfied, skipping upgrade: networkx>=2.0 in /usr/local/lib/python3.6/dist-packages (from scikit-image>=0.16.1->albumentations==0.5.2->-r /content/leaf-disease-classification-kaggle/requirements.txt (line 2)) (2.5)\n",
            "Requirement already satisfied, skipping upgrade: PyWavelets>=0.4.0 in /usr/local/lib/python3.6/dist-packages (from scikit-image>=0.16.1->albumentations==0.5.2->-r /content/leaf-disease-classification-kaggle/requirements.txt (line 2)) (1.1.1)\n",
            "Requirement already satisfied, skipping upgrade: zipp>=0.4; python_version < \"3.8\" in /usr/local/lib/python3.6/dist-packages (from importlib-resources; python_version < \"3.9\"->hydra-core==1.0.4->-r /content/leaf-disease-classification-kaggle/requirements.txt (line 4)) (3.4.0)\n",
            "Requirement already satisfied, skipping upgrade: typing-extensions in /usr/local/lib/python3.6/dist-packages (from omegaconf>=2.0.5->hydra-core==1.0.4->-r /content/leaf-disease-classification-kaggle/requirements.txt (line 4)) (3.7.4.3)\n",
            "Requirement already satisfied, skipping upgrade: dataclasses; python_version == \"3.6\" in /usr/local/lib/python3.6/dist-packages (from omegaconf>=2.0.5->hydra-core==1.0.4->-r /content/leaf-disease-classification-kaggle/requirements.txt (line 4)) (0.8)\n",
            "Requirement already satisfied, skipping upgrade: absl-py>=0.4 in /usr/local/lib/python3.6/dist-packages (from tensorboard>=2.2.0->pytorch-lightning==1.0.8->-r /content/leaf-disease-classification-kaggle/requirements.txt (line 6)) (0.10.0)\n",
            "Requirement already satisfied, skipping upgrade: google-auth-oauthlib<0.5,>=0.4.1 in /usr/local/lib/python3.6/dist-packages (from tensorboard>=2.2.0->pytorch-lightning==1.0.8->-r /content/leaf-disease-classification-kaggle/requirements.txt (line 6)) (0.4.2)\n",
            "Requirement already satisfied, skipping upgrade: setuptools>=41.0.0 in /usr/local/lib/python3.6/dist-packages (from tensorboard>=2.2.0->pytorch-lightning==1.0.8->-r /content/leaf-disease-classification-kaggle/requirements.txt (line 6)) (51.0.0)\n",
            "Requirement already satisfied, skipping upgrade: google-auth<2,>=1.6.3 in /usr/local/lib/python3.6/dist-packages (from tensorboard>=2.2.0->pytorch-lightning==1.0.8->-r /content/leaf-disease-classification-kaggle/requirements.txt (line 6)) (1.17.2)\n",
            "Requirement already satisfied, skipping upgrade: tensorboard-plugin-wit>=1.6.0 in /usr/local/lib/python3.6/dist-packages (from tensorboard>=2.2.0->pytorch-lightning==1.0.8->-r /content/leaf-disease-classification-kaggle/requirements.txt (line 6)) (1.7.0)\n",
            "Requirement already satisfied, skipping upgrade: wheel>=0.26; python_version >= \"3\" in /usr/local/lib/python3.6/dist-packages (from tensorboard>=2.2.0->pytorch-lightning==1.0.8->-r /content/leaf-disease-classification-kaggle/requirements.txt (line 6)) (0.36.2)\n",
            "Requirement already satisfied, skipping upgrade: werkzeug>=0.11.15 in /usr/local/lib/python3.6/dist-packages (from tensorboard>=2.2.0->pytorch-lightning==1.0.8->-r /content/leaf-disease-classification-kaggle/requirements.txt (line 6)) (1.0.1)\n",
            "Requirement already satisfied, skipping upgrade: grpcio>=1.24.3 in /usr/local/lib/python3.6/dist-packages (from tensorboard>=2.2.0->pytorch-lightning==1.0.8->-r /content/leaf-disease-classification-kaggle/requirements.txt (line 6)) (1.32.0)\n",
            "Requirement already satisfied, skipping upgrade: markdown>=2.6.8 in /usr/local/lib/python3.6/dist-packages (from tensorboard>=2.2.0->pytorch-lightning==1.0.8->-r /content/leaf-disease-classification-kaggle/requirements.txt (line 6)) (3.3.3)\n",
            "Requirement already satisfied, skipping upgrade: certifi in /usr/local/lib/python3.6/dist-packages (from sentry-sdk>=0.4.0->wandb==0.10.11->-r /content/leaf-disease-classification-kaggle/requirements.txt (line 8)) (2020.12.5)\n",
            "Requirement already satisfied, skipping upgrade: urllib3>=1.10.0 in /usr/local/lib/python3.6/dist-packages (from sentry-sdk>=0.4.0->wandb==0.10.11->-r /content/leaf-disease-classification-kaggle/requirements.txt (line 8)) (1.24.3)\n",
            "Collecting gitdb<5,>=4.0.1\n",
            "\u001b[?25l  Downloading https://files.pythonhosted.org/packages/48/11/d1800bca0a3bae820b84b7d813ad1eff15a48a64caea9c823fc8c1b119e8/gitdb-4.0.5-py3-none-any.whl (63kB)\n",
            "\u001b[K     |████████████████████████████████| 71kB 11.8MB/s \n",
            "\u001b[?25hRequirement already satisfied, skipping upgrade: idna<3,>=2.5 in /usr/local/lib/python3.6/dist-packages (from requests<3,>=2.0.0->wandb==0.10.11->-r /content/leaf-disease-classification-kaggle/requirements.txt (line 8)) (2.10)\n",
            "Requirement already satisfied, skipping upgrade: chardet<4,>=3.0.2 in /usr/local/lib/python3.6/dist-packages (from requests<3,>=2.0.0->wandb==0.10.11->-r /content/leaf-disease-classification-kaggle/requirements.txt (line 8)) (3.0.4)\n",
            "Requirement already satisfied, skipping upgrade: pyparsing!=2.0.4,!=2.1.2,!=2.1.6,>=2.0.1 in /usr/local/lib/python3.6/dist-packages (from matplotlib->imgaug>=0.4.0->albumentations==0.5.2->-r /content/leaf-disease-classification-kaggle/requirements.txt (line 2)) (2.4.7)\n",
            "Requirement already satisfied, skipping upgrade: cycler>=0.10 in /usr/local/lib/python3.6/dist-packages (from matplotlib->imgaug>=0.4.0->albumentations==0.5.2->-r /content/leaf-disease-classification-kaggle/requirements.txt (line 2)) (0.10.0)\n",
            "Requirement already satisfied, skipping upgrade: kiwisolver>=1.0.1 in /usr/local/lib/python3.6/dist-packages (from matplotlib->imgaug>=0.4.0->albumentations==0.5.2->-r /content/leaf-disease-classification-kaggle/requirements.txt (line 2)) (1.3.1)\n",
            "Requirement already satisfied, skipping upgrade: decorator>=4.3.0 in /usr/local/lib/python3.6/dist-packages (from networkx>=2.0->scikit-image>=0.16.1->albumentations==0.5.2->-r /content/leaf-disease-classification-kaggle/requirements.txt (line 2)) (4.4.2)\n",
            "Requirement already satisfied, skipping upgrade: requests-oauthlib>=0.7.0 in /usr/local/lib/python3.6/dist-packages (from google-auth-oauthlib<0.5,>=0.4.1->tensorboard>=2.2.0->pytorch-lightning==1.0.8->-r /content/leaf-disease-classification-kaggle/requirements.txt (line 6)) (1.3.0)\n",
            "Requirement already satisfied, skipping upgrade: pyasn1-modules>=0.2.1 in /usr/local/lib/python3.6/dist-packages (from google-auth<2,>=1.6.3->tensorboard>=2.2.0->pytorch-lightning==1.0.8->-r /content/leaf-disease-classification-kaggle/requirements.txt (line 6)) (0.2.8)\n",
            "Requirement already satisfied, skipping upgrade: cachetools<5.0,>=2.0.0 in /usr/local/lib/python3.6/dist-packages (from google-auth<2,>=1.6.3->tensorboard>=2.2.0->pytorch-lightning==1.0.8->-r /content/leaf-disease-classification-kaggle/requirements.txt (line 6)) (4.2.0)\n",
            "Requirement already satisfied, skipping upgrade: rsa<5,>=3.1.4; python_version >= \"3\" in /usr/local/lib/python3.6/dist-packages (from google-auth<2,>=1.6.3->tensorboard>=2.2.0->pytorch-lightning==1.0.8->-r /content/leaf-disease-classification-kaggle/requirements.txt (line 6)) (4.6)\n",
            "Requirement already satisfied, skipping upgrade: importlib-metadata; python_version < \"3.8\" in /usr/local/lib/python3.6/dist-packages (from markdown>=2.6.8->tensorboard>=2.2.0->pytorch-lightning==1.0.8->-r /content/leaf-disease-classification-kaggle/requirements.txt (line 6)) (3.3.0)\n",
            "Collecting smmap<4,>=3.0.1\n",
            "  Downloading https://files.pythonhosted.org/packages/b0/9a/4d409a6234eb940e6a78dfdfc66156e7522262f5f2fecca07dc55915952d/smmap-3.0.4-py2.py3-none-any.whl\n",
            "Requirement already satisfied, skipping upgrade: oauthlib>=3.0.0 in /usr/local/lib/python3.6/dist-packages (from requests-oauthlib>=0.7.0->google-auth-oauthlib<0.5,>=0.4.1->tensorboard>=2.2.0->pytorch-lightning==1.0.8->-r /content/leaf-disease-classification-kaggle/requirements.txt (line 6)) (3.1.0)\n",
            "Requirement already satisfied, skipping upgrade: pyasn1<0.5.0,>=0.4.6 in /usr/local/lib/python3.6/dist-packages (from pyasn1-modules>=0.2.1->google-auth<2,>=1.6.3->tensorboard>=2.2.0->pytorch-lightning==1.0.8->-r /content/leaf-disease-classification-kaggle/requirements.txt (line 6)) (0.4.8)\n",
            "Building wheels for collected packages: pyyaml, antlr4-python3-runtime, future, subprocess32\n",
            "  Building wheel for pyyaml (setup.py) ... \u001b[?25l\u001b[?25hdone\n",
            "  Created wheel for pyyaml: filename=PyYAML-5.3.1-cp36-cp36m-linux_x86_64.whl size=44621 sha256=bab089d66a99bbdecbfd4b6fad8e1d6bfa77ceb9b9a1cd3de8627934cfa35a0c\n",
            "  Stored in directory: /root/.cache/pip/wheels/a7/c1/ea/cf5bd31012e735dc1dfea3131a2d5eae7978b251083d6247bd\n",
            "  Building wheel for antlr4-python3-runtime (setup.py) ... \u001b[?25l\u001b[?25hdone\n",
            "  Created wheel for antlr4-python3-runtime: filename=antlr4_python3_runtime-4.8-cp36-none-any.whl size=141231 sha256=bd797602760cdd6050427f4be361a9ff43dc502b4055f1ab374ab2b1e9e6d87f\n",
            "  Stored in directory: /root/.cache/pip/wheels/e3/e2/fa/b78480b448b8579ddf393bebd3f47ee23aa84c89b6a78285c8\n",
            "  Building wheel for future (setup.py) ... \u001b[?25l\u001b[?25hdone\n",
            "  Created wheel for future: filename=future-0.18.2-cp36-none-any.whl size=491057 sha256=c32d83f4517d190685851c236abbc083d4bed58175ba3aab311d91aac16aa635\n",
            "  Stored in directory: /root/.cache/pip/wheels/8b/99/a0/81daf51dcd359a9377b110a8a886b3895921802d2fc1b2397e\n",
            "  Building wheel for subprocess32 (setup.py) ... \u001b[?25l\u001b[?25hdone\n",
            "  Created wheel for subprocess32: filename=subprocess32-3.5.4-cp36-none-any.whl size=6490 sha256=048ab39f99ef8bbcba8e50453bff9a680a2f89a4f123f0a351c66d9a2d0e08da\n",
            "  Stored in directory: /root/.cache/pip/wheels/68/39/1a/5e402bdfdf004af1786c8b853fd92f8c4a04f22aad179654d1\n",
            "Successfully built pyyaml antlr4-python3-runtime future subprocess32\n",
            "Installing collected packages: pyyaml, imgaug, opencv-python-headless, albumentations, antlr4-python3-runtime, omegaconf, hydra-core, colorlog, hydra-colorlog, pandas, fsspec, future, pytorch-lightning, timm, sentry-sdk, shortuuid, subprocess32, docker-pycreds, configparser, smmap, gitdb, GitPython, watchdog, wandb\n",
            "  Found existing installation: PyYAML 3.13\n",
            "    Uninstalling PyYAML-3.13:\n",
            "      Successfully uninstalled PyYAML-3.13\n",
            "  Found existing installation: imgaug 0.2.9\n",
            "    Uninstalling imgaug-0.2.9:\n",
            "      Successfully uninstalled imgaug-0.2.9\n",
            "  Found existing installation: albumentations 0.1.12\n",
            "    Uninstalling albumentations-0.1.12:\n",
            "      Successfully uninstalled albumentations-0.1.12\n",
            "  Found existing installation: pandas 1.1.5\n",
            "    Uninstalling pandas-1.1.5:\n",
            "      Successfully uninstalled pandas-1.1.5\n",
            "  Found existing installation: future 0.16.0\n",
            "    Uninstalling future-0.16.0:\n",
            "      Successfully uninstalled future-0.16.0\n",
            "Successfully installed GitPython-3.1.11 albumentations-0.5.2 antlr4-python3-runtime-4.8 colorlog-4.6.2 configparser-5.0.1 docker-pycreds-0.4.0 fsspec-0.8.5 future-0.18.2 gitdb-4.0.5 hydra-colorlog-1.0.0 hydra-core-1.0.4 imgaug-0.4.0 omegaconf-2.0.5 opencv-python-headless-4.4.0.46 pandas-1.1.4 pytorch-lightning-1.0.8 pyyaml-5.3.1 sentry-sdk-0.19.5 shortuuid-1.0.1 smmap-3.0.4 subprocess32-3.5.4 timm-0.3.1 wandb-0.10.11 watchdog-1.0.2\n"
          ],
          "name": "stdout"
        },
        {
          "output_type": "display_data",
          "data": {
            "application/vnd.colab-display-data+json": {
              "pip_warning": {
                "packages": [
                  "pandas"
                ]
              }
            }
          },
          "metadata": {
            "tags": []
          }
        }
      ]
    },
    {
      "cell_type": "code",
      "metadata": {
        "id": "hps75wA7uZKx"
      },
      "source": [
        "!unzip -qq '/content/drive/MyDrive/cassava-leaf-disease-classification.zip'"
      ],
      "execution_count": 1,
      "outputs": []
    },
    {
      "cell_type": "code",
      "metadata": {
        "colab": {
          "base_uri": "https://localhost:8080/"
        },
        "id": "GgpNVT79u0CW",
        "outputId": "020950db-3a19-417b-ce66-bd3c15f6d58d"
      },
      "source": [
        "!wandb login a74f67fd5fae293e301ea8b6710ee0241f595a63"
      ],
      "execution_count": 2,
      "outputs": [
        {
          "output_type": "stream",
          "text": [
            "\u001b[34m\u001b[1mwandb\u001b[0m: Appending key for api.wandb.ai to your netrc file: /root/.netrc\n"
          ],
          "name": "stdout"
        }
      ]
    },
    {
      "cell_type": "code",
      "metadata": {
        "id": "vnLa3TRMvbOO"
      },
      "source": [
        "! git config --global user.email \"aburagohain160@gmail.com\"\n",
        "! git config --global user.name \"benihime91\""
      ],
      "execution_count": 3,
      "outputs": []
    },
    {
      "cell_type": "code",
      "metadata": {
        "id": "oRIbekS_ulG8"
      },
      "source": [
        "import sys\n",
        "import os\n",
        "\n",
        "sys.path.append(\"/content/leaf-disease-classification-kaggle\")\n",
        "os.chdir('/content/leaf-disease-classification-kaggle')"
      ],
      "execution_count": 4,
      "outputs": []
    },
    {
      "cell_type": "code",
      "metadata": {
        "colab": {
          "base_uri": "https://localhost:8080/"
        },
        "id": "UaIU9xmBvP5J",
        "outputId": "b413ed63-1482-4233-8a07-f16fbf80fab7"
      },
      "source": [
        "!python train.py --config-name 31-10-2020"
      ],
      "execution_count": null,
      "outputs": [
        {
          "output_type": "stream",
          "text": [
            "Downloading: \"https://github.com/rwightman/pytorch-image-models/releases/download/v0.1-weights/seresnext50_32x4d_racm-a304a460.pth\" to /root/.cache/torch/hub/checkpoints/seresnext50_32x4d_racm-a304a460.pth\n",
            "Mixmethod : SnapMix\n",
            "[\u001b[36m2020-12-31 15:47:04,570\u001b[0m][\u001b[34mlightning\u001b[0m][\u001b[32mINFO\u001b[0m] - Mixmethod : SnapMix\u001b[0m\n",
            "Loss Function : LabelSmoothingCrossEntropy()\n",
            "[\u001b[36m2020-12-31 15:47:04,570\u001b[0m][\u001b[34mlightning\u001b[0m][\u001b[32mINFO\u001b[0m] - Loss Function : LabelSmoothingCrossEntropy()\u001b[0m\n",
            "GPU available: True, used: True\n",
            "[\u001b[36m2020-12-31 15:47:05,125\u001b[0m][\u001b[34mlightning\u001b[0m][\u001b[32mINFO\u001b[0m] - GPU available: True, used: True\u001b[0m\n",
            "TPU available: False, using: 0 TPU cores\n",
            "[\u001b[36m2020-12-31 15:47:05,126\u001b[0m][\u001b[34mlightning\u001b[0m][\u001b[32mINFO\u001b[0m] - TPU available: False, using: 0 TPU cores\u001b[0m\n",
            "LOCAL_RANK: 0 - CUDA_VISIBLE_DEVICES: [0]\n",
            "[\u001b[36m2020-12-31 15:47:05,126\u001b[0m][\u001b[34mlightning\u001b[0m][\u001b[32mINFO\u001b[0m] - LOCAL_RANK: 0 - CUDA_VISIBLE_DEVICES: [0]\u001b[0m\n",
            "Using native 16bit precision.\n",
            "[\u001b[36m2020-12-31 15:47:05,128\u001b[0m][\u001b[34mlightning\u001b[0m][\u001b[32mINFO\u001b[0m] - Using native 16bit precision.\u001b[0m\n",
            "DATA: /content/cassava-leaf-disease-classification/train_images\n",
            "[\u001b[36m2020-12-31 15:47:05,130\u001b[0m][\u001b[34mlightning\u001b[0m][\u001b[32mINFO\u001b[0m] - DATA: /content/cassava-leaf-disease-classification/train_images\u001b[0m\n",
            "FOLD: 0  BATCH_SIZE: 32\n",
            "[\u001b[36m2020-12-31 15:47:05,130\u001b[0m][\u001b[34mlightning\u001b[0m][\u001b[32mINFO\u001b[0m] - FOLD: 0  BATCH_SIZE: 32\u001b[0m\n",
            "[\u001b[36m2020-12-31 15:47:05,140\u001b[0m][\u001b[34mnumexpr.utils\u001b[0m][\u001b[32mINFO\u001b[0m] - NumExpr defaulting to 2 threads.\u001b[0m\n",
            "Optimizer: Adam  LR's: (4e-05, 0.004)\n",
            "[\u001b[36m2020-12-31 15:47:15,536\u001b[0m][\u001b[34mlightning\u001b[0m][\u001b[32mINFO\u001b[0m] - Optimizer: Adam  LR's: (4e-05, 0.004)\u001b[0m\n",
            "LR Scheculer: GradualWarmupScheduler\n",
            "[\u001b[36m2020-12-31 15:47:15,537\u001b[0m][\u001b[34mlightning\u001b[0m][\u001b[32mINFO\u001b[0m] - LR Scheculer: GradualWarmupScheduler\u001b[0m\n",
            "\u001b[34m\u001b[1mwandb\u001b[0m: Currently logged in as: \u001b[33mayushman\u001b[0m (use `wandb login --relogin` to force relogin)\n",
            "\u001b[34m\u001b[1mwandb\u001b[0m: wandb version 0.10.12 is available!  To upgrade, please run:\n",
            "\u001b[34m\u001b[1mwandb\u001b[0m:  $ pip install wandb --upgrade\n",
            "\u001b[34m\u001b[1mwandb\u001b[0m: Tracking run with wandb version 0.10.11\n",
            "\u001b[34m\u001b[1mwandb\u001b[0m: Syncing run \u001b[33msuper-firefly-3\u001b[0m\n",
            "\u001b[34m\u001b[1mwandb\u001b[0m: ⭐️ View project at \u001b[34m\u001b[4mhttps://wandb.ai/ayushman/kaggle-leaf-disease-hydra-cli\u001b[0m\n",
            "\u001b[34m\u001b[1mwandb\u001b[0m: 🚀 View run at \u001b[34m\u001b[4mhttps://wandb.ai/ayushman/kaggle-leaf-disease-hydra-cli/runs/37r6nxsh\u001b[0m\n",
            "\u001b[34m\u001b[1mwandb\u001b[0m: Run data is saved locally in /content/leaf-disease-classification-kaggle/outputs/2020-12-31/15-47-00/wandb/run-20201231_154715-37r6nxsh\n",
            "\u001b[34m\u001b[1mwandb\u001b[0m: Run `wandb offline` to turn off syncing.\n",
            "\n",
            "Training: 0it [00:00, ?it/s]wandb config updated -->\n",
            "[\u001b[36m2020-12-31 15:47:17,272\u001b[0m][\u001b[34mlightning\u001b[0m][\u001b[32mINFO\u001b[0m] - wandb config updated -->\u001b[0m\n",
            "Epoch 0: 100%|██████████| 669/669 [17:44<00:00,  1.59s/it, loss=1.656, v_num=nxsh, valid/loss=1.01, valid/acc=0.669][\u001b[36m2020-12-31 16:05:02,447\u001b[0m][\u001b[34m__main__\u001b[0m][\u001b[32mINFO\u001b[0m] - Epoch: [0] eta: 0:17:45 loss: 1.4394 acc: 0.6897 valid_loss: 1.0075 valid_acc: 0.6687\u001b[0m\n",
            "Epoch 1:  39%|███▉      | 261/669 [07:47<12:10,  1.79s/it, loss=1.581, v_num=nxsh, valid/loss=1.01, valid/acc=0.669]"
          ],
          "name": "stdout"
        }
      ]
    },
    {
      "cell_type": "code",
      "metadata": {
        "id": "znoEwMwmkXL4"
      },
      "source": [
        ""
      ],
      "execution_count": null,
      "outputs": []
    }
  ]
}