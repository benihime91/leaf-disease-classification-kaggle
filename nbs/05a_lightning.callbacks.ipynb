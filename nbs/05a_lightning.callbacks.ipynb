{
 "cells": [
  {
   "cell_type": "code",
   "execution_count": null,
   "metadata": {},
   "outputs": [],
   "source": [
    "#default_exp lightning.callbacks"
   ]
  },
  {
   "cell_type": "code",
   "execution_count": null,
   "metadata": {},
   "outputs": [
    {
     "data": {
      "application/javascript": [
       "\n",
       "            setTimeout(function() {\n",
       "                var nbb_cell_id = 2;\n",
       "                var nbb_unformatted_code = \"%load_ext nb_black\";\n",
       "                var nbb_formatted_code = \"%load_ext nb_black\";\n",
       "                var nbb_cells = Jupyter.notebook.get_cells();\n",
       "                for (var i = 0; i < nbb_cells.length; ++i) {\n",
       "                    if (nbb_cells[i].input_prompt_number == nbb_cell_id) {\n",
       "                        if (nbb_cells[i].get_text() == nbb_unformatted_code) {\n",
       "                             nbb_cells[i].set_text(nbb_formatted_code);\n",
       "                        }\n",
       "                        break;\n",
       "                    }\n",
       "                }\n",
       "            }, 500);\n",
       "            "
      ],
      "text/plain": [
       "<IPython.core.display.Javascript object>"
      ]
     },
     "metadata": {},
     "output_type": "display_data"
    }
   ],
   "source": [
    "%load_ext nb_black"
   ]
  },
  {
   "cell_type": "code",
   "execution_count": null,
   "metadata": {},
   "outputs": [
    {
     "data": {
      "application/javascript": [
       "\n",
       "            setTimeout(function() {\n",
       "                var nbb_cell_id = 3;\n",
       "                var nbb_unformatted_code = \"# export\\nimport sys\\nimport time\\nimport datetime\\nimport logging\\nfrom collections import namedtuple\\nfrom tqdm.auto import tqdm\\n\\nimport wandb\\n\\nimport torch\\nimport pytorch_lightning as pl\\nfrom pytorch_lightning import _logger as log\\n\\nfrom src.lightning.core import *\\nfrom src.core import *\";\n",
       "                var nbb_formatted_code = \"# export\\nimport sys\\nimport time\\nimport datetime\\nimport logging\\nfrom collections import namedtuple\\nfrom tqdm.auto import tqdm\\n\\nimport wandb\\n\\nimport torch\\nimport pytorch_lightning as pl\\nfrom pytorch_lightning import _logger as log\\n\\nfrom src.lightning.core import *\\nfrom src.core import *\";\n",
       "                var nbb_cells = Jupyter.notebook.get_cells();\n",
       "                for (var i = 0; i < nbb_cells.length; ++i) {\n",
       "                    if (nbb_cells[i].input_prompt_number == nbb_cell_id) {\n",
       "                        if (nbb_cells[i].get_text() == nbb_unformatted_code) {\n",
       "                             nbb_cells[i].set_text(nbb_formatted_code);\n",
       "                        }\n",
       "                        break;\n",
       "                    }\n",
       "                }\n",
       "            }, 500);\n",
       "            "
      ],
      "text/plain": [
       "<IPython.core.display.Javascript object>"
      ]
     },
     "metadata": {},
     "output_type": "display_data"
    }
   ],
   "source": [
    "# export\n",
    "import sys\n",
    "import time\n",
    "import datetime\n",
    "import logging\n",
    "from collections import namedtuple\n",
    "from tqdm.auto import tqdm\n",
    "\n",
    "import wandb\n",
    "\n",
    "import torch\n",
    "import pytorch_lightning as pl\n",
    "from pytorch_lightning import _logger as log\n",
    "\n",
    "from src.lightning.core import *\n",
    "from src.core import *"
   ]
  },
  {
   "cell_type": "code",
   "execution_count": null,
   "metadata": {},
   "outputs": [
    {
     "data": {
      "application/javascript": [
       "\n",
       "            setTimeout(function() {\n",
       "                var nbb_cell_id = 4;\n",
       "                var nbb_unformatted_code = \"# export\\nlogger = logging.getLogger(__name__)\\nlogger.addHandler(logging.StreamHandler())\\nlogger.setLevel(logging.INFO)\";\n",
       "                var nbb_formatted_code = \"# export\\nlogger = logging.getLogger(__name__)\\nlogger.addHandler(logging.StreamHandler())\\nlogger.setLevel(logging.INFO)\";\n",
       "                var nbb_cells = Jupyter.notebook.get_cells();\n",
       "                for (var i = 0; i < nbb_cells.length; ++i) {\n",
       "                    if (nbb_cells[i].input_prompt_number == nbb_cell_id) {\n",
       "                        if (nbb_cells[i].get_text() == nbb_unformatted_code) {\n",
       "                             nbb_cells[i].set_text(nbb_formatted_code);\n",
       "                        }\n",
       "                        break;\n",
       "                    }\n",
       "                }\n",
       "            }, 500);\n",
       "            "
      ],
      "text/plain": [
       "<IPython.core.display.Javascript object>"
      ]
     },
     "metadata": {},
     "output_type": "display_data"
    }
   ],
   "source": [
    "# export\n",
    "logger = logging.getLogger(__name__)\n",
    "logger.addHandler(logging.StreamHandler())\n",
    "logger.setLevel(logging.INFO)"
   ]
  },
  {
   "cell_type": "code",
   "execution_count": null,
   "metadata": {},
   "outputs": [
    {
     "data": {
      "application/javascript": [
       "\n",
       "            setTimeout(function() {\n",
       "                var nbb_cell_id = 5;\n",
       "                var nbb_unformatted_code = \"# export\\nclass WandbImageClassificationCallback(pl.Callback):\\n    \\\"\\\"\\\" Custom callback to add some extra functionalites to the wandb logger \\\"\\\"\\\"\\n\\n    def __init__(\\n        self,\\n        num_batches: int = 16,\\n        log_train_batch: bool = False,\\n        log_preds: bool = False,\\n        log_conf_mat: bool = True,\\n    ):\\n\\n        # class names for the confusion matrix\\n        self.class_names = list(conf_mat_idx2lbl.values())\\n\\n        # counter to log training batch images\\n        self.num_bs = num_batches\\n        self.curr_epoch = 0\\n\\n        self.log_train_batch = log_train_batch\\n        self.log_preds = log_preds\\n        self.log_conf_mat = log_conf_mat\\n\\n        self.val_imgs, self.val_labels = None, None\\n\\n    def on_train_start(self, trainer, pl_module, *args, **kwargs):\\n        try:\\n            # log model to the wandb experiment\\n            wandb.watch(models=pl_module.model, criterion=pl_module.loss_func)\\n        except:\\n            logger.info(\\\"Skipping wandb.watch --->\\\")\\n\\n    def on_train_epoch_end(self, trainer, pl_module, *args, **kwargs):\\n        if self.log_train_batch:\\n            if pl_module.one_batch is None:\\n                logger.info(\\n                    f\\\"{self.config_defaults['mixmethod']} samples not available . Skipping --->\\\"\\n                )\\n                pass\\n\\n            else:\\n                one_batch = pl_module.one_batch[: self.num_bs]\\n                train_ims = one_batch.data.to(\\\"cpu\\\")\\n                trainer.logger.experiment.log(\\n                    {\\\"train_batch\\\": [wandb.Image(x) for x in train_ims]}, commit=False\\n                )\\n\\n    def on_validation_epoch_end(self, trainer, pl_module, *args, **kwargs):\\n        if self.log_preds:\\n            if self.val_imgs is None and self.val_labels is None:\\n                self.val_imgs, self.val_labels = next(iter(pl_module.val_dataloader()))\\n                self.val_imgs, self.val_labels = (\\n                    self.val_imgs[: self.num_bs],\\n                    self.val_labels[: self.num_bs],\\n                )\\n                self.val_imgs = self.val_imgs.to(device=pl_module.device)\\n\\n            logits = pl_module(self.val_imgs)\\n            preds = torch.argmax(logits, 1)\\n            preds = preds.data.cpu()\\n\\n            ims = [\\n                wandb.Image(x, caption=f\\\"Pred:{pred}, Label:{y}\\\")\\n                for x, pred, y in zip(self.val_imgs, preds, self.val_labels)\\n            ]\\n            log_dict = {\\\"predictions\\\": ims}\\n            wandb.log(ims, commit=False)\\n\\n    def on_epoch_start(self, trainer, pl_module, *args, **kwargs):\\n        pl_module.val_labels_list = []\\n        pl_module.val_preds_list = []\\n\\n    def on_epoch_end(self, trainer, pl_module, *args, **kwargs):\\n        if self.log_conf_mat:\\n            val_preds = torch.tensor(pl_module.val_preds_list).data.cpu().numpy()\\n            val_labels = torch.tensor(pl_module.val_labels_list).data.cpu().numpy()\\n            log_dict = {\\n                \\\"conf_mat\\\": wandb.plot.confusion_matrix(\\n                    val_preds, val_labels, self.class_names\\n                )\\n            }\\n            wandb.log(log_dict, commit=False)\";\n",
       "                var nbb_formatted_code = \"# export\\nclass WandbImageClassificationCallback(pl.Callback):\\n    \\\"\\\"\\\" Custom callback to add some extra functionalites to the wandb logger \\\"\\\"\\\"\\n\\n    def __init__(\\n        self,\\n        num_batches: int = 16,\\n        log_train_batch: bool = False,\\n        log_preds: bool = False,\\n        log_conf_mat: bool = True,\\n    ):\\n\\n        # class names for the confusion matrix\\n        self.class_names = list(conf_mat_idx2lbl.values())\\n\\n        # counter to log training batch images\\n        self.num_bs = num_batches\\n        self.curr_epoch = 0\\n\\n        self.log_train_batch = log_train_batch\\n        self.log_preds = log_preds\\n        self.log_conf_mat = log_conf_mat\\n\\n        self.val_imgs, self.val_labels = None, None\\n\\n    def on_train_start(self, trainer, pl_module, *args, **kwargs):\\n        try:\\n            # log model to the wandb experiment\\n            wandb.watch(models=pl_module.model, criterion=pl_module.loss_func)\\n        except:\\n            logger.info(\\\"Skipping wandb.watch --->\\\")\\n\\n    def on_train_epoch_end(self, trainer, pl_module, *args, **kwargs):\\n        if self.log_train_batch:\\n            if pl_module.one_batch is None:\\n                logger.info(\\n                    f\\\"{self.config_defaults['mixmethod']} samples not available . Skipping --->\\\"\\n                )\\n                pass\\n\\n            else:\\n                one_batch = pl_module.one_batch[: self.num_bs]\\n                train_ims = one_batch.data.to(\\\"cpu\\\")\\n                trainer.logger.experiment.log(\\n                    {\\\"train_batch\\\": [wandb.Image(x) for x in train_ims]}, commit=False\\n                )\\n\\n    def on_validation_epoch_end(self, trainer, pl_module, *args, **kwargs):\\n        if self.log_preds:\\n            if self.val_imgs is None and self.val_labels is None:\\n                self.val_imgs, self.val_labels = next(iter(pl_module.val_dataloader()))\\n                self.val_imgs, self.val_labels = (\\n                    self.val_imgs[: self.num_bs],\\n                    self.val_labels[: self.num_bs],\\n                )\\n                self.val_imgs = self.val_imgs.to(device=pl_module.device)\\n\\n            logits = pl_module(self.val_imgs)\\n            preds = torch.argmax(logits, 1)\\n            preds = preds.data.cpu()\\n\\n            ims = [\\n                wandb.Image(x, caption=f\\\"Pred:{pred}, Label:{y}\\\")\\n                for x, pred, y in zip(self.val_imgs, preds, self.val_labels)\\n            ]\\n            log_dict = {\\\"predictions\\\": ims}\\n            wandb.log(ims, commit=False)\\n\\n    def on_epoch_start(self, trainer, pl_module, *args, **kwargs):\\n        pl_module.val_labels_list = []\\n        pl_module.val_preds_list = []\\n\\n    def on_epoch_end(self, trainer, pl_module, *args, **kwargs):\\n        if self.log_conf_mat:\\n            val_preds = torch.tensor(pl_module.val_preds_list).data.cpu().numpy()\\n            val_labels = torch.tensor(pl_module.val_labels_list).data.cpu().numpy()\\n            log_dict = {\\n                \\\"conf_mat\\\": wandb.plot.confusion_matrix(\\n                    val_preds, val_labels, self.class_names\\n                )\\n            }\\n            wandb.log(log_dict, commit=False)\";\n",
       "                var nbb_cells = Jupyter.notebook.get_cells();\n",
       "                for (var i = 0; i < nbb_cells.length; ++i) {\n",
       "                    if (nbb_cells[i].input_prompt_number == nbb_cell_id) {\n",
       "                        if (nbb_cells[i].get_text() == nbb_unformatted_code) {\n",
       "                             nbb_cells[i].set_text(nbb_formatted_code);\n",
       "                        }\n",
       "                        break;\n",
       "                    }\n",
       "                }\n",
       "            }, 500);\n",
       "            "
      ],
      "text/plain": [
       "<IPython.core.display.Javascript object>"
      ]
     },
     "metadata": {},
     "output_type": "display_data"
    }
   ],
   "source": [
    "# export\n",
    "class WandbImageClassificationCallback(pl.Callback):\n",
    "    \"\"\" Custom callback to add some extra functionalites to the wandb logger \"\"\"\n",
    "\n",
    "    def __init__(\n",
    "        self,\n",
    "        num_batches: int = 16,\n",
    "        log_train_batch: bool = False,\n",
    "        log_preds: bool = False,\n",
    "        log_conf_mat: bool = True,\n",
    "    ):\n",
    "\n",
    "        # class names for the confusion matrix\n",
    "        self.class_names = list(conf_mat_idx2lbl.values())\n",
    "\n",
    "        # counter to log training batch images\n",
    "        self.num_bs = num_batches\n",
    "        self.curr_epoch = 0\n",
    "\n",
    "        self.log_train_batch = log_train_batch\n",
    "        self.log_preds = log_preds\n",
    "        self.log_conf_mat = log_conf_mat\n",
    "\n",
    "        self.val_imgs, self.val_labels = None, None\n",
    "\n",
    "    def on_train_start(self, trainer, pl_module, *args, **kwargs):\n",
    "        try:\n",
    "            # log model to the wandb experiment\n",
    "            wandb.watch(models=pl_module.model, criterion=pl_module.loss_func)\n",
    "        except:\n",
    "            logger.info(\"Skipping wandb.watch --->\")\n",
    "\n",
    "    def on_train_epoch_end(self, trainer, pl_module, *args, **kwargs):\n",
    "        if self.log_train_batch:\n",
    "            if pl_module.one_batch is None:\n",
    "                logger.info(\n",
    "                    f\"{self.config_defaults['mixmethod']} samples not available . Skipping --->\"\n",
    "                )\n",
    "                pass\n",
    "\n",
    "            else:\n",
    "                one_batch = pl_module.one_batch[: self.num_bs]\n",
    "                train_ims = one_batch.data.to(\"cpu\")\n",
    "                trainer.logger.experiment.log(\n",
    "                    {\"train_batch\": [wandb.Image(x) for x in train_ims]}, commit=False\n",
    "                )\n",
    "\n",
    "    def on_validation_epoch_end(self, trainer, pl_module, *args, **kwargs):\n",
    "        if self.log_preds:\n",
    "            if self.val_imgs is None and self.val_labels is None:\n",
    "                self.val_imgs, self.val_labels = next(iter(pl_module.val_dataloader()))\n",
    "                self.val_imgs, self.val_labels = (\n",
    "                    self.val_imgs[: self.num_bs],\n",
    "                    self.val_labels[: self.num_bs],\n",
    "                )\n",
    "                self.val_imgs = self.val_imgs.to(device=pl_module.device)\n",
    "\n",
    "            logits = pl_module(self.val_imgs)\n",
    "            preds = torch.argmax(logits, 1)\n",
    "            preds = preds.data.cpu()\n",
    "\n",
    "            ims = [\n",
    "                wandb.Image(x, caption=f\"Pred:{pred}, Label:{y}\")\n",
    "                for x, pred, y in zip(self.val_imgs, preds, self.val_labels)\n",
    "            ]\n",
    "            log_dict = {\"predictions\": ims}\n",
    "            wandb.log(ims, commit=False)\n",
    "\n",
    "    def on_epoch_start(self, trainer, pl_module, *args, **kwargs):\n",
    "        pl_module.val_labels_list = []\n",
    "        pl_module.val_preds_list = []\n",
    "\n",
    "    def on_epoch_end(self, trainer, pl_module, *args, **kwargs):\n",
    "        if self.log_conf_mat:\n",
    "            val_preds = torch.tensor(pl_module.val_preds_list).data.cpu().numpy()\n",
    "            val_labels = torch.tensor(pl_module.val_labels_list).data.cpu().numpy()\n",
    "            log_dict = {\n",
    "                \"conf_mat\": wandb.plot.confusion_matrix(\n",
    "                    val_preds, val_labels, self.class_names\n",
    "                )\n",
    "            }\n",
    "            wandb.log(log_dict, commit=False)"
   ]
  },
  {
   "cell_type": "code",
   "execution_count": null,
   "metadata": {},
   "outputs": [
    {
     "data": {
      "application/javascript": [
       "\n",
       "            setTimeout(function() {\n",
       "                var nbb_cell_id = 6;\n",
       "                var nbb_unformatted_code = \"# export\\nclass LitProgressBar(pl.callbacks.ProgressBar):\\n    \\\"Custom Progressbar callback for Lightning Training\\\"\\n\\n    def init_sanity_tqdm(self) -> tqdm:\\n        \\\"\\\"\\\" Override this to customize the tqdm bar for the validation sanity run. \\\"\\\"\\\"\\n        bar = tqdm(\\n            desc=\\\"Validation sanity check\\\",\\n            position=(2 * self.process_position),\\n            disable=self.is_disabled,\\n            dynamic_ncols=True,\\n        )\\n\\n        return bar\\n\\n    def init_train_tqdm(self) -> tqdm:\\n        \\\"\\\"\\\" Override this to customize the tqdm bar for training. \\\"\\\"\\\"\\n        bar = tqdm(\\n            desc=\\\"Training\\\",\\n            initial=self.train_batch_idx,\\n            position=(2 * self.process_position),\\n            disable=self.is_disabled,\\n            dynamic_ncols=True,\\n        )\\n\\n        return bar\\n\\n    def init_validation_tqdm(self) -> tqdm:\\n        \\\"\\\"\\\" Override this to customize the tqdm bar for validation. \\\"\\\"\\\"\\n        bar = tqdm(\\n            desc=\\\"Validating\\\",\\n            position=(2 * self.process_position + 1),\\n            disable=True,\\n            dynamic_ncols=False,\\n        )\\n\\n        return bar\\n\\n    def init_test_tqdm(self) -> tqdm:\\n        \\\"\\\"\\\" Override this to customize the tqdm bar for testing. \\\"\\\"\\\"\\n        bar = tqdm(\\n            desc=\\\"Testing\\\",\\n            position=(2 * self.process_position),\\n            disable=self.is_disabled,\\n            dynamic_ncols=True,\\n        )\\n\\n        return bar\";\n",
       "                var nbb_formatted_code = \"# export\\nclass LitProgressBar(pl.callbacks.ProgressBar):\\n    \\\"Custom Progressbar callback for Lightning Training\\\"\\n\\n    def init_sanity_tqdm(self) -> tqdm:\\n        \\\"\\\"\\\" Override this to customize the tqdm bar for the validation sanity run. \\\"\\\"\\\"\\n        bar = tqdm(\\n            desc=\\\"Validation sanity check\\\",\\n            position=(2 * self.process_position),\\n            disable=self.is_disabled,\\n            dynamic_ncols=True,\\n        )\\n\\n        return bar\\n\\n    def init_train_tqdm(self) -> tqdm:\\n        \\\"\\\"\\\" Override this to customize the tqdm bar for training. \\\"\\\"\\\"\\n        bar = tqdm(\\n            desc=\\\"Training\\\",\\n            initial=self.train_batch_idx,\\n            position=(2 * self.process_position),\\n            disable=self.is_disabled,\\n            dynamic_ncols=True,\\n        )\\n\\n        return bar\\n\\n    def init_validation_tqdm(self) -> tqdm:\\n        \\\"\\\"\\\" Override this to customize the tqdm bar for validation. \\\"\\\"\\\"\\n        bar = tqdm(\\n            desc=\\\"Validating\\\",\\n            position=(2 * self.process_position + 1),\\n            disable=True,\\n            dynamic_ncols=False,\\n        )\\n\\n        return bar\\n\\n    def init_test_tqdm(self) -> tqdm:\\n        \\\"\\\"\\\" Override this to customize the tqdm bar for testing. \\\"\\\"\\\"\\n        bar = tqdm(\\n            desc=\\\"Testing\\\",\\n            position=(2 * self.process_position),\\n            disable=self.is_disabled,\\n            dynamic_ncols=True,\\n        )\\n\\n        return bar\";\n",
       "                var nbb_cells = Jupyter.notebook.get_cells();\n",
       "                for (var i = 0; i < nbb_cells.length; ++i) {\n",
       "                    if (nbb_cells[i].input_prompt_number == nbb_cell_id) {\n",
       "                        if (nbb_cells[i].get_text() == nbb_unformatted_code) {\n",
       "                             nbb_cells[i].set_text(nbb_formatted_code);\n",
       "                        }\n",
       "                        break;\n",
       "                    }\n",
       "                }\n",
       "            }, 500);\n",
       "            "
      ],
      "text/plain": [
       "<IPython.core.display.Javascript object>"
      ]
     },
     "metadata": {},
     "output_type": "display_data"
    }
   ],
   "source": [
    "# export\n",
    "class LitProgressBar(pl.callbacks.ProgressBar):\n",
    "    \"Custom Progressbar callback for Lightning Training\"\n",
    "\n",
    "    def init_sanity_tqdm(self) -> tqdm:\n",
    "        \"\"\" Override this to customize the tqdm bar for the validation sanity run. \"\"\"\n",
    "        bar = tqdm(\n",
    "            desc=\"Validation sanity check\",\n",
    "            position=(2 * self.process_position),\n",
    "            disable=self.is_disabled,\n",
    "            dynamic_ncols=True,\n",
    "        )\n",
    "\n",
    "        return bar\n",
    "\n",
    "    def init_train_tqdm(self) -> tqdm:\n",
    "        \"\"\" Override this to customize the tqdm bar for training. \"\"\"\n",
    "        bar = tqdm(\n",
    "            desc=\"Training\",\n",
    "            initial=self.train_batch_idx,\n",
    "            position=(2 * self.process_position),\n",
    "            disable=self.is_disabled,\n",
    "            dynamic_ncols=True,\n",
    "        )\n",
    "\n",
    "        return bar\n",
    "\n",
    "    def init_validation_tqdm(self) -> tqdm:\n",
    "        \"\"\" Override this to customize the tqdm bar for validation. \"\"\"\n",
    "        bar = tqdm(\n",
    "            desc=\"Validating\",\n",
    "            position=(2 * self.process_position + 1),\n",
    "            disable=True,\n",
    "            dynamic_ncols=False,\n",
    "        )\n",
    "\n",
    "        return bar\n",
    "\n",
    "    def init_test_tqdm(self) -> tqdm:\n",
    "        \"\"\" Override this to customize the tqdm bar for testing. \"\"\"\n",
    "        bar = tqdm(\n",
    "            desc=\"Testing\",\n",
    "            position=(2 * self.process_position),\n",
    "            disable=self.is_disabled,\n",
    "            dynamic_ncols=True,\n",
    "        )\n",
    "\n",
    "        return bar"
   ]
  },
  {
   "cell_type": "code",
   "execution_count": null,
   "metadata": {},
   "outputs": [
    {
     "data": {
      "application/javascript": [
       "\n",
       "            setTimeout(function() {\n",
       "                var nbb_cell_id = 7;\n",
       "                var nbb_unformatted_code = \"# export\\nclass PrintLogsCallback(pl.Callback):\\n    \\\"Logs Training logs to console after every epoch\\\"\\n\\n    def __init__(self):\\n        self.TestResult = namedtuple(\\\"TestResult\\\", [\\\"test_loss\\\", \\\"test_acc\\\"])\\n        self.TrainResult = namedtuple(\\n            \\\"TrainResult\\\", [\\\"loss\\\", \\\"acc\\\", \\\"valid_loss\\\", \\\"valid_acc\\\"]\\n        )\\n        self.logger = logger\\n\\n    def on_epoch_end(self, trainer, pl_module):\\n        metrics = trainer.callback_metrics\\n        train_loss = metrics[\\\"train/loss_epoch\\\"]\\n        train_acc = metrics[\\\"train/acc_epoch\\\"]\\n        valid_loss = metrics[\\\"valid/loss\\\"]\\n        valid_acc = metrics[\\\"valid/acc\\\"]\\n        trn_res = self.TrainResult(\\n            round(train_loss.data.cpu().numpy().item(), 2),\\n            round(train_acc.data.cpu().numpy().item(), 2),\\n            round(valid_loss.data.cpu().numpy().item(), 2),\\n            round(valid_acc.data.cpu().numpy().item(), 2),\\n        )\\n\\n        curr_epoch = int(trainer.current_epoch)\\n        self.logger.info(f\\\"[{curr_epoch}]: (100.00% done), {trn_res}\\\")\\n\\n    def on_test_epoch_end(self, trainer, pl_module, *args, **kwargs):\\n        metrics = trainer.callback_metrics\\n        test_loss = metrics[\\\"test/loss\\\"]\\n        test_acc = metrics[\\\"test/acc\\\"]\\n        self.logger.info(\\n            f\\\"{self.TestResult(round(test_loss.data.cpu().numpy().item(), 2), round(test_acc.data.cpu().numpy().item(), 2))}\\\"\\n        )\";\n",
       "                var nbb_formatted_code = \"# export\\nclass PrintLogsCallback(pl.Callback):\\n    \\\"Logs Training logs to console after every epoch\\\"\\n\\n    def __init__(self):\\n        self.TestResult = namedtuple(\\\"TestResult\\\", [\\\"test_loss\\\", \\\"test_acc\\\"])\\n        self.TrainResult = namedtuple(\\n            \\\"TrainResult\\\", [\\\"loss\\\", \\\"acc\\\", \\\"valid_loss\\\", \\\"valid_acc\\\"]\\n        )\\n        self.logger = logger\\n\\n    def on_epoch_end(self, trainer, pl_module):\\n        metrics = trainer.callback_metrics\\n        train_loss = metrics[\\\"train/loss_epoch\\\"]\\n        train_acc = metrics[\\\"train/acc_epoch\\\"]\\n        valid_loss = metrics[\\\"valid/loss\\\"]\\n        valid_acc = metrics[\\\"valid/acc\\\"]\\n        trn_res = self.TrainResult(\\n            round(train_loss.data.cpu().numpy().item(), 2),\\n            round(train_acc.data.cpu().numpy().item(), 2),\\n            round(valid_loss.data.cpu().numpy().item(), 2),\\n            round(valid_acc.data.cpu().numpy().item(), 2),\\n        )\\n\\n        curr_epoch = int(trainer.current_epoch)\\n        self.logger.info(f\\\"[{curr_epoch}]: (100.00% done), {trn_res}\\\")\\n\\n    def on_test_epoch_end(self, trainer, pl_module, *args, **kwargs):\\n        metrics = trainer.callback_metrics\\n        test_loss = metrics[\\\"test/loss\\\"]\\n        test_acc = metrics[\\\"test/acc\\\"]\\n        self.logger.info(\\n            f\\\"{self.TestResult(round(test_loss.data.cpu().numpy().item(), 2), round(test_acc.data.cpu().numpy().item(), 2))}\\\"\\n        )\";\n",
       "                var nbb_cells = Jupyter.notebook.get_cells();\n",
       "                for (var i = 0; i < nbb_cells.length; ++i) {\n",
       "                    if (nbb_cells[i].input_prompt_number == nbb_cell_id) {\n",
       "                        if (nbb_cells[i].get_text() == nbb_unformatted_code) {\n",
       "                             nbb_cells[i].set_text(nbb_formatted_code);\n",
       "                        }\n",
       "                        break;\n",
       "                    }\n",
       "                }\n",
       "            }, 500);\n",
       "            "
      ],
      "text/plain": [
       "<IPython.core.display.Javascript object>"
      ]
     },
     "metadata": {},
     "output_type": "display_data"
    }
   ],
   "source": [
    "# export\n",
    "class PrintLogsCallback(pl.Callback):\n",
    "    \"Logs Training logs to console after every epoch\"\n",
    "\n",
    "    def __init__(self):\n",
    "        self.TestResult = namedtuple(\"TestResult\", [\"test_loss\", \"test_acc\"])\n",
    "        self.TrainResult = namedtuple(\n",
    "            \"TrainResult\", [\"loss\", \"acc\", \"valid_loss\", \"valid_acc\"]\n",
    "        )\n",
    "        self.logger = logger\n",
    "\n",
    "    def on_epoch_end(self, trainer, pl_module):\n",
    "        metrics = trainer.callback_metrics\n",
    "        train_loss = metrics[\"train/loss_epoch\"]\n",
    "        train_acc = metrics[\"train/acc_epoch\"]\n",
    "        valid_loss = metrics[\"valid/loss\"]\n",
    "        valid_acc = metrics[\"valid/acc\"]\n",
    "        trn_res = self.TrainResult(\n",
    "            round(train_loss.data.cpu().numpy().item(), 2),\n",
    "            round(train_acc.data.cpu().numpy().item(), 2),\n",
    "            round(valid_loss.data.cpu().numpy().item(), 2),\n",
    "            round(valid_acc.data.cpu().numpy().item(), 2),\n",
    "        )\n",
    "\n",
    "        curr_epoch = int(trainer.current_epoch)\n",
    "        self.logger.info(f\"[{curr_epoch}]: (100.00% done), {trn_res}\")\n",
    "\n",
    "    def on_test_epoch_end(self, trainer, pl_module, *args, **kwargs):\n",
    "        metrics = trainer.callback_metrics\n",
    "        test_loss = metrics[\"test/loss\"]\n",
    "        test_acc = metrics[\"test/acc\"]\n",
    "        self.logger.info(\n",
    "            f\"{self.TestResult(round(test_loss.data.cpu().numpy().item(), 2), round(test_acc.data.cpu().numpy().item(), 2))}\"\n",
    "        )"
   ]
  },
  {
   "cell_type": "code",
   "execution_count": null,
   "metadata": {},
   "outputs": [
    {
     "data": {
      "application/javascript": [
       "\n",
       "            setTimeout(function() {\n",
       "                var nbb_cell_id = 8;\n",
       "                var nbb_unformatted_code = \"import albumentations as A\\nfrom albumentations.pytorch import ToTensorV2\\nimport timm\\nfrom torch import nn\\nfrom src.networks import *\\nfrom omegaconf import OmegaConf\";\n",
       "                var nbb_formatted_code = \"import albumentations as A\\nfrom albumentations.pytorch import ToTensorV2\\nimport timm\\nfrom torch import nn\\nfrom src.networks import *\\nfrom omegaconf import OmegaConf\";\n",
       "                var nbb_cells = Jupyter.notebook.get_cells();\n",
       "                for (var i = 0; i < nbb_cells.length; ++i) {\n",
       "                    if (nbb_cells[i].input_prompt_number == nbb_cell_id) {\n",
       "                        if (nbb_cells[i].get_text() == nbb_unformatted_code) {\n",
       "                             nbb_cells[i].set_text(nbb_formatted_code);\n",
       "                        }\n",
       "                        break;\n",
       "                    }\n",
       "                }\n",
       "            }, 500);\n",
       "            "
      ],
      "text/plain": [
       "<IPython.core.display.Javascript object>"
      ]
     },
     "metadata": {},
     "output_type": "display_data"
    }
   ],
   "source": [
    "import albumentations as A\n",
    "from albumentations.pytorch import ToTensorV2\n",
    "import timm\n",
    "from torch import nn\n",
    "from src.networks import *\n",
    "from omegaconf import OmegaConf"
   ]
  },
  {
   "cell_type": "code",
   "execution_count": null,
   "metadata": {},
   "outputs": [
    {
     "name": "stderr",
     "output_type": "stream",
     "text": [
      "Loss Function : LabelSmoothingCrossEntropy()\n"
     ]
    },
    {
     "data": {
      "application/javascript": [
       "\n",
       "            setTimeout(function() {\n",
       "                var nbb_cell_id = 9;\n",
       "                var nbb_unformatted_code = \"train_augs = A.Compose(\\n    [\\n        A.RandomResizedCrop(224, 224, p=1.0),\\n        A.RandomBrightness(limit=0.1),\\n        A.HueSaturationValue(20, 20, 20),\\n        A.HorizontalFlip(),\\n        A.Normalize(p=1.0),\\n        ToTensorV2(p=1.0),\\n    ]\\n)\\n\\nvalid_augs = A.Compose(\\n    [A.Resize(224, 224, p=1.0), A.Normalize(p=1.0), ToTensorV2(p=1.0)]\\n)\\n\\ncsv = \\\"../../leaf-disease-classification-kaggle/data/stratified-data-5folds.csv\\\"\\nims = \\\"../../Datasets/cassava/train_images/\\\"\\ndm = CassavaLightningDataModule(\\n    csv,\\n    ims,\\n    curr_fold=0,\\n    train_augs=train_augs,\\n    valid_augs=valid_augs,\\n    bs=8,\\n    num_workers=0,\\n)\\n\\n\\nmodel_hparams = dict(\\n    mixmethod=None,\\n    loss=dict(_target_=\\\"src.losses.LabelSmoothingCrossEntropy\\\", eps=0.1),\\n    learning_rate=1e-03,\\n    lr_mult=100,\\n    optimizer=dict(_target_=\\\"torch.optim.Adam\\\"),\\n    scheduler=dict(\\n        function=dict(_target_=\\\"src.opts.FlatCos\\\", num_epochs=10, pct_start=0.7),\\n        metric_to_track=None,\\n        scheduler_interval=\\\"step\\\",\\n    ),\\n)\\n\\ncfg = OmegaConf.create(model_hparams)\\n\\n\\nencoder = timm.create_model(\\\"resnet18\\\", pretrained=False)\\nmodel = TransferLearningModel(encoder, cut=-2, c=5, act=nn.ReLU(inplace=True))\\nmodel = LightningCassava(model=model, conf=cfg)\";\n",
       "                var nbb_formatted_code = \"train_augs = A.Compose(\\n    [\\n        A.RandomResizedCrop(224, 224, p=1.0),\\n        A.RandomBrightness(limit=0.1),\\n        A.HueSaturationValue(20, 20, 20),\\n        A.HorizontalFlip(),\\n        A.Normalize(p=1.0),\\n        ToTensorV2(p=1.0),\\n    ]\\n)\\n\\nvalid_augs = A.Compose(\\n    [A.Resize(224, 224, p=1.0), A.Normalize(p=1.0), ToTensorV2(p=1.0)]\\n)\\n\\ncsv = \\\"../../leaf-disease-classification-kaggle/data/stratified-data-5folds.csv\\\"\\nims = \\\"../../Datasets/cassava/train_images/\\\"\\ndm = CassavaLightningDataModule(\\n    csv,\\n    ims,\\n    curr_fold=0,\\n    train_augs=train_augs,\\n    valid_augs=valid_augs,\\n    bs=8,\\n    num_workers=0,\\n)\\n\\n\\nmodel_hparams = dict(\\n    mixmethod=None,\\n    loss=dict(_target_=\\\"src.losses.LabelSmoothingCrossEntropy\\\", eps=0.1),\\n    learning_rate=1e-03,\\n    lr_mult=100,\\n    optimizer=dict(_target_=\\\"torch.optim.Adam\\\"),\\n    scheduler=dict(\\n        function=dict(_target_=\\\"src.opts.FlatCos\\\", num_epochs=10, pct_start=0.7),\\n        metric_to_track=None,\\n        scheduler_interval=\\\"step\\\",\\n    ),\\n)\\n\\ncfg = OmegaConf.create(model_hparams)\\n\\n\\nencoder = timm.create_model(\\\"resnet18\\\", pretrained=False)\\nmodel = TransferLearningModel(encoder, cut=-2, c=5, act=nn.ReLU(inplace=True))\\nmodel = LightningCassava(model=model, conf=cfg)\";\n",
       "                var nbb_cells = Jupyter.notebook.get_cells();\n",
       "                for (var i = 0; i < nbb_cells.length; ++i) {\n",
       "                    if (nbb_cells[i].input_prompt_number == nbb_cell_id) {\n",
       "                        if (nbb_cells[i].get_text() == nbb_unformatted_code) {\n",
       "                             nbb_cells[i].set_text(nbb_formatted_code);\n",
       "                        }\n",
       "                        break;\n",
       "                    }\n",
       "                }\n",
       "            }, 500);\n",
       "            "
      ],
      "text/plain": [
       "<IPython.core.display.Javascript object>"
      ]
     },
     "metadata": {},
     "output_type": "display_data"
    }
   ],
   "source": [
    "train_augs = A.Compose(\n",
    "    [\n",
    "        A.RandomResizedCrop(224, 224, p=1.0),\n",
    "        A.RandomBrightness(limit=0.1),\n",
    "        A.HueSaturationValue(20, 20, 20),\n",
    "        A.HorizontalFlip(),\n",
    "        A.Normalize(p=1.0),\n",
    "        ToTensorV2(p=1.0),\n",
    "    ]\n",
    ")\n",
    "\n",
    "valid_augs = A.Compose(\n",
    "    [A.Resize(224, 224, p=1.0), A.Normalize(p=1.0), ToTensorV2(p=1.0)]\n",
    ")\n",
    "\n",
    "csv = \"../../leaf-disease-classification-kaggle/data/stratified-data-5folds.csv\"\n",
    "ims = \"../../Datasets/cassava/train_images/\"\n",
    "dm = CassavaLightningDataModule(\n",
    "    csv,\n",
    "    ims,\n",
    "    curr_fold=0,\n",
    "    train_augs=train_augs,\n",
    "    valid_augs=valid_augs,\n",
    "    bs=8,\n",
    "    num_workers=0,\n",
    ")\n",
    "\n",
    "\n",
    "model_hparams = dict(\n",
    "    mixmethod=None,\n",
    "    loss=dict(_target_=\"src.losses.LabelSmoothingCrossEntropy\", eps=0.1),\n",
    "    learning_rate=1e-03,\n",
    "    lr_mult=100,\n",
    "    optimizer=dict(_target_=\"torch.optim.Adam\"),\n",
    "    scheduler=dict(\n",
    "        function=dict(_target_=\"src.opts.FlatCos\", num_epochs=10, pct_start=0.7),\n",
    "        metric_to_track=None,\n",
    "        scheduler_interval=\"step\",\n",
    "    ),\n",
    ")\n",
    "\n",
    "cfg = OmegaConf.create(model_hparams)\n",
    "\n",
    "\n",
    "encoder = timm.create_model(\"resnet18\", pretrained=False)\n",
    "model = TransferLearningModel(encoder, cut=-2, c=5, act=nn.ReLU(inplace=True))\n",
    "model = LightningCassava(model=model, conf=cfg)"
   ]
  },
  {
   "cell_type": "code",
   "execution_count": null,
   "metadata": {},
   "outputs": [
    {
     "name": "stderr",
     "output_type": "stream",
     "text": [
      "GPU available: False, used: False\n",
      "TPU available: False, using: 0 TPU cores\n"
     ]
    },
    {
     "data": {
      "application/javascript": [
       "\n",
       "            setTimeout(function() {\n",
       "                var nbb_cell_id = 10;\n",
       "                var nbb_unformatted_code = \"trainer = pl.Trainer(\\n    callbacks=[LitProgressBar(), PrintLogsCallback()],\\n    num_sanity_val_steps=0,\\n    max_epochs=2,\\n    limit_train_batches=1,\\n    limit_val_batches=1,\\n    limit_test_batches=1,\\n    weights_summary=None,\\n)\";\n",
       "                var nbb_formatted_code = \"trainer = pl.Trainer(\\n    callbacks=[LitProgressBar(), PrintLogsCallback()],\\n    num_sanity_val_steps=0,\\n    max_epochs=2,\\n    limit_train_batches=1,\\n    limit_val_batches=1,\\n    limit_test_batches=1,\\n    weights_summary=None,\\n)\";\n",
       "                var nbb_cells = Jupyter.notebook.get_cells();\n",
       "                for (var i = 0; i < nbb_cells.length; ++i) {\n",
       "                    if (nbb_cells[i].input_prompt_number == nbb_cell_id) {\n",
       "                        if (nbb_cells[i].get_text() == nbb_unformatted_code) {\n",
       "                             nbb_cells[i].set_text(nbb_formatted_code);\n",
       "                        }\n",
       "                        break;\n",
       "                    }\n",
       "                }\n",
       "            }, 500);\n",
       "            "
      ],
      "text/plain": [
       "<IPython.core.display.Javascript object>"
      ]
     },
     "metadata": {},
     "output_type": "display_data"
    }
   ],
   "source": [
    "trainer = pl.Trainer(\n",
    "    callbacks=[LitProgressBar(), PrintLogsCallback()],\n",
    "    num_sanity_val_steps=0,\n",
    "    max_epochs=2,\n",
    "    limit_train_batches=1,\n",
    "    limit_val_batches=1,\n",
    "    limit_test_batches=1,\n",
    "    weights_summary=None,\n",
    ")"
   ]
  },
  {
   "cell_type": "code",
   "execution_count": null,
   "metadata": {},
   "outputs": [
    {
     "name": "stderr",
     "output_type": "stream",
     "text": [
      "Data(fold=0, batch_size=8, im_path='../../Datasets/cassava/train_images/')\n",
      "Optimizer(optimizer='Adam', scheduler='FlatCos', lrs=Lrs(encoder_lr=1e-05, fc_lr=0.001), wd=None)\n"
     ]
    },
    {
     "data": {
      "application/vnd.jupyter.widget-view+json": {
       "model_id": "ef30c93bb3734816a2fab63d63982101",
       "version_major": 2,
       "version_minor": 0
      },
      "text/plain": [
       "HBox(children=(FloatProgress(value=1.0, bar_style='info', description='Training', layout=Layout(flex='2'), max…"
      ]
     },
     "metadata": {},
     "output_type": "display_data"
    },
    {
     "name": "stderr",
     "output_type": "stream",
     "text": [
      "[0]: (100.00% done), TrainResult(loss=1.73, acc=0.25, valid_loss=1.61, valid_acc=0.0)\n",
      "[1]: (100.00% done), TrainResult(loss=1.57, acc=0.38, valid_loss=1.59, valid_acc=0.75)\n"
     ]
    },
    {
     "name": "stdout",
     "output_type": "stream",
     "text": [
      "\n"
     ]
    },
    {
     "data": {
      "text/plain": [
       "1"
      ]
     },
     "execution_count": null,
     "metadata": {},
     "output_type": "execute_result"
    },
    {
     "data": {
      "application/javascript": [
       "\n",
       "            setTimeout(function() {\n",
       "                var nbb_cell_id = 11;\n",
       "                var nbb_unformatted_code = \"trainer.fit(model, datamodule=dm)\";\n",
       "                var nbb_formatted_code = \"trainer.fit(model, datamodule=dm)\";\n",
       "                var nbb_cells = Jupyter.notebook.get_cells();\n",
       "                for (var i = 0; i < nbb_cells.length; ++i) {\n",
       "                    if (nbb_cells[i].input_prompt_number == nbb_cell_id) {\n",
       "                        if (nbb_cells[i].get_text() == nbb_unformatted_code) {\n",
       "                             nbb_cells[i].set_text(nbb_formatted_code);\n",
       "                        }\n",
       "                        break;\n",
       "                    }\n",
       "                }\n",
       "            }, 500);\n",
       "            "
      ],
      "text/plain": [
       "<IPython.core.display.Javascript object>"
      ]
     },
     "metadata": {},
     "output_type": "display_data"
    }
   ],
   "source": [
    "trainer.fit(model, datamodule=dm)"
   ]
  },
  {
   "cell_type": "code",
   "execution_count": null,
   "metadata": {},
   "outputs": [
    {
     "data": {
      "application/vnd.jupyter.widget-view+json": {
       "model_id": "603b25f77deb444baa9ead3e1418129a",
       "version_major": 2,
       "version_minor": 0
      },
      "text/plain": [
       "HBox(children=(FloatProgress(value=1.0, bar_style='info', description='Testing', layout=Layout(flex='2'), max=…"
      ]
     },
     "metadata": {},
     "output_type": "display_data"
    },
    {
     "name": "stderr",
     "output_type": "stream",
     "text": [
      "TestResult(test_loss=1.59, test_acc=0.75)\n"
     ]
    },
    {
     "name": "stdout",
     "output_type": "stream",
     "text": [
      "\n"
     ]
    },
    {
     "data": {
      "application/javascript": [
       "\n",
       "            setTimeout(function() {\n",
       "                var nbb_cell_id = 12;\n",
       "                var nbb_unformatted_code = \"_ = trainer.test(model, datamodule=dm, verbose=False)\";\n",
       "                var nbb_formatted_code = \"_ = trainer.test(model, datamodule=dm, verbose=False)\";\n",
       "                var nbb_cells = Jupyter.notebook.get_cells();\n",
       "                for (var i = 0; i < nbb_cells.length; ++i) {\n",
       "                    if (nbb_cells[i].input_prompt_number == nbb_cell_id) {\n",
       "                        if (nbb_cells[i].get_text() == nbb_unformatted_code) {\n",
       "                             nbb_cells[i].set_text(nbb_formatted_code);\n",
       "                        }\n",
       "                        break;\n",
       "                    }\n",
       "                }\n",
       "            }, 500);\n",
       "            "
      ],
      "text/plain": [
       "<IPython.core.display.Javascript object>"
      ]
     },
     "metadata": {},
     "output_type": "display_data"
    }
   ],
   "source": [
    "_ = trainer.test(model, datamodule=dm, verbose=False)"
   ]
  },
  {
   "cell_type": "code",
   "execution_count": null,
   "metadata": {},
   "outputs": [
    {
     "name": "stdout",
     "output_type": "stream",
     "text": [
      "Converted 00_core.ipynb.\n",
      "Converted 01_mixmethods.ipynb.\n",
      "Converted 02_losses.ipynb.\n",
      "Converted 03_layers.ipynb.\n",
      "Converted 03a_networks.ipynb.\n",
      "Converted 04_optimizers_schedules.ipynb.\n",
      "Converted 05_lightning.core.ipynb.\n",
      "Converted 05a_lightning.callbacks.ipynb.\n",
      "Converted 06_fastai.core.ipynb.\n",
      "Converted index.ipynb.\n"
     ]
    },
    {
     "data": {
      "application/javascript": [
       "\n",
       "            setTimeout(function() {\n",
       "                var nbb_cell_id = 13;\n",
       "                var nbb_unformatted_code = \"# hide\\nfrom nbdev.export import *\\n\\nnotebook2script()\";\n",
       "                var nbb_formatted_code = \"# hide\\nfrom nbdev.export import *\\n\\nnotebook2script()\";\n",
       "                var nbb_cells = Jupyter.notebook.get_cells();\n",
       "                for (var i = 0; i < nbb_cells.length; ++i) {\n",
       "                    if (nbb_cells[i].input_prompt_number == nbb_cell_id) {\n",
       "                        if (nbb_cells[i].get_text() == nbb_unformatted_code) {\n",
       "                             nbb_cells[i].set_text(nbb_formatted_code);\n",
       "                        }\n",
       "                        break;\n",
       "                    }\n",
       "                }\n",
       "            }, 500);\n",
       "            "
      ],
      "text/plain": [
       "<IPython.core.display.Javascript object>"
      ]
     },
     "metadata": {},
     "output_type": "display_data"
    }
   ],
   "source": [
    "# hide\n",
    "from nbdev.export import *\n",
    "\n",
    "notebook2script()"
   ]
  },
  {
   "cell_type": "code",
   "execution_count": null,
   "metadata": {},
   "outputs": [],
   "source": []
  }
 ],
 "metadata": {
  "kernelspec": {
   "display_name": "pytorch",
   "language": "python",
   "name": "pytorch"
  }
 },
 "nbformat": 4,
 "nbformat_minor": 4
}
